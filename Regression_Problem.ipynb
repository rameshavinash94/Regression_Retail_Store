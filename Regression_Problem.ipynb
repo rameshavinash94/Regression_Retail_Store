{
  "cells": [
    {
      "cell_type": "markdown",
      "source": [
        "<a href=\"https://colab.research.google.com/github/rameshavinash94/Customer_Segmentation_Clustering/blob/main/Customer_Segmentation.ipynb\" target=\"_parent\"><img src=\"https://colab.research.google.com/assets/colab-badge.svg\" alt=\"Open In Colab\"/></a>"
      ],
      "metadata": {
        "colab_type": "text",
        "id": "view-in-github"
      }
    },
    {
      "cell_type": "markdown",
      "source": [
        "# **Estimating Delivery  date**"
      ],
      "metadata": {
        "id": "sqelBb2gh2ix"
      }
    },
    {
      "cell_type": "markdown",
      "source": [
        "**Our Business Problem:**\n",
        "\n",
        "Predicting Olist Delivery date\n"
      ],
      "metadata": {
        "id": "_Hc0HOAJJIky"
      }
    },
    {
      "cell_type": "markdown",
      "source": [
        "#### **IMPORTING LIBRARIES**"
      ],
      "metadata": {
        "id": "cWcZ1dkBiAOu"
      }
    },
    {
      "cell_type": "code",
      "source": [
        "import pandas as pd\n",
        "import numpy as np\n",
        "import matplotlib.pyplot as plt\n",
        "import missingno as msno\n",
        "import seaborn as sns\n",
        "from sklearn.preprocessing import StandardScaler\n",
        "from sklearn.cluster import KMeans\n",
        "from sklearn.metrics import silhouette_score, calinski_harabasz_score, davies_bouldin_score\n",
        "import plotly.express as px\n",
        "from sklearn.cluster import AgglomerativeClustering"
      ],
      "outputs": [],
      "execution_count": 420,
      "metadata": {
        "id": "iaSivMr8cZ-N",
        "gather": {
          "logged": 1646292405288
        }
      }
    },
    {
      "cell_type": "markdown",
      "source": [
        "**Load the datasets**"
      ],
      "metadata": {
        "id": "jUYohYHfk5Vx"
      }
    },
    {
      "cell_type": "code",
      "source": [
        "customers = pd.read_csv('olist_customers_dataset.csv')\n",
        "order_items = pd.read_csv('olist_order_items_dataset.csv')\n",
        "order_payment= pd.read_csv('olist_order_payments_dataset.csv')\n",
        "geolocation = pd.read_csv('olist_geolocation_dataset.csv')\n",
        "order_reviews = pd.read_csv('olist_order_reviews_dataset.csv')\n",
        "orders = pd.read_csv('olist_orders_dataset.csv')\n",
        "products = pd.read_csv('olist_products_dataset.csv')\n",
        "sellers = pd.read_csv('olist_sellers_dataset.csv')\n",
        "product_category_name = pd.read_csv('product_category_name_translation.csv')"
      ],
      "outputs": [],
      "execution_count": 421,
      "metadata": {
        "id": "cOkgKwPAk4cx",
        "gather": {
          "logged": 1646292409627
        }
      }
    },
    {
      "cell_type": "markdown",
      "source": [
        "The ER/Data Modeling Structure of the Datasource\n",
        "<div>\n",
        "<img src='https://i.imgur.com/HRhd2Y0.png'>\n",
        "</div>\n"
      ],
      "metadata": {
        "id": "ZXYMdSxTGIXg"
      }
    },
    {
      "cell_type": "markdown",
      "source": [
        "*We won't require all the above datasets for our current business usecase for customer segmentation, so selectiong on the necessary files and carryon the EDA and data wrangling on the datasets.*"
      ],
      "metadata": {
        "id": "eDeTJyg4mUYI"
      }
    },
    {
      "cell_type": "code",
      "source": [
        "location_info = geolocation.groupby('geolocation_zip_code_prefix').max().drop_duplicates().reset_index()"
      ],
      "outputs": [],
      "execution_count": 422,
      "metadata": {
        "jupyter": {
          "source_hidden": false,
          "outputs_hidden": false
        },
        "nteract": {
          "transient": {
            "deleting": false
          }
        },
        "gather": {
          "logged": 1646292422163
        }
      }
    },
    {
      "cell_type": "code",
      "source": [
        "location_info"
      ],
      "outputs": [
        {
          "output_type": "execute_result",
          "execution_count": 423,
          "data": {
            "text/plain": "       geolocation_zip_code_prefix  geolocation_lat  geolocation_lng  \\\n0                             1001       -23.549292       -46.633559   \n1                             1002       -23.544641       -46.633180   \n2                             1003       -23.548901       -46.634862   \n3                             1004       -23.549181       -46.634057   \n4                             1005       -23.548758       -46.634768   \n...                            ...              ...              ...   \n18993                        99960       -27.953409       -52.016483   \n18994                        99965       -28.173892       -52.034367   \n18995                        99970       -28.341329       -51.870397   \n18996                        99980       -28.386239       -51.779942   \n18997                        99990       -28.329472       -51.769109   \n\n      geolocation_city geolocation_state  \n0            são paulo                SP  \n1            são paulo                SP  \n2            são paulo                SP  \n3            são paulo                SP  \n4            são paulo                SP  \n...                ...               ...  \n18993          charrua                RS  \n18994       agua santa                RS  \n18995          ciríaco                RS  \n18996  david canabarro                RS  \n18997        muliterno                RS  \n\n[18998 rows x 5 columns]",
            "text/html": "<div>\n<style scoped>\n    .dataframe tbody tr th:only-of-type {\n        vertical-align: middle;\n    }\n\n    .dataframe tbody tr th {\n        vertical-align: top;\n    }\n\n    .dataframe thead th {\n        text-align: right;\n    }\n</style>\n<table border=\"1\" class=\"dataframe\">\n  <thead>\n    <tr style=\"text-align: right;\">\n      <th></th>\n      <th>geolocation_zip_code_prefix</th>\n      <th>geolocation_lat</th>\n      <th>geolocation_lng</th>\n      <th>geolocation_city</th>\n      <th>geolocation_state</th>\n    </tr>\n  </thead>\n  <tbody>\n    <tr>\n      <th>0</th>\n      <td>1001</td>\n      <td>-23.549292</td>\n      <td>-46.633559</td>\n      <td>são paulo</td>\n      <td>SP</td>\n    </tr>\n    <tr>\n      <th>1</th>\n      <td>1002</td>\n      <td>-23.544641</td>\n      <td>-46.633180</td>\n      <td>são paulo</td>\n      <td>SP</td>\n    </tr>\n    <tr>\n      <th>2</th>\n      <td>1003</td>\n      <td>-23.548901</td>\n      <td>-46.634862</td>\n      <td>são paulo</td>\n      <td>SP</td>\n    </tr>\n    <tr>\n      <th>3</th>\n      <td>1004</td>\n      <td>-23.549181</td>\n      <td>-46.634057</td>\n      <td>são paulo</td>\n      <td>SP</td>\n    </tr>\n    <tr>\n      <th>4</th>\n      <td>1005</td>\n      <td>-23.548758</td>\n      <td>-46.634768</td>\n      <td>são paulo</td>\n      <td>SP</td>\n    </tr>\n    <tr>\n      <th>...</th>\n      <td>...</td>\n      <td>...</td>\n      <td>...</td>\n      <td>...</td>\n      <td>...</td>\n    </tr>\n    <tr>\n      <th>18993</th>\n      <td>99960</td>\n      <td>-27.953409</td>\n      <td>-52.016483</td>\n      <td>charrua</td>\n      <td>RS</td>\n    </tr>\n    <tr>\n      <th>18994</th>\n      <td>99965</td>\n      <td>-28.173892</td>\n      <td>-52.034367</td>\n      <td>agua santa</td>\n      <td>RS</td>\n    </tr>\n    <tr>\n      <th>18995</th>\n      <td>99970</td>\n      <td>-28.341329</td>\n      <td>-51.870397</td>\n      <td>ciríaco</td>\n      <td>RS</td>\n    </tr>\n    <tr>\n      <th>18996</th>\n      <td>99980</td>\n      <td>-28.386239</td>\n      <td>-51.779942</td>\n      <td>david canabarro</td>\n      <td>RS</td>\n    </tr>\n    <tr>\n      <th>18997</th>\n      <td>99990</td>\n      <td>-28.329472</td>\n      <td>-51.769109</td>\n      <td>muliterno</td>\n      <td>RS</td>\n    </tr>\n  </tbody>\n</table>\n<p>18998 rows × 5 columns</p>\n</div>"
          },
          "metadata": {}
        }
      ],
      "execution_count": 423,
      "metadata": {
        "jupyter": {
          "source_hidden": false,
          "outputs_hidden": false
        },
        "nteract": {
          "transient": {
            "deleting": false
          }
        },
        "gather": {
          "logged": 1646292422263
        }
      }
    },
    {
      "cell_type": "code",
      "source": [
        "customers_location=pd.merge(customers,location_info,left_on='customer_zip_code_prefix',right_on='geolocation_zip_code_prefix').drop(columns=['geolocation_zip_code_prefix','geolocation_city','geolocation_state','customer_unique_id']).rename(columns={'geolocation_lat':'customer_lat','geolocation_lng':'customer_lng'})"
      ],
      "outputs": [],
      "execution_count": 424,
      "metadata": {
        "jupyter": {
          "source_hidden": false,
          "outputs_hidden": false
        },
        "nteract": {
          "transient": {
            "deleting": false
          }
        },
        "gather": {
          "logged": 1646292422354
        }
      }
    },
    {
      "cell_type": "code",
      "source": [
        "customers_location"
      ],
      "outputs": [
        {
          "output_type": "execute_result",
          "execution_count": 425,
          "data": {
            "text/plain": "                            customer_id  customer_zip_code_prefix  \\\n0      06b8999e2fba1a1fbc88172c00ba8bc7                     14409   \n1      5dca924cc99eea2dc5ba40d11ec5dd0f                     14409   \n2      661897d4968f1b59bfff74c7eb2eb4fc                     14409   \n3      702b62324327ccba20f1be3465426437                     14409   \n4      bdf997bae7ca819b0415f5174d6b4302                     14409   \n...                                 ...                       ...   \n99128  0b7a30ba373aeb55cf28add5b5477956                     87145   \n99129  ff6b440b2465bfaef05c675efb48cd15                     98860   \n99130  3f7029d9b98a47370cd5f3a97adcbccd                      5538   \n99131  d9110683c7a282144e9fc97660026a28                     74980   \n99132  6fb4f2354f36e554ac80141e9128f528                     99043   \n\n              customer_city customer_state  customer_lat  customer_lng  \n0                    franca             SP    -20.468849    -47.382173  \n1                    franca             SP    -20.468849    -47.382173  \n2                    franca             SP    -20.468849    -47.382173  \n3                    franca             SP    -20.468849    -47.382173  \n4                    franca             SP    -20.468849    -47.382173  \n...                     ...            ...           ...           ...  \n99128              paicandu             PR    -23.501620    -52.150755  \n99129     eugenio de castro             RS    -28.525494    -54.144722  \n99130             sao paulo             SP    -23.587405    -46.736508  \n99131  aparecida de goiania             GO    -16.821692    -49.243077  \n99132           passo fundo             RS    -28.226596    -52.467505  \n\n[99133 rows x 6 columns]",
            "text/html": "<div>\n<style scoped>\n    .dataframe tbody tr th:only-of-type {\n        vertical-align: middle;\n    }\n\n    .dataframe tbody tr th {\n        vertical-align: top;\n    }\n\n    .dataframe thead th {\n        text-align: right;\n    }\n</style>\n<table border=\"1\" class=\"dataframe\">\n  <thead>\n    <tr style=\"text-align: right;\">\n      <th></th>\n      <th>customer_id</th>\n      <th>customer_zip_code_prefix</th>\n      <th>customer_city</th>\n      <th>customer_state</th>\n      <th>customer_lat</th>\n      <th>customer_lng</th>\n    </tr>\n  </thead>\n  <tbody>\n    <tr>\n      <th>0</th>\n      <td>06b8999e2fba1a1fbc88172c00ba8bc7</td>\n      <td>14409</td>\n      <td>franca</td>\n      <td>SP</td>\n      <td>-20.468849</td>\n      <td>-47.382173</td>\n    </tr>\n    <tr>\n      <th>1</th>\n      <td>5dca924cc99eea2dc5ba40d11ec5dd0f</td>\n      <td>14409</td>\n      <td>franca</td>\n      <td>SP</td>\n      <td>-20.468849</td>\n      <td>-47.382173</td>\n    </tr>\n    <tr>\n      <th>2</th>\n      <td>661897d4968f1b59bfff74c7eb2eb4fc</td>\n      <td>14409</td>\n      <td>franca</td>\n      <td>SP</td>\n      <td>-20.468849</td>\n      <td>-47.382173</td>\n    </tr>\n    <tr>\n      <th>3</th>\n      <td>702b62324327ccba20f1be3465426437</td>\n      <td>14409</td>\n      <td>franca</td>\n      <td>SP</td>\n      <td>-20.468849</td>\n      <td>-47.382173</td>\n    </tr>\n    <tr>\n      <th>4</th>\n      <td>bdf997bae7ca819b0415f5174d6b4302</td>\n      <td>14409</td>\n      <td>franca</td>\n      <td>SP</td>\n      <td>-20.468849</td>\n      <td>-47.382173</td>\n    </tr>\n    <tr>\n      <th>...</th>\n      <td>...</td>\n      <td>...</td>\n      <td>...</td>\n      <td>...</td>\n      <td>...</td>\n      <td>...</td>\n    </tr>\n    <tr>\n      <th>99128</th>\n      <td>0b7a30ba373aeb55cf28add5b5477956</td>\n      <td>87145</td>\n      <td>paicandu</td>\n      <td>PR</td>\n      <td>-23.501620</td>\n      <td>-52.150755</td>\n    </tr>\n    <tr>\n      <th>99129</th>\n      <td>ff6b440b2465bfaef05c675efb48cd15</td>\n      <td>98860</td>\n      <td>eugenio de castro</td>\n      <td>RS</td>\n      <td>-28.525494</td>\n      <td>-54.144722</td>\n    </tr>\n    <tr>\n      <th>99130</th>\n      <td>3f7029d9b98a47370cd5f3a97adcbccd</td>\n      <td>5538</td>\n      <td>sao paulo</td>\n      <td>SP</td>\n      <td>-23.587405</td>\n      <td>-46.736508</td>\n    </tr>\n    <tr>\n      <th>99131</th>\n      <td>d9110683c7a282144e9fc97660026a28</td>\n      <td>74980</td>\n      <td>aparecida de goiania</td>\n      <td>GO</td>\n      <td>-16.821692</td>\n      <td>-49.243077</td>\n    </tr>\n    <tr>\n      <th>99132</th>\n      <td>6fb4f2354f36e554ac80141e9128f528</td>\n      <td>99043</td>\n      <td>passo fundo</td>\n      <td>RS</td>\n      <td>-28.226596</td>\n      <td>-52.467505</td>\n    </tr>\n  </tbody>\n</table>\n<p>99133 rows × 6 columns</p>\n</div>"
          },
          "metadata": {}
        }
      ],
      "execution_count": 425,
      "metadata": {
        "jupyter": {
          "source_hidden": false,
          "outputs_hidden": false
        },
        "nteract": {
          "transient": {
            "deleting": false
          }
        },
        "gather": {
          "logged": 1646292422445
        }
      }
    },
    {
      "cell_type": "code",
      "source": [
        "seller_locations=pd.merge(sellers,location_info,left_on='seller_zip_code_prefix',right_on='geolocation_zip_code_prefix').drop(columns=['geolocation_zip_code_prefix','geolocation_city','geolocation_state']).rename(columns={'geolocation_lat':'seller_lat','geolocation_lng':'seller_lng'})"
      ],
      "outputs": [],
      "execution_count": 426,
      "metadata": {
        "jupyter": {
          "source_hidden": false,
          "outputs_hidden": false
        },
        "nteract": {
          "transient": {
            "deleting": false
          }
        },
        "gather": {
          "logged": 1646292422508
        }
      }
    },
    {
      "cell_type": "code",
      "source": [
        "seller_locations"
      ],
      "outputs": [
        {
          "output_type": "execute_result",
          "execution_count": 427,
          "data": {
            "text/plain": "                             seller_id  seller_zip_code_prefix  \\\n0     3442f8959a84dea7ee197c632cb2df15                   13023   \n1     e0eabded302882513ced4ea3eb0c7059                   13023   \n2     d1b65fc7debc3361ea86b5f14c68d2e2                   13844   \n3     ce3ad9de960102d0677a81f5d0bb7b2d                   20031   \n4     1d2732ef8321502ee8488e8bed1ab8cd                   20031   \n...                                ...                     ...   \n3083  f1fdf2d13186575751aa25876536d85c                    5314   \n3084  98dddbc4601dd4443ca174359b237166                   87111   \n3085  74871d19219c7d518d0090283e03c137                    4650   \n3086  e603cf3fec55f8697c9059638d6c8eb5                   96080   \n3087  9e25199f6ef7e7c347120ff175652c3b                   12051   \n\n         seller_city seller_state  seller_lat  seller_lng  \n0           campinas           SP  -22.884842  -47.045846  \n1           campinas           SP  -22.884842  -47.045846  \n2         mogi guacu           SP  -22.347646  -46.920804  \n3     rio de janeiro           RJ  -22.864365  -43.170800  \n4     rio de janeiro           RJ  -22.864365  -43.170800  \n...              ...          ...         ...         ...  \n3083       sao paulo           SP  -23.524115  -46.732087  \n3084         sarandi           PR  -23.434520  -51.859687  \n3085       sao paulo           SP  -23.655006  -46.669658  \n3086         pelotas           RS  -31.709246  -52.307455  \n3087         taubate           SP  -23.003363  -45.544499  \n\n[3088 rows x 6 columns]",
            "text/html": "<div>\n<style scoped>\n    .dataframe tbody tr th:only-of-type {\n        vertical-align: middle;\n    }\n\n    .dataframe tbody tr th {\n        vertical-align: top;\n    }\n\n    .dataframe thead th {\n        text-align: right;\n    }\n</style>\n<table border=\"1\" class=\"dataframe\">\n  <thead>\n    <tr style=\"text-align: right;\">\n      <th></th>\n      <th>seller_id</th>\n      <th>seller_zip_code_prefix</th>\n      <th>seller_city</th>\n      <th>seller_state</th>\n      <th>seller_lat</th>\n      <th>seller_lng</th>\n    </tr>\n  </thead>\n  <tbody>\n    <tr>\n      <th>0</th>\n      <td>3442f8959a84dea7ee197c632cb2df15</td>\n      <td>13023</td>\n      <td>campinas</td>\n      <td>SP</td>\n      <td>-22.884842</td>\n      <td>-47.045846</td>\n    </tr>\n    <tr>\n      <th>1</th>\n      <td>e0eabded302882513ced4ea3eb0c7059</td>\n      <td>13023</td>\n      <td>campinas</td>\n      <td>SP</td>\n      <td>-22.884842</td>\n      <td>-47.045846</td>\n    </tr>\n    <tr>\n      <th>2</th>\n      <td>d1b65fc7debc3361ea86b5f14c68d2e2</td>\n      <td>13844</td>\n      <td>mogi guacu</td>\n      <td>SP</td>\n      <td>-22.347646</td>\n      <td>-46.920804</td>\n    </tr>\n    <tr>\n      <th>3</th>\n      <td>ce3ad9de960102d0677a81f5d0bb7b2d</td>\n      <td>20031</td>\n      <td>rio de janeiro</td>\n      <td>RJ</td>\n      <td>-22.864365</td>\n      <td>-43.170800</td>\n    </tr>\n    <tr>\n      <th>4</th>\n      <td>1d2732ef8321502ee8488e8bed1ab8cd</td>\n      <td>20031</td>\n      <td>rio de janeiro</td>\n      <td>RJ</td>\n      <td>-22.864365</td>\n      <td>-43.170800</td>\n    </tr>\n    <tr>\n      <th>...</th>\n      <td>...</td>\n      <td>...</td>\n      <td>...</td>\n      <td>...</td>\n      <td>...</td>\n      <td>...</td>\n    </tr>\n    <tr>\n      <th>3083</th>\n      <td>f1fdf2d13186575751aa25876536d85c</td>\n      <td>5314</td>\n      <td>sao paulo</td>\n      <td>SP</td>\n      <td>-23.524115</td>\n      <td>-46.732087</td>\n    </tr>\n    <tr>\n      <th>3084</th>\n      <td>98dddbc4601dd4443ca174359b237166</td>\n      <td>87111</td>\n      <td>sarandi</td>\n      <td>PR</td>\n      <td>-23.434520</td>\n      <td>-51.859687</td>\n    </tr>\n    <tr>\n      <th>3085</th>\n      <td>74871d19219c7d518d0090283e03c137</td>\n      <td>4650</td>\n      <td>sao paulo</td>\n      <td>SP</td>\n      <td>-23.655006</td>\n      <td>-46.669658</td>\n    </tr>\n    <tr>\n      <th>3086</th>\n      <td>e603cf3fec55f8697c9059638d6c8eb5</td>\n      <td>96080</td>\n      <td>pelotas</td>\n      <td>RS</td>\n      <td>-31.709246</td>\n      <td>-52.307455</td>\n    </tr>\n    <tr>\n      <th>3087</th>\n      <td>9e25199f6ef7e7c347120ff175652c3b</td>\n      <td>12051</td>\n      <td>taubate</td>\n      <td>SP</td>\n      <td>-23.003363</td>\n      <td>-45.544499</td>\n    </tr>\n  </tbody>\n</table>\n<p>3088 rows × 6 columns</p>\n</div>"
          },
          "metadata": {}
        }
      ],
      "execution_count": 427,
      "metadata": {
        "colab": {
          "base_uri": "https://localhost:8080/"
        },
        "id": "htDGcAJjMIBi",
        "outputId": "13b0ec17-8517-481c-fd88-baa3f2c4a166",
        "gather": {
          "logged": 1646292422606
        }
      }
    },
    {
      "cell_type": "code",
      "source": [
        "orders"
      ],
      "outputs": [
        {
          "output_type": "execute_result",
          "execution_count": 428,
          "data": {
            "text/plain": "                               order_id                       customer_id  \\\n0      e481f51cbdc54678b7cc49136f2d6af7  9ef432eb6251297304e76186b10a928d   \n1      53cdb2fc8bc7dce0b6741e2150273451  b0830fb4747a6c6d20dea0b8c802d7ef   \n2      47770eb9100c2d0c44946d9cf07ec65d  41ce2a54c0b03bf3443c3d931a367089   \n3      949d5b44dbf5de918fe9c16f97b45f8a  f88197465ea7920adcdbec7375364d82   \n4      ad21c59c0840e6cb83a9ceb5573f8159  8ab97904e6daea8866dbdbc4fb7aad2c   \n...                                 ...                               ...   \n99436  9c5dedf39a927c1b2549525ed64a053c  39bd1228ee8140590ac3aca26f2dfe00   \n99437  63943bddc261676b46f01ca7ac2f7bd8  1fca14ff2861355f6e5f14306ff977a7   \n99438  83c1379a015df1e13d02aae0204711ab  1aa71eb042121263aafbe80c1b562c9c   \n99439  11c177c8e97725db2631073c19f07b62  b331b74b18dc79bcdf6532d51e1637c1   \n99440  66dea50a8b16d9b4dee7af250b4be1a5  edb027a75a1449115f6b43211ae02a24   \n\n      order_status order_purchase_timestamp    order_approved_at  \\\n0        delivered      2017-10-02 10:56:33  2017-10-02 11:07:15   \n1        delivered      2018-07-24 20:41:37  2018-07-26 03:24:27   \n2        delivered      2018-08-08 08:38:49  2018-08-08 08:55:23   \n3        delivered      2017-11-18 19:28:06  2017-11-18 19:45:59   \n4        delivered      2018-02-13 21:18:39  2018-02-13 22:20:29   \n...            ...                      ...                  ...   \n99436    delivered      2017-03-09 09:54:05  2017-03-09 09:54:05   \n99437    delivered      2018-02-06 12:58:58  2018-02-06 13:10:37   \n99438    delivered      2017-08-27 14:46:43  2017-08-27 15:04:16   \n99439    delivered      2018-01-08 21:28:27  2018-01-08 21:36:21   \n99440    delivered      2018-03-08 20:57:30  2018-03-09 11:20:28   \n\n      order_delivered_carrier_date order_delivered_customer_date  \\\n0              2017-10-04 19:55:00           2017-10-10 21:25:13   \n1              2018-07-26 14:31:00           2018-08-07 15:27:45   \n2              2018-08-08 13:50:00           2018-08-17 18:06:29   \n3              2017-11-22 13:39:59           2017-12-02 00:28:42   \n4              2018-02-14 19:46:34           2018-02-16 18:17:02   \n...                            ...                           ...   \n99436          2017-03-10 11:18:03           2017-03-17 15:08:01   \n99437          2018-02-07 23:22:42           2018-02-28 17:37:56   \n99438          2017-08-28 20:52:26           2017-09-21 11:24:17   \n99439          2018-01-12 15:35:03           2018-01-25 23:32:54   \n99440          2018-03-09 22:11:59           2018-03-16 13:08:30   \n\n      order_estimated_delivery_date  \n0               2017-10-18 00:00:00  \n1               2018-08-13 00:00:00  \n2               2018-09-04 00:00:00  \n3               2017-12-15 00:00:00  \n4               2018-02-26 00:00:00  \n...                             ...  \n99436           2017-03-28 00:00:00  \n99437           2018-03-02 00:00:00  \n99438           2017-09-27 00:00:00  \n99439           2018-02-15 00:00:00  \n99440           2018-04-03 00:00:00  \n\n[99441 rows x 8 columns]",
            "text/html": "<div>\n<style scoped>\n    .dataframe tbody tr th:only-of-type {\n        vertical-align: middle;\n    }\n\n    .dataframe tbody tr th {\n        vertical-align: top;\n    }\n\n    .dataframe thead th {\n        text-align: right;\n    }\n</style>\n<table border=\"1\" class=\"dataframe\">\n  <thead>\n    <tr style=\"text-align: right;\">\n      <th></th>\n      <th>order_id</th>\n      <th>customer_id</th>\n      <th>order_status</th>\n      <th>order_purchase_timestamp</th>\n      <th>order_approved_at</th>\n      <th>order_delivered_carrier_date</th>\n      <th>order_delivered_customer_date</th>\n      <th>order_estimated_delivery_date</th>\n    </tr>\n  </thead>\n  <tbody>\n    <tr>\n      <th>0</th>\n      <td>e481f51cbdc54678b7cc49136f2d6af7</td>\n      <td>9ef432eb6251297304e76186b10a928d</td>\n      <td>delivered</td>\n      <td>2017-10-02 10:56:33</td>\n      <td>2017-10-02 11:07:15</td>\n      <td>2017-10-04 19:55:00</td>\n      <td>2017-10-10 21:25:13</td>\n      <td>2017-10-18 00:00:00</td>\n    </tr>\n    <tr>\n      <th>1</th>\n      <td>53cdb2fc8bc7dce0b6741e2150273451</td>\n      <td>b0830fb4747a6c6d20dea0b8c802d7ef</td>\n      <td>delivered</td>\n      <td>2018-07-24 20:41:37</td>\n      <td>2018-07-26 03:24:27</td>\n      <td>2018-07-26 14:31:00</td>\n      <td>2018-08-07 15:27:45</td>\n      <td>2018-08-13 00:00:00</td>\n    </tr>\n    <tr>\n      <th>2</th>\n      <td>47770eb9100c2d0c44946d9cf07ec65d</td>\n      <td>41ce2a54c0b03bf3443c3d931a367089</td>\n      <td>delivered</td>\n      <td>2018-08-08 08:38:49</td>\n      <td>2018-08-08 08:55:23</td>\n      <td>2018-08-08 13:50:00</td>\n      <td>2018-08-17 18:06:29</td>\n      <td>2018-09-04 00:00:00</td>\n    </tr>\n    <tr>\n      <th>3</th>\n      <td>949d5b44dbf5de918fe9c16f97b45f8a</td>\n      <td>f88197465ea7920adcdbec7375364d82</td>\n      <td>delivered</td>\n      <td>2017-11-18 19:28:06</td>\n      <td>2017-11-18 19:45:59</td>\n      <td>2017-11-22 13:39:59</td>\n      <td>2017-12-02 00:28:42</td>\n      <td>2017-12-15 00:00:00</td>\n    </tr>\n    <tr>\n      <th>4</th>\n      <td>ad21c59c0840e6cb83a9ceb5573f8159</td>\n      <td>8ab97904e6daea8866dbdbc4fb7aad2c</td>\n      <td>delivered</td>\n      <td>2018-02-13 21:18:39</td>\n      <td>2018-02-13 22:20:29</td>\n      <td>2018-02-14 19:46:34</td>\n      <td>2018-02-16 18:17:02</td>\n      <td>2018-02-26 00:00:00</td>\n    </tr>\n    <tr>\n      <th>...</th>\n      <td>...</td>\n      <td>...</td>\n      <td>...</td>\n      <td>...</td>\n      <td>...</td>\n      <td>...</td>\n      <td>...</td>\n      <td>...</td>\n    </tr>\n    <tr>\n      <th>99436</th>\n      <td>9c5dedf39a927c1b2549525ed64a053c</td>\n      <td>39bd1228ee8140590ac3aca26f2dfe00</td>\n      <td>delivered</td>\n      <td>2017-03-09 09:54:05</td>\n      <td>2017-03-09 09:54:05</td>\n      <td>2017-03-10 11:18:03</td>\n      <td>2017-03-17 15:08:01</td>\n      <td>2017-03-28 00:00:00</td>\n    </tr>\n    <tr>\n      <th>99437</th>\n      <td>63943bddc261676b46f01ca7ac2f7bd8</td>\n      <td>1fca14ff2861355f6e5f14306ff977a7</td>\n      <td>delivered</td>\n      <td>2018-02-06 12:58:58</td>\n      <td>2018-02-06 13:10:37</td>\n      <td>2018-02-07 23:22:42</td>\n      <td>2018-02-28 17:37:56</td>\n      <td>2018-03-02 00:00:00</td>\n    </tr>\n    <tr>\n      <th>99438</th>\n      <td>83c1379a015df1e13d02aae0204711ab</td>\n      <td>1aa71eb042121263aafbe80c1b562c9c</td>\n      <td>delivered</td>\n      <td>2017-08-27 14:46:43</td>\n      <td>2017-08-27 15:04:16</td>\n      <td>2017-08-28 20:52:26</td>\n      <td>2017-09-21 11:24:17</td>\n      <td>2017-09-27 00:00:00</td>\n    </tr>\n    <tr>\n      <th>99439</th>\n      <td>11c177c8e97725db2631073c19f07b62</td>\n      <td>b331b74b18dc79bcdf6532d51e1637c1</td>\n      <td>delivered</td>\n      <td>2018-01-08 21:28:27</td>\n      <td>2018-01-08 21:36:21</td>\n      <td>2018-01-12 15:35:03</td>\n      <td>2018-01-25 23:32:54</td>\n      <td>2018-02-15 00:00:00</td>\n    </tr>\n    <tr>\n      <th>99440</th>\n      <td>66dea50a8b16d9b4dee7af250b4be1a5</td>\n      <td>edb027a75a1449115f6b43211ae02a24</td>\n      <td>delivered</td>\n      <td>2018-03-08 20:57:30</td>\n      <td>2018-03-09 11:20:28</td>\n      <td>2018-03-09 22:11:59</td>\n      <td>2018-03-16 13:08:30</td>\n      <td>2018-04-03 00:00:00</td>\n    </tr>\n  </tbody>\n</table>\n<p>99441 rows × 8 columns</p>\n</div>"
          },
          "metadata": {}
        }
      ],
      "execution_count": 428,
      "metadata": {
        "jupyter": {
          "source_hidden": false,
          "outputs_hidden": false
        },
        "nteract": {
          "transient": {
            "deleting": false
          }
        },
        "gather": {
          "logged": 1646292422706
        }
      }
    },
    {
      "cell_type": "code",
      "source": [
        "product_info = pd.merge(order_items,products)"
      ],
      "outputs": [],
      "execution_count": 429,
      "metadata": {
        "colab": {
          "base_uri": "https://localhost:8080/",
          "height": 515
        },
        "id": "qmaY-8w-ML7e",
        "outputId": "b8c6032b-5154-4d8e-f223-0b91ecc4e8d4",
        "gather": {
          "logged": 1646292422766
        }
      }
    },
    {
      "cell_type": "code",
      "source": [
        "order_product_info= pd.merge(orders,product_info)"
      ],
      "outputs": [],
      "execution_count": 430,
      "metadata": {
        "jupyter": {
          "source_hidden": false,
          "outputs_hidden": false
        },
        "nteract": {
          "transient": {
            "deleting": false
          }
        },
        "gather": {
          "logged": 1646292422853
        }
      }
    },
    {
      "cell_type": "code",
      "source": [
        "customers_orders=pd.merge(customers_location,order_product_info)"
      ],
      "outputs": [],
      "execution_count": 431,
      "metadata": {
        "colab": {
          "base_uri": "https://localhost:8080/"
        },
        "id": "1wBN5MD-SC1f",
        "outputId": "0c940643-3f99-4d43-eb89-874d0e19988b",
        "gather": {
          "logged": 1646292423098
        }
      }
    },
    {
      "cell_type": "code",
      "source": [
        "final_Df = pd.merge(customers_orders,seller_locations)"
      ],
      "outputs": [],
      "execution_count": 432,
      "metadata": {
        "id": "ffP3cfN7SXx8",
        "gather": {
          "logged": 1646292423222
        }
      }
    },
    {
      "cell_type": "code",
      "source": [
        "final_Df = final_Df[final_Df['order_status']=='delivered']"
      ],
      "outputs": [],
      "execution_count": 433,
      "metadata": {
        "jupyter": {
          "source_hidden": false,
          "outputs_hidden": false
        },
        "nteract": {
          "transient": {
            "deleting": false
          }
        },
        "gather": {
          "logged": 1646292423302
        }
      }
    },
    {
      "cell_type": "code",
      "source": [
        "def haversine_distance(lat1, lon1, lat2, lon2):\n",
        "   r = 6371\n",
        "   phi1 = np.radians(lat1)\n",
        "   phi2 = np.radians(lat2)\n",
        "   delta_phi = np.radians(np.array(lat2) - np.array(lat1))\n",
        "   delta_lambda = np.radians(np.array(lon2) - np.array(lon1))\n",
        "   a = np.sin(delta_phi / 2)**2 + np.cos(phi1) * np.cos(phi2) *   np.sin(delta_lambda / 2)**2\n",
        "   res = r * (2 * np.arctan2(np.sqrt(a), np.sqrt(1 - a)))\n",
        "   return np.round(res*0.6214, 2)"
      ],
      "outputs": [],
      "execution_count": 434,
      "metadata": {
        "jupyter": {
          "source_hidden": false,
          "outputs_hidden": false
        },
        "nteract": {
          "transient": {
            "deleting": false
          }
        },
        "gather": {
          "logged": 1646292423361
        }
      }
    },
    {
      "cell_type": "code",
      "source": [
        "final_Df['distance']= haversine_distance(final_Df['customer_lat'],final_Df['customer_lng'],final_Df['seller_lat'],final_Df['seller_lng'])"
      ],
      "outputs": [],
      "execution_count": 435,
      "metadata": {
        "jupyter": {
          "source_hidden": false,
          "outputs_hidden": false
        },
        "nteract": {
          "transient": {
            "deleting": false
          }
        },
        "gather": {
          "logged": 1646292423436
        }
      }
    },
    {
      "cell_type": "code",
      "source": [
        "final_Df"
      ],
      "outputs": [
        {
          "output_type": "execute_result",
          "execution_count": 436,
          "data": {
            "text/plain": "                             customer_id  customer_zip_code_prefix  \\\n0       06b8999e2fba1a1fbc88172c00ba8bc7                     14409   \n1       4e7b3e00288586ebd08712fdd0374a03                      1151   \n2       b2b6027bc5c5109e529d4dc6358b12c3                      8775   \n3       f2fdb2409d1c2b5018b19767572978d6                     30575   \n4       bf45a4524fffba803efa07f225cdfda5                     20231   \n...                                  ...                       ...   \n112052  d5d4cab5f11cc0e7d3c3882091d815c7                     17320   \n112053  1d3e643209846ffadac771cc5dc1ed4b                     79320   \n112054  124c96fb17eb2fc7f1611d3ca83d11ea                      6887   \n112055  6d0c650bd30f4160b84c3634dd05b509                     17533   \n112057  86025340edc60ca36327c4169f070f8e                     89642   \n\n               customer_city customer_state  customer_lat  customer_lng  \\\n0                     franca             SP    -20.468849    -47.382173   \n1                  sao paulo             SP    -23.527788    -46.652997   \n2            mogi das cruzes             SP    -23.493944    -46.172406   \n3             belo horizonte             MG    -19.818637    -43.929691   \n4             rio de janeiro             RJ    -22.908714    -43.182574   \n...                      ...            ...           ...           ...   \n112052     mineiros do tiete             SP    -22.404782    -48.443557   \n112053               corumba             MS    -19.014518    -57.643125   \n112054  itapecerica da serra             SP    -23.670573    -46.812776   \n112055               marilia             SP    -22.154833    -49.935832   \n112057               tangara             SC    -27.094676    -51.236373   \n\n                                order_id order_status  \\\n0       00e7ee1b050b8499577073aeb2a297a1    delivered   \n1       b2059ed67ce144a36e2aa97d2c9e9ad2    delivered   \n2       951670f92359f4fe4a63112aa7306eba    delivered   \n3       930fb714ff2992c4ff14bf920af830e6    delivered   \n4       22167b7870f3c3b844087c5cbafac521    delivered   \n...                                  ...          ...   \n112052  deef94d95b5cf9c23e10621ad71a96b2    delivered   \n112053  fd0342fda6ba083712b6ed0d4e6ac483    delivered   \n112054  90dbcfe5c30e1fd81cfaf22dc879e81b    delivered   \n112055  1175cf55b833823e2478956d6bb6e43c    delivered   \n112057  e9613fa6e02ff8ae45f37ca30b0468a1    delivered   \n\n       order_purchase_timestamp    order_approved_at  ... product_weight_g  \\\n0           2017-05-16 15:05:35  2017-05-16 15:22:12  ...           8683.0   \n1           2018-05-19 16:07:45  2018-05-20 16:19:10  ...           8267.0   \n2           2018-03-13 16:06:38  2018-03-13 17:29:19  ...          12160.0   \n3           2017-12-03 14:52:12  2017-12-03 14:59:22  ...          11875.0   \n4           2018-03-07 17:56:08  2018-03-09 02:30:55  ...          13175.0   \n...                         ...                  ...  ...              ...   \n112052      2017-03-18 11:40:26  2017-03-18 11:40:26  ...            800.0   \n112053      2018-07-23 16:24:27  2018-07-23 17:21:07  ...           1450.0   \n112054      2018-08-17 10:15:31  2018-08-17 10:30:16  ...           2200.0   \n112055      2017-06-23 07:15:39  2017-06-23 07:25:15  ...            700.0   \n112057      2017-12-20 12:04:33  2017-12-20 12:17:28  ...            217.0   \n\n       product_length_cm product_height_cm  product_width_cm  \\\n0                   54.0              64.0              31.0   \n1                   52.0              52.0              17.0   \n2                   56.0              51.0              28.0   \n3                   57.0              55.0              22.0   \n4                   57.0              55.0              22.0   \n...                  ...               ...               ...   \n112052              28.0              12.0              18.0   \n112053              60.0               5.0              30.0   \n112054              16.0              35.0              49.0   \n112055              16.0              16.0              16.0   \n112057              26.0              11.0              26.0   \n\n       seller_zip_code_prefix      seller_city seller_state  seller_lat  \\\n0                        8577  itaquaquecetuba           SP  -23.479473   \n1                        8577  itaquaquecetuba           SP  -23.479473   \n2                        8577  itaquaquecetuba           SP  -23.479473   \n3                        8577  itaquaquecetuba           SP  -23.479473   \n4                        8577  itaquaquecetuba           SP  -23.479473   \n...                       ...              ...          ...         ...   \n112052                   4164        sao paulo           SP  -23.621342   \n112053                  83323          pinhais           PR  -25.432332   \n112054                   9380             maua           SP  -23.624618   \n112055                  87015          maringa           PR  -23.418061   \n112057                  39442          janauba           MG  -15.784350   \n\n        seller_lng distance  \n0       -46.357851   218.13  \n1       -46.357851    19.00  \n2       -46.357851    11.79  \n3       -46.357851   297.14  \n4       -46.357851   205.48  \n...            ...      ...  \n112052  -46.605415   143.98  \n112053  -49.183859   699.20  \n112054  -46.451878    23.06  \n112055  -51.882767   151.66  \n112057  -43.305738   932.53  \n\n[109625 rows x 33 columns]",
            "text/html": "<div>\n<style scoped>\n    .dataframe tbody tr th:only-of-type {\n        vertical-align: middle;\n    }\n\n    .dataframe tbody tr th {\n        vertical-align: top;\n    }\n\n    .dataframe thead th {\n        text-align: right;\n    }\n</style>\n<table border=\"1\" class=\"dataframe\">\n  <thead>\n    <tr style=\"text-align: right;\">\n      <th></th>\n      <th>customer_id</th>\n      <th>customer_zip_code_prefix</th>\n      <th>customer_city</th>\n      <th>customer_state</th>\n      <th>customer_lat</th>\n      <th>customer_lng</th>\n      <th>order_id</th>\n      <th>order_status</th>\n      <th>order_purchase_timestamp</th>\n      <th>order_approved_at</th>\n      <th>...</th>\n      <th>product_weight_g</th>\n      <th>product_length_cm</th>\n      <th>product_height_cm</th>\n      <th>product_width_cm</th>\n      <th>seller_zip_code_prefix</th>\n      <th>seller_city</th>\n      <th>seller_state</th>\n      <th>seller_lat</th>\n      <th>seller_lng</th>\n      <th>distance</th>\n    </tr>\n  </thead>\n  <tbody>\n    <tr>\n      <th>0</th>\n      <td>06b8999e2fba1a1fbc88172c00ba8bc7</td>\n      <td>14409</td>\n      <td>franca</td>\n      <td>SP</td>\n      <td>-20.468849</td>\n      <td>-47.382173</td>\n      <td>00e7ee1b050b8499577073aeb2a297a1</td>\n      <td>delivered</td>\n      <td>2017-05-16 15:05:35</td>\n      <td>2017-05-16 15:22:12</td>\n      <td>...</td>\n      <td>8683.0</td>\n      <td>54.0</td>\n      <td>64.0</td>\n      <td>31.0</td>\n      <td>8577</td>\n      <td>itaquaquecetuba</td>\n      <td>SP</td>\n      <td>-23.479473</td>\n      <td>-46.357851</td>\n      <td>218.13</td>\n    </tr>\n    <tr>\n      <th>1</th>\n      <td>4e7b3e00288586ebd08712fdd0374a03</td>\n      <td>1151</td>\n      <td>sao paulo</td>\n      <td>SP</td>\n      <td>-23.527788</td>\n      <td>-46.652997</td>\n      <td>b2059ed67ce144a36e2aa97d2c9e9ad2</td>\n      <td>delivered</td>\n      <td>2018-05-19 16:07:45</td>\n      <td>2018-05-20 16:19:10</td>\n      <td>...</td>\n      <td>8267.0</td>\n      <td>52.0</td>\n      <td>52.0</td>\n      <td>17.0</td>\n      <td>8577</td>\n      <td>itaquaquecetuba</td>\n      <td>SP</td>\n      <td>-23.479473</td>\n      <td>-46.357851</td>\n      <td>19.00</td>\n    </tr>\n    <tr>\n      <th>2</th>\n      <td>b2b6027bc5c5109e529d4dc6358b12c3</td>\n      <td>8775</td>\n      <td>mogi das cruzes</td>\n      <td>SP</td>\n      <td>-23.493944</td>\n      <td>-46.172406</td>\n      <td>951670f92359f4fe4a63112aa7306eba</td>\n      <td>delivered</td>\n      <td>2018-03-13 16:06:38</td>\n      <td>2018-03-13 17:29:19</td>\n      <td>...</td>\n      <td>12160.0</td>\n      <td>56.0</td>\n      <td>51.0</td>\n      <td>28.0</td>\n      <td>8577</td>\n      <td>itaquaquecetuba</td>\n      <td>SP</td>\n      <td>-23.479473</td>\n      <td>-46.357851</td>\n      <td>11.79</td>\n    </tr>\n    <tr>\n      <th>3</th>\n      <td>f2fdb2409d1c2b5018b19767572978d6</td>\n      <td>30575</td>\n      <td>belo horizonte</td>\n      <td>MG</td>\n      <td>-19.818637</td>\n      <td>-43.929691</td>\n      <td>930fb714ff2992c4ff14bf920af830e6</td>\n      <td>delivered</td>\n      <td>2017-12-03 14:52:12</td>\n      <td>2017-12-03 14:59:22</td>\n      <td>...</td>\n      <td>11875.0</td>\n      <td>57.0</td>\n      <td>55.0</td>\n      <td>22.0</td>\n      <td>8577</td>\n      <td>itaquaquecetuba</td>\n      <td>SP</td>\n      <td>-23.479473</td>\n      <td>-46.357851</td>\n      <td>297.14</td>\n    </tr>\n    <tr>\n      <th>4</th>\n      <td>bf45a4524fffba803efa07f225cdfda5</td>\n      <td>20231</td>\n      <td>rio de janeiro</td>\n      <td>RJ</td>\n      <td>-22.908714</td>\n      <td>-43.182574</td>\n      <td>22167b7870f3c3b844087c5cbafac521</td>\n      <td>delivered</td>\n      <td>2018-03-07 17:56:08</td>\n      <td>2018-03-09 02:30:55</td>\n      <td>...</td>\n      <td>13175.0</td>\n      <td>57.0</td>\n      <td>55.0</td>\n      <td>22.0</td>\n      <td>8577</td>\n      <td>itaquaquecetuba</td>\n      <td>SP</td>\n      <td>-23.479473</td>\n      <td>-46.357851</td>\n      <td>205.48</td>\n    </tr>\n    <tr>\n      <th>...</th>\n      <td>...</td>\n      <td>...</td>\n      <td>...</td>\n      <td>...</td>\n      <td>...</td>\n      <td>...</td>\n      <td>...</td>\n      <td>...</td>\n      <td>...</td>\n      <td>...</td>\n      <td>...</td>\n      <td>...</td>\n      <td>...</td>\n      <td>...</td>\n      <td>...</td>\n      <td>...</td>\n      <td>...</td>\n      <td>...</td>\n      <td>...</td>\n      <td>...</td>\n      <td>...</td>\n    </tr>\n    <tr>\n      <th>112052</th>\n      <td>d5d4cab5f11cc0e7d3c3882091d815c7</td>\n      <td>17320</td>\n      <td>mineiros do tiete</td>\n      <td>SP</td>\n      <td>-22.404782</td>\n      <td>-48.443557</td>\n      <td>deef94d95b5cf9c23e10621ad71a96b2</td>\n      <td>delivered</td>\n      <td>2017-03-18 11:40:26</td>\n      <td>2017-03-18 11:40:26</td>\n      <td>...</td>\n      <td>800.0</td>\n      <td>28.0</td>\n      <td>12.0</td>\n      <td>18.0</td>\n      <td>4164</td>\n      <td>sao paulo</td>\n      <td>SP</td>\n      <td>-23.621342</td>\n      <td>-46.605415</td>\n      <td>143.98</td>\n    </tr>\n    <tr>\n      <th>112053</th>\n      <td>1d3e643209846ffadac771cc5dc1ed4b</td>\n      <td>79320</td>\n      <td>corumba</td>\n      <td>MS</td>\n      <td>-19.014518</td>\n      <td>-57.643125</td>\n      <td>fd0342fda6ba083712b6ed0d4e6ac483</td>\n      <td>delivered</td>\n      <td>2018-07-23 16:24:27</td>\n      <td>2018-07-23 17:21:07</td>\n      <td>...</td>\n      <td>1450.0</td>\n      <td>60.0</td>\n      <td>5.0</td>\n      <td>30.0</td>\n      <td>83323</td>\n      <td>pinhais</td>\n      <td>PR</td>\n      <td>-25.432332</td>\n      <td>-49.183859</td>\n      <td>699.20</td>\n    </tr>\n    <tr>\n      <th>112054</th>\n      <td>124c96fb17eb2fc7f1611d3ca83d11ea</td>\n      <td>6887</td>\n      <td>itapecerica da serra</td>\n      <td>SP</td>\n      <td>-23.670573</td>\n      <td>-46.812776</td>\n      <td>90dbcfe5c30e1fd81cfaf22dc879e81b</td>\n      <td>delivered</td>\n      <td>2018-08-17 10:15:31</td>\n      <td>2018-08-17 10:30:16</td>\n      <td>...</td>\n      <td>2200.0</td>\n      <td>16.0</td>\n      <td>35.0</td>\n      <td>49.0</td>\n      <td>9380</td>\n      <td>maua</td>\n      <td>SP</td>\n      <td>-23.624618</td>\n      <td>-46.451878</td>\n      <td>23.06</td>\n    </tr>\n    <tr>\n      <th>112055</th>\n      <td>6d0c650bd30f4160b84c3634dd05b509</td>\n      <td>17533</td>\n      <td>marilia</td>\n      <td>SP</td>\n      <td>-22.154833</td>\n      <td>-49.935832</td>\n      <td>1175cf55b833823e2478956d6bb6e43c</td>\n      <td>delivered</td>\n      <td>2017-06-23 07:15:39</td>\n      <td>2017-06-23 07:25:15</td>\n      <td>...</td>\n      <td>700.0</td>\n      <td>16.0</td>\n      <td>16.0</td>\n      <td>16.0</td>\n      <td>87015</td>\n      <td>maringa</td>\n      <td>PR</td>\n      <td>-23.418061</td>\n      <td>-51.882767</td>\n      <td>151.66</td>\n    </tr>\n    <tr>\n      <th>112057</th>\n      <td>86025340edc60ca36327c4169f070f8e</td>\n      <td>89642</td>\n      <td>tangara</td>\n      <td>SC</td>\n      <td>-27.094676</td>\n      <td>-51.236373</td>\n      <td>e9613fa6e02ff8ae45f37ca30b0468a1</td>\n      <td>delivered</td>\n      <td>2017-12-20 12:04:33</td>\n      <td>2017-12-20 12:17:28</td>\n      <td>...</td>\n      <td>217.0</td>\n      <td>26.0</td>\n      <td>11.0</td>\n      <td>26.0</td>\n      <td>39442</td>\n      <td>janauba</td>\n      <td>MG</td>\n      <td>-15.784350</td>\n      <td>-43.305738</td>\n      <td>932.53</td>\n    </tr>\n  </tbody>\n</table>\n<p>109625 rows × 33 columns</p>\n</div>"
          },
          "metadata": {}
        }
      ],
      "execution_count": 436,
      "metadata": {
        "jupyter": {
          "source_hidden": false,
          "outputs_hidden": false
        },
        "nteract": {
          "transient": {
            "deleting": false
          }
        },
        "gather": {
          "logged": 1646292423668
        }
      }
    },
    {
      "cell_type": "code",
      "source": [
        "final_Df.columns"
      ],
      "outputs": [
        {
          "output_type": "execute_result",
          "execution_count": 437,
          "data": {
            "text/plain": "Index(['customer_id', 'customer_zip_code_prefix', 'customer_city',\n       'customer_state', 'customer_lat', 'customer_lng', 'order_id',\n       'order_status', 'order_purchase_timestamp', 'order_approved_at',\n       'order_delivered_carrier_date', 'order_delivered_customer_date',\n       'order_estimated_delivery_date', 'order_item_id', 'product_id',\n       'seller_id', 'shipping_limit_date', 'price', 'freight_value',\n       'product_category_name', 'product_name_lenght',\n       'product_description_lenght', 'product_photos_qty', 'product_weight_g',\n       'product_length_cm', 'product_height_cm', 'product_width_cm',\n       'seller_zip_code_prefix', 'seller_city', 'seller_state', 'seller_lat',\n       'seller_lng', 'distance'],\n      dtype='object')"
          },
          "metadata": {}
        }
      ],
      "execution_count": 437,
      "metadata": {
        "jupyter": {
          "source_hidden": false,
          "outputs_hidden": false
        },
        "nteract": {
          "transient": {
            "deleting": false
          }
        },
        "gather": {
          "logged": 1646292423735
        }
      }
    },
    {
      "cell_type": "code",
      "source": [
        "final_Df[['order_delivered_customer_date','order_purchase_timestamp','order_estimated_delivery_date','order_approved_at','order_delivered_carrier_date','shipping_limit_date']] = final_Df[['order_delivered_customer_date','order_purchase_timestamp','order_estimated_delivery_date','order_approved_at','order_delivered_carrier_date','shipping_limit_date']].apply(pd.to_datetime) # conversion required\n",
        "\n",
        "final_Df['actual_delivery_timeline']=(final_Df['order_delivered_customer_date'] - final_Df['order_purchase_timestamp']).dt.days\n",
        "final_Df['estimated_delivery_timeline']=(final_Df['order_delivered_customer_date'] - final_Df['order_estimated_delivery_date']).dt.days\n",
        "\n",
        "final_Df['Approval_timeline']= (final_Df['order_approved_at'] - final_Df['order_purchase_timestamp']).dt.days\n",
        "final_Df['processing_timeline'] = (final_Df['order_delivered_carrier_date'] - final_Df['order_approved_at']).dt.days\n",
        "final_Df['processing_timeline'] = (final_Df['order_delivered_carrier_date'] - final_Df['order_approved_at']).dt.days\n",
        "final_Df['seller_timeline'] =  (final_Df['order_delivered_carrier_date'] - final_Df['shipping_limit_date']).dt.days"
      ],
      "outputs": [],
      "execution_count": 438,
      "metadata": {
        "jupyter": {
          "source_hidden": false,
          "outputs_hidden": false
        },
        "nteract": {
          "transient": {
            "deleting": false
          }
        },
        "gather": {
          "logged": 1646292423906
        }
      }
    },
    {
      "cell_type": "markdown",
      "source": [
        "The formula to determine the density of an item is: LxWxH / 1728 = Cubic Feet (CU FT), Weight (Pounds)/CU FT = Density (#PCF)"
      ],
      "metadata": {
        "nteract": {
          "transient": {
            "deleting": false
          }
        }
      }
    },
    {
      "cell_type": "code",
      "source": [
        "def density(l,w,h,weight):\n",
        "    l=np.array(l)*0.393701 # to convert to inches\n",
        "    w=np.array(w)*0.393701\n",
        "    h=np.array(h)*0.393701\n",
        "    Cubic_feet = l*w*h/1728\n",
        "    Density = (np.array(weight)*0.00220462)/Cubic_feet\n",
        "    return np.round(Density,2)"
      ],
      "outputs": [],
      "execution_count": 439,
      "metadata": {
        "jupyter": {
          "source_hidden": false,
          "outputs_hidden": false
        },
        "nteract": {
          "transient": {
            "deleting": false
          }
        },
        "gather": {
          "logged": 1646292424019
        }
      }
    },
    {
      "cell_type": "code",
      "source": [
        "final_Df['pkg_density']=density(final_Df['product_length_cm'],final_Df['product_width_cm'],final_Df['product_height_cm'],final_Df['product_weight_g'])"
      ],
      "outputs": [],
      "execution_count": 440,
      "metadata": {
        "jupyter": {
          "source_hidden": false,
          "outputs_hidden": false
        },
        "nteract": {
          "transient": {
            "deleting": false
          }
        },
        "gather": {
          "logged": 1646292424105
        }
      }
    },
    {
      "cell_type": "code",
      "source": [
        "final_Df"
      ],
      "outputs": [
        {
          "output_type": "execute_result",
          "execution_count": 441,
          "data": {
            "text/plain": "                             customer_id  customer_zip_code_prefix  \\\n0       06b8999e2fba1a1fbc88172c00ba8bc7                     14409   \n1       4e7b3e00288586ebd08712fdd0374a03                      1151   \n2       b2b6027bc5c5109e529d4dc6358b12c3                      8775   \n3       f2fdb2409d1c2b5018b19767572978d6                     30575   \n4       bf45a4524fffba803efa07f225cdfda5                     20231   \n...                                  ...                       ...   \n112052  d5d4cab5f11cc0e7d3c3882091d815c7                     17320   \n112053  1d3e643209846ffadac771cc5dc1ed4b                     79320   \n112054  124c96fb17eb2fc7f1611d3ca83d11ea                      6887   \n112055  6d0c650bd30f4160b84c3634dd05b509                     17533   \n112057  86025340edc60ca36327c4169f070f8e                     89642   \n\n               customer_city customer_state  customer_lat  customer_lng  \\\n0                     franca             SP    -20.468849    -47.382173   \n1                  sao paulo             SP    -23.527788    -46.652997   \n2            mogi das cruzes             SP    -23.493944    -46.172406   \n3             belo horizonte             MG    -19.818637    -43.929691   \n4             rio de janeiro             RJ    -22.908714    -43.182574   \n...                      ...            ...           ...           ...   \n112052     mineiros do tiete             SP    -22.404782    -48.443557   \n112053               corumba             MS    -19.014518    -57.643125   \n112054  itapecerica da serra             SP    -23.670573    -46.812776   \n112055               marilia             SP    -22.154833    -49.935832   \n112057               tangara             SC    -27.094676    -51.236373   \n\n                                order_id order_status  \\\n0       00e7ee1b050b8499577073aeb2a297a1    delivered   \n1       b2059ed67ce144a36e2aa97d2c9e9ad2    delivered   \n2       951670f92359f4fe4a63112aa7306eba    delivered   \n3       930fb714ff2992c4ff14bf920af830e6    delivered   \n4       22167b7870f3c3b844087c5cbafac521    delivered   \n...                                  ...          ...   \n112052  deef94d95b5cf9c23e10621ad71a96b2    delivered   \n112053  fd0342fda6ba083712b6ed0d4e6ac483    delivered   \n112054  90dbcfe5c30e1fd81cfaf22dc879e81b    delivered   \n112055  1175cf55b833823e2478956d6bb6e43c    delivered   \n112057  e9613fa6e02ff8ae45f37ca30b0468a1    delivered   \n\n       order_purchase_timestamp   order_approved_at  ... seller_state  \\\n0           2017-05-16 15:05:35 2017-05-16 15:22:12  ...           SP   \n1           2018-05-19 16:07:45 2018-05-20 16:19:10  ...           SP   \n2           2018-03-13 16:06:38 2018-03-13 17:29:19  ...           SP   \n3           2017-12-03 14:52:12 2017-12-03 14:59:22  ...           SP   \n4           2018-03-07 17:56:08 2018-03-09 02:30:55  ...           SP   \n...                         ...                 ...  ...          ...   \n112052      2017-03-18 11:40:26 2017-03-18 11:40:26  ...           SP   \n112053      2018-07-23 16:24:27 2018-07-23 17:21:07  ...           PR   \n112054      2018-08-17 10:15:31 2018-08-17 10:30:16  ...           SP   \n112055      2017-06-23 07:15:39 2017-06-23 07:25:15  ...           PR   \n112057      2017-12-20 12:04:33 2017-12-20 12:17:28  ...           MG   \n\n       seller_lat seller_lng  distance actual_delivery_timeline  \\\n0      -23.479473 -46.357851    218.13                      8.0   \n1      -23.479473 -46.357851     19.00                     26.0   \n2      -23.479473 -46.357851     11.79                     14.0   \n3      -23.479473 -46.357851    297.14                     25.0   \n4      -23.479473 -46.357851    205.48                     18.0   \n...           ...        ...       ...                      ...   \n112052 -23.621342 -46.605415    143.98                      9.0   \n112053 -25.432332 -49.183859    699.20                      9.0   \n112054 -23.624618 -46.451878     23.06                      4.0   \n112055 -23.418061 -51.882767    151.66                     11.0   \n112057 -15.784350 -43.305738    932.53                     19.0   \n\n       estimated_delivery_timeline Approval_timeline  processing_timeline  \\\n0                            -11.0               0.0                  6.0   \n1                              1.0               1.0                 21.0   \n2                            -13.0               0.0                 14.0   \n3                            -14.0               0.0                  9.0   \n4                            -29.0               1.0                 11.0   \n...                            ...               ...                  ...   \n112052                       -10.0               0.0                  3.0   \n112053                       -13.0               0.0                  0.0   \n112054                        -6.0               0.0                  3.0   \n112055                       -14.0               0.0                  4.0   \n112057                       -16.0               0.0                  0.0   \n\n        seller_timeline pkg_density  \n0                   0.0        5.06  \n1                   5.0       11.23  \n2                   0.0        9.49  \n3                  -1.0       10.75  \n4                  -3.0       11.93  \n...                 ...         ...  \n112052             -2.0        8.26  \n112053             -4.0       10.06  \n112054             -3.0        5.01  \n112055             -3.0       10.67  \n112057             -7.0        1.82  \n\n[109625 rows x 39 columns]",
            "text/html": "<div>\n<style scoped>\n    .dataframe tbody tr th:only-of-type {\n        vertical-align: middle;\n    }\n\n    .dataframe tbody tr th {\n        vertical-align: top;\n    }\n\n    .dataframe thead th {\n        text-align: right;\n    }\n</style>\n<table border=\"1\" class=\"dataframe\">\n  <thead>\n    <tr style=\"text-align: right;\">\n      <th></th>\n      <th>customer_id</th>\n      <th>customer_zip_code_prefix</th>\n      <th>customer_city</th>\n      <th>customer_state</th>\n      <th>customer_lat</th>\n      <th>customer_lng</th>\n      <th>order_id</th>\n      <th>order_status</th>\n      <th>order_purchase_timestamp</th>\n      <th>order_approved_at</th>\n      <th>...</th>\n      <th>seller_state</th>\n      <th>seller_lat</th>\n      <th>seller_lng</th>\n      <th>distance</th>\n      <th>actual_delivery_timeline</th>\n      <th>estimated_delivery_timeline</th>\n      <th>Approval_timeline</th>\n      <th>processing_timeline</th>\n      <th>seller_timeline</th>\n      <th>pkg_density</th>\n    </tr>\n  </thead>\n  <tbody>\n    <tr>\n      <th>0</th>\n      <td>06b8999e2fba1a1fbc88172c00ba8bc7</td>\n      <td>14409</td>\n      <td>franca</td>\n      <td>SP</td>\n      <td>-20.468849</td>\n      <td>-47.382173</td>\n      <td>00e7ee1b050b8499577073aeb2a297a1</td>\n      <td>delivered</td>\n      <td>2017-05-16 15:05:35</td>\n      <td>2017-05-16 15:22:12</td>\n      <td>...</td>\n      <td>SP</td>\n      <td>-23.479473</td>\n      <td>-46.357851</td>\n      <td>218.13</td>\n      <td>8.0</td>\n      <td>-11.0</td>\n      <td>0.0</td>\n      <td>6.0</td>\n      <td>0.0</td>\n      <td>5.06</td>\n    </tr>\n    <tr>\n      <th>1</th>\n      <td>4e7b3e00288586ebd08712fdd0374a03</td>\n      <td>1151</td>\n      <td>sao paulo</td>\n      <td>SP</td>\n      <td>-23.527788</td>\n      <td>-46.652997</td>\n      <td>b2059ed67ce144a36e2aa97d2c9e9ad2</td>\n      <td>delivered</td>\n      <td>2018-05-19 16:07:45</td>\n      <td>2018-05-20 16:19:10</td>\n      <td>...</td>\n      <td>SP</td>\n      <td>-23.479473</td>\n      <td>-46.357851</td>\n      <td>19.00</td>\n      <td>26.0</td>\n      <td>1.0</td>\n      <td>1.0</td>\n      <td>21.0</td>\n      <td>5.0</td>\n      <td>11.23</td>\n    </tr>\n    <tr>\n      <th>2</th>\n      <td>b2b6027bc5c5109e529d4dc6358b12c3</td>\n      <td>8775</td>\n      <td>mogi das cruzes</td>\n      <td>SP</td>\n      <td>-23.493944</td>\n      <td>-46.172406</td>\n      <td>951670f92359f4fe4a63112aa7306eba</td>\n      <td>delivered</td>\n      <td>2018-03-13 16:06:38</td>\n      <td>2018-03-13 17:29:19</td>\n      <td>...</td>\n      <td>SP</td>\n      <td>-23.479473</td>\n      <td>-46.357851</td>\n      <td>11.79</td>\n      <td>14.0</td>\n      <td>-13.0</td>\n      <td>0.0</td>\n      <td>14.0</td>\n      <td>0.0</td>\n      <td>9.49</td>\n    </tr>\n    <tr>\n      <th>3</th>\n      <td>f2fdb2409d1c2b5018b19767572978d6</td>\n      <td>30575</td>\n      <td>belo horizonte</td>\n      <td>MG</td>\n      <td>-19.818637</td>\n      <td>-43.929691</td>\n      <td>930fb714ff2992c4ff14bf920af830e6</td>\n      <td>delivered</td>\n      <td>2017-12-03 14:52:12</td>\n      <td>2017-12-03 14:59:22</td>\n      <td>...</td>\n      <td>SP</td>\n      <td>-23.479473</td>\n      <td>-46.357851</td>\n      <td>297.14</td>\n      <td>25.0</td>\n      <td>-14.0</td>\n      <td>0.0</td>\n      <td>9.0</td>\n      <td>-1.0</td>\n      <td>10.75</td>\n    </tr>\n    <tr>\n      <th>4</th>\n      <td>bf45a4524fffba803efa07f225cdfda5</td>\n      <td>20231</td>\n      <td>rio de janeiro</td>\n      <td>RJ</td>\n      <td>-22.908714</td>\n      <td>-43.182574</td>\n      <td>22167b7870f3c3b844087c5cbafac521</td>\n      <td>delivered</td>\n      <td>2018-03-07 17:56:08</td>\n      <td>2018-03-09 02:30:55</td>\n      <td>...</td>\n      <td>SP</td>\n      <td>-23.479473</td>\n      <td>-46.357851</td>\n      <td>205.48</td>\n      <td>18.0</td>\n      <td>-29.0</td>\n      <td>1.0</td>\n      <td>11.0</td>\n      <td>-3.0</td>\n      <td>11.93</td>\n    </tr>\n    <tr>\n      <th>...</th>\n      <td>...</td>\n      <td>...</td>\n      <td>...</td>\n      <td>...</td>\n      <td>...</td>\n      <td>...</td>\n      <td>...</td>\n      <td>...</td>\n      <td>...</td>\n      <td>...</td>\n      <td>...</td>\n      <td>...</td>\n      <td>...</td>\n      <td>...</td>\n      <td>...</td>\n      <td>...</td>\n      <td>...</td>\n      <td>...</td>\n      <td>...</td>\n      <td>...</td>\n      <td>...</td>\n    </tr>\n    <tr>\n      <th>112052</th>\n      <td>d5d4cab5f11cc0e7d3c3882091d815c7</td>\n      <td>17320</td>\n      <td>mineiros do tiete</td>\n      <td>SP</td>\n      <td>-22.404782</td>\n      <td>-48.443557</td>\n      <td>deef94d95b5cf9c23e10621ad71a96b2</td>\n      <td>delivered</td>\n      <td>2017-03-18 11:40:26</td>\n      <td>2017-03-18 11:40:26</td>\n      <td>...</td>\n      <td>SP</td>\n      <td>-23.621342</td>\n      <td>-46.605415</td>\n      <td>143.98</td>\n      <td>9.0</td>\n      <td>-10.0</td>\n      <td>0.0</td>\n      <td>3.0</td>\n      <td>-2.0</td>\n      <td>8.26</td>\n    </tr>\n    <tr>\n      <th>112053</th>\n      <td>1d3e643209846ffadac771cc5dc1ed4b</td>\n      <td>79320</td>\n      <td>corumba</td>\n      <td>MS</td>\n      <td>-19.014518</td>\n      <td>-57.643125</td>\n      <td>fd0342fda6ba083712b6ed0d4e6ac483</td>\n      <td>delivered</td>\n      <td>2018-07-23 16:24:27</td>\n      <td>2018-07-23 17:21:07</td>\n      <td>...</td>\n      <td>PR</td>\n      <td>-25.432332</td>\n      <td>-49.183859</td>\n      <td>699.20</td>\n      <td>9.0</td>\n      <td>-13.0</td>\n      <td>0.0</td>\n      <td>0.0</td>\n      <td>-4.0</td>\n      <td>10.06</td>\n    </tr>\n    <tr>\n      <th>112054</th>\n      <td>124c96fb17eb2fc7f1611d3ca83d11ea</td>\n      <td>6887</td>\n      <td>itapecerica da serra</td>\n      <td>SP</td>\n      <td>-23.670573</td>\n      <td>-46.812776</td>\n      <td>90dbcfe5c30e1fd81cfaf22dc879e81b</td>\n      <td>delivered</td>\n      <td>2018-08-17 10:15:31</td>\n      <td>2018-08-17 10:30:16</td>\n      <td>...</td>\n      <td>SP</td>\n      <td>-23.624618</td>\n      <td>-46.451878</td>\n      <td>23.06</td>\n      <td>4.0</td>\n      <td>-6.0</td>\n      <td>0.0</td>\n      <td>3.0</td>\n      <td>-3.0</td>\n      <td>5.01</td>\n    </tr>\n    <tr>\n      <th>112055</th>\n      <td>6d0c650bd30f4160b84c3634dd05b509</td>\n      <td>17533</td>\n      <td>marilia</td>\n      <td>SP</td>\n      <td>-22.154833</td>\n      <td>-49.935832</td>\n      <td>1175cf55b833823e2478956d6bb6e43c</td>\n      <td>delivered</td>\n      <td>2017-06-23 07:15:39</td>\n      <td>2017-06-23 07:25:15</td>\n      <td>...</td>\n      <td>PR</td>\n      <td>-23.418061</td>\n      <td>-51.882767</td>\n      <td>151.66</td>\n      <td>11.0</td>\n      <td>-14.0</td>\n      <td>0.0</td>\n      <td>4.0</td>\n      <td>-3.0</td>\n      <td>10.67</td>\n    </tr>\n    <tr>\n      <th>112057</th>\n      <td>86025340edc60ca36327c4169f070f8e</td>\n      <td>89642</td>\n      <td>tangara</td>\n      <td>SC</td>\n      <td>-27.094676</td>\n      <td>-51.236373</td>\n      <td>e9613fa6e02ff8ae45f37ca30b0468a1</td>\n      <td>delivered</td>\n      <td>2017-12-20 12:04:33</td>\n      <td>2017-12-20 12:17:28</td>\n      <td>...</td>\n      <td>MG</td>\n      <td>-15.784350</td>\n      <td>-43.305738</td>\n      <td>932.53</td>\n      <td>19.0</td>\n      <td>-16.0</td>\n      <td>0.0</td>\n      <td>0.0</td>\n      <td>-7.0</td>\n      <td>1.82</td>\n    </tr>\n  </tbody>\n</table>\n<p>109625 rows × 39 columns</p>\n</div>"
          },
          "metadata": {}
        }
      ],
      "execution_count": 441,
      "metadata": {
        "jupyter": {
          "source_hidden": false,
          "outputs_hidden": false
        },
        "nteract": {
          "transient": {
            "deleting": false
          }
        },
        "gather": {
          "logged": 1646292424184
        }
      }
    },
    {
      "cell_type": "code",
      "source": [
        "regression_test = final_Df.drop(columns=['order_purchase_timestamp','order_approved_at','order_approved_at','order_delivered_carrier_date','order_delivered_customer_date','order_estimated_delivery_date','seller_id', 'shipping_limit_date','product_category_name', 'product_name_lenght','product_description_lenght', 'product_photos_qty', 'product_weight_g','product_length_cm', 'product_height_cm', 'product_width_cm','customer_city','customer_state', 'customer_lat', 'customer_lng','seller_city', 'seller_state', 'seller_lat','seller_lng','order_status','customer_id','order_id','order_item_id','product_id'])"
      ],
      "outputs": [],
      "execution_count": 442,
      "metadata": {
        "jupyter": {
          "source_hidden": false,
          "outputs_hidden": false
        },
        "nteract": {
          "transient": {
            "deleting": false
          }
        },
        "gather": {
          "logged": 1646292424262
        }
      }
    },
    {
      "cell_type": "code",
      "source": [
        "regression_test"
      ],
      "outputs": [
        {
          "output_type": "execute_result",
          "execution_count": 443,
          "data": {
            "text/plain": "        customer_zip_code_prefix   price  freight_value  \\\n0                          14409  124.99          21.88   \n1                           1151  139.94          17.79   \n2                           8775  149.94          23.36   \n3                          30575  169.99          36.85   \n4                          20231  146.99          40.42   \n...                          ...     ...            ...   \n112052                     17320   98.00          12.08   \n112053                     79320   75.00          27.48   \n112054                      6887  159.90          12.14   \n112055                     17533   49.70          16.11   \n112057                     89642  354.90          18.92   \n\n        seller_zip_code_prefix  distance  actual_delivery_timeline  \\\n0                         8577    218.13                       8.0   \n1                         8577     19.00                      26.0   \n2                         8577     11.79                      14.0   \n3                         8577    297.14                      25.0   \n4                         8577    205.48                      18.0   \n...                        ...       ...                       ...   \n112052                    4164    143.98                       9.0   \n112053                   83323    699.20                       9.0   \n112054                    9380     23.06                       4.0   \n112055                   87015    151.66                      11.0   \n112057                   39442    932.53                      19.0   \n\n        estimated_delivery_timeline  Approval_timeline  processing_timeline  \\\n0                             -11.0                0.0                  6.0   \n1                               1.0                1.0                 21.0   \n2                             -13.0                0.0                 14.0   \n3                             -14.0                0.0                  9.0   \n4                             -29.0                1.0                 11.0   \n...                             ...                ...                  ...   \n112052                        -10.0                0.0                  3.0   \n112053                        -13.0                0.0                  0.0   \n112054                         -6.0                0.0                  3.0   \n112055                        -14.0                0.0                  4.0   \n112057                        -16.0                0.0                  0.0   \n\n        seller_timeline  pkg_density  \n0                   0.0         5.06  \n1                   5.0        11.23  \n2                   0.0         9.49  \n3                  -1.0        10.75  \n4                  -3.0        11.93  \n...                 ...          ...  \n112052             -2.0         8.26  \n112053             -4.0        10.06  \n112054             -3.0         5.01  \n112055             -3.0        10.67  \n112057             -7.0         1.82  \n\n[109625 rows x 11 columns]",
            "text/html": "<div>\n<style scoped>\n    .dataframe tbody tr th:only-of-type {\n        vertical-align: middle;\n    }\n\n    .dataframe tbody tr th {\n        vertical-align: top;\n    }\n\n    .dataframe thead th {\n        text-align: right;\n    }\n</style>\n<table border=\"1\" class=\"dataframe\">\n  <thead>\n    <tr style=\"text-align: right;\">\n      <th></th>\n      <th>customer_zip_code_prefix</th>\n      <th>price</th>\n      <th>freight_value</th>\n      <th>seller_zip_code_prefix</th>\n      <th>distance</th>\n      <th>actual_delivery_timeline</th>\n      <th>estimated_delivery_timeline</th>\n      <th>Approval_timeline</th>\n      <th>processing_timeline</th>\n      <th>seller_timeline</th>\n      <th>pkg_density</th>\n    </tr>\n  </thead>\n  <tbody>\n    <tr>\n      <th>0</th>\n      <td>14409</td>\n      <td>124.99</td>\n      <td>21.88</td>\n      <td>8577</td>\n      <td>218.13</td>\n      <td>8.0</td>\n      <td>-11.0</td>\n      <td>0.0</td>\n      <td>6.0</td>\n      <td>0.0</td>\n      <td>5.06</td>\n    </tr>\n    <tr>\n      <th>1</th>\n      <td>1151</td>\n      <td>139.94</td>\n      <td>17.79</td>\n      <td>8577</td>\n      <td>19.00</td>\n      <td>26.0</td>\n      <td>1.0</td>\n      <td>1.0</td>\n      <td>21.0</td>\n      <td>5.0</td>\n      <td>11.23</td>\n    </tr>\n    <tr>\n      <th>2</th>\n      <td>8775</td>\n      <td>149.94</td>\n      <td>23.36</td>\n      <td>8577</td>\n      <td>11.79</td>\n      <td>14.0</td>\n      <td>-13.0</td>\n      <td>0.0</td>\n      <td>14.0</td>\n      <td>0.0</td>\n      <td>9.49</td>\n    </tr>\n    <tr>\n      <th>3</th>\n      <td>30575</td>\n      <td>169.99</td>\n      <td>36.85</td>\n      <td>8577</td>\n      <td>297.14</td>\n      <td>25.0</td>\n      <td>-14.0</td>\n      <td>0.0</td>\n      <td>9.0</td>\n      <td>-1.0</td>\n      <td>10.75</td>\n    </tr>\n    <tr>\n      <th>4</th>\n      <td>20231</td>\n      <td>146.99</td>\n      <td>40.42</td>\n      <td>8577</td>\n      <td>205.48</td>\n      <td>18.0</td>\n      <td>-29.0</td>\n      <td>1.0</td>\n      <td>11.0</td>\n      <td>-3.0</td>\n      <td>11.93</td>\n    </tr>\n    <tr>\n      <th>...</th>\n      <td>...</td>\n      <td>...</td>\n      <td>...</td>\n      <td>...</td>\n      <td>...</td>\n      <td>...</td>\n      <td>...</td>\n      <td>...</td>\n      <td>...</td>\n      <td>...</td>\n      <td>...</td>\n    </tr>\n    <tr>\n      <th>112052</th>\n      <td>17320</td>\n      <td>98.00</td>\n      <td>12.08</td>\n      <td>4164</td>\n      <td>143.98</td>\n      <td>9.0</td>\n      <td>-10.0</td>\n      <td>0.0</td>\n      <td>3.0</td>\n      <td>-2.0</td>\n      <td>8.26</td>\n    </tr>\n    <tr>\n      <th>112053</th>\n      <td>79320</td>\n      <td>75.00</td>\n      <td>27.48</td>\n      <td>83323</td>\n      <td>699.20</td>\n      <td>9.0</td>\n      <td>-13.0</td>\n      <td>0.0</td>\n      <td>0.0</td>\n      <td>-4.0</td>\n      <td>10.06</td>\n    </tr>\n    <tr>\n      <th>112054</th>\n      <td>6887</td>\n      <td>159.90</td>\n      <td>12.14</td>\n      <td>9380</td>\n      <td>23.06</td>\n      <td>4.0</td>\n      <td>-6.0</td>\n      <td>0.0</td>\n      <td>3.0</td>\n      <td>-3.0</td>\n      <td>5.01</td>\n    </tr>\n    <tr>\n      <th>112055</th>\n      <td>17533</td>\n      <td>49.70</td>\n      <td>16.11</td>\n      <td>87015</td>\n      <td>151.66</td>\n      <td>11.0</td>\n      <td>-14.0</td>\n      <td>0.0</td>\n      <td>4.0</td>\n      <td>-3.0</td>\n      <td>10.67</td>\n    </tr>\n    <tr>\n      <th>112057</th>\n      <td>89642</td>\n      <td>354.90</td>\n      <td>18.92</td>\n      <td>39442</td>\n      <td>932.53</td>\n      <td>19.0</td>\n      <td>-16.0</td>\n      <td>0.0</td>\n      <td>0.0</td>\n      <td>-7.0</td>\n      <td>1.82</td>\n    </tr>\n  </tbody>\n</table>\n<p>109625 rows × 11 columns</p>\n</div>"
          },
          "metadata": {}
        }
      ],
      "execution_count": 443,
      "metadata": {
        "jupyter": {
          "source_hidden": false,
          "outputs_hidden": false
        },
        "nteract": {
          "transient": {
            "deleting": false
          }
        },
        "gather": {
          "logged": 1646292424329
        }
      }
    },
    {
      "cell_type": "code",
      "source": [
        "regression_test.corr()"
      ],
      "outputs": [
        {
          "output_type": "execute_result",
          "execution_count": 444,
          "data": {
            "text/plain": "                             customer_zip_code_prefix     price  \\\ncustomer_zip_code_prefix                     1.000000  0.041957   \nprice                                        0.041957  1.000000   \nfreight_value                                0.226805  0.412948   \nseller_zip_code_prefix                       0.076250  0.087006   \ndistance                                     0.478067  0.084289   \nactual_delivery_timeline                     0.273213  0.062688   \nestimated_delivery_timeline                 -0.074389 -0.003248   \nApproval_timeline                            0.032433  0.010179   \nprocessing_timeline                          0.002481  0.062340   \nseller_timeline                             -0.003779  0.010393   \npkg_density                                 -0.000493  0.038015   \n\n                             freight_value  seller_zip_code_prefix  distance  \\\ncustomer_zip_code_prefix          0.226805                0.076250  0.478067   \nprice                             0.412948                0.087006  0.084289   \nfreight_value                     1.000000                0.150778  0.384281   \nseller_zip_code_prefix            0.150778                1.000000  0.168328   \ndistance                          0.384281                0.168328  1.000000   \nactual_delivery_timeline          0.214686                0.048840  0.389923   \nestimated_delivery_timeline      -0.040336               -0.117137 -0.073259   \nApproval_timeline                 0.024747               -0.005066  0.026530   \nprocessing_timeline               0.085163                0.007522  0.014311   \nseller_timeline                   0.003564               -0.006434  0.000932   \npkg_density                       0.042476                0.013349  0.005508   \n\n                             actual_delivery_timeline  \\\ncustomer_zip_code_prefix                     0.273213   \nprice                                        0.062688   \nfreight_value                                0.214686   \nseller_zip_code_prefix                       0.048840   \ndistance                                     0.389923   \nactual_delivery_timeline                     1.000000   \nestimated_delivery_timeline                  0.596709   \nApproval_timeline                            0.077315   \nprocessing_timeline                          0.395511   \nseller_timeline                              0.145818   \npkg_density                                  0.015084   \n\n                             estimated_delivery_timeline  Approval_timeline  \\\ncustomer_zip_code_prefix                       -0.074389           0.032433   \nprice                                          -0.003248           0.010179   \nfreight_value                                  -0.040336           0.024747   \nseller_zip_code_prefix                         -0.117137          -0.005066   \ndistance                                       -0.073259           0.026530   \nactual_delivery_timeline                        0.596709           0.077315   \nestimated_delivery_timeline                     1.000000           0.035207   \nApproval_timeline                               0.035207           1.000000   \nprocessing_timeline                             0.193081          -0.047243   \nseller_timeline                                 0.249841          -0.015467   \npkg_density                                     0.008086          -0.001271   \n\n                             processing_timeline  seller_timeline  pkg_density  \ncustomer_zip_code_prefix                0.002481        -0.003779    -0.000493  \nprice                                   0.062340         0.010393     0.038015  \nfreight_value                           0.085163         0.003564     0.042476  \nseller_zip_code_prefix                  0.007522        -0.006434     0.013349  \ndistance                                0.014311         0.000932     0.005508  \nactual_delivery_timeline                0.395511         0.145818     0.015084  \nestimated_delivery_timeline             0.193081         0.249841     0.008086  \nApproval_timeline                      -0.047243        -0.015467    -0.001271  \nprocessing_timeline                     1.000000         0.411571    -0.001133  \nseller_timeline                         0.411571         1.000000    -0.002111  \npkg_density                            -0.001133        -0.002111     1.000000  ",
            "text/html": "<div>\n<style scoped>\n    .dataframe tbody tr th:only-of-type {\n        vertical-align: middle;\n    }\n\n    .dataframe tbody tr th {\n        vertical-align: top;\n    }\n\n    .dataframe thead th {\n        text-align: right;\n    }\n</style>\n<table border=\"1\" class=\"dataframe\">\n  <thead>\n    <tr style=\"text-align: right;\">\n      <th></th>\n      <th>customer_zip_code_prefix</th>\n      <th>price</th>\n      <th>freight_value</th>\n      <th>seller_zip_code_prefix</th>\n      <th>distance</th>\n      <th>actual_delivery_timeline</th>\n      <th>estimated_delivery_timeline</th>\n      <th>Approval_timeline</th>\n      <th>processing_timeline</th>\n      <th>seller_timeline</th>\n      <th>pkg_density</th>\n    </tr>\n  </thead>\n  <tbody>\n    <tr>\n      <th>customer_zip_code_prefix</th>\n      <td>1.000000</td>\n      <td>0.041957</td>\n      <td>0.226805</td>\n      <td>0.076250</td>\n      <td>0.478067</td>\n      <td>0.273213</td>\n      <td>-0.074389</td>\n      <td>0.032433</td>\n      <td>0.002481</td>\n      <td>-0.003779</td>\n      <td>-0.000493</td>\n    </tr>\n    <tr>\n      <th>price</th>\n      <td>0.041957</td>\n      <td>1.000000</td>\n      <td>0.412948</td>\n      <td>0.087006</td>\n      <td>0.084289</td>\n      <td>0.062688</td>\n      <td>-0.003248</td>\n      <td>0.010179</td>\n      <td>0.062340</td>\n      <td>0.010393</td>\n      <td>0.038015</td>\n    </tr>\n    <tr>\n      <th>freight_value</th>\n      <td>0.226805</td>\n      <td>0.412948</td>\n      <td>1.000000</td>\n      <td>0.150778</td>\n      <td>0.384281</td>\n      <td>0.214686</td>\n      <td>-0.040336</td>\n      <td>0.024747</td>\n      <td>0.085163</td>\n      <td>0.003564</td>\n      <td>0.042476</td>\n    </tr>\n    <tr>\n      <th>seller_zip_code_prefix</th>\n      <td>0.076250</td>\n      <td>0.087006</td>\n      <td>0.150778</td>\n      <td>1.000000</td>\n      <td>0.168328</td>\n      <td>0.048840</td>\n      <td>-0.117137</td>\n      <td>-0.005066</td>\n      <td>0.007522</td>\n      <td>-0.006434</td>\n      <td>0.013349</td>\n    </tr>\n    <tr>\n      <th>distance</th>\n      <td>0.478067</td>\n      <td>0.084289</td>\n      <td>0.384281</td>\n      <td>0.168328</td>\n      <td>1.000000</td>\n      <td>0.389923</td>\n      <td>-0.073259</td>\n      <td>0.026530</td>\n      <td>0.014311</td>\n      <td>0.000932</td>\n      <td>0.005508</td>\n    </tr>\n    <tr>\n      <th>actual_delivery_timeline</th>\n      <td>0.273213</td>\n      <td>0.062688</td>\n      <td>0.214686</td>\n      <td>0.048840</td>\n      <td>0.389923</td>\n      <td>1.000000</td>\n      <td>0.596709</td>\n      <td>0.077315</td>\n      <td>0.395511</td>\n      <td>0.145818</td>\n      <td>0.015084</td>\n    </tr>\n    <tr>\n      <th>estimated_delivery_timeline</th>\n      <td>-0.074389</td>\n      <td>-0.003248</td>\n      <td>-0.040336</td>\n      <td>-0.117137</td>\n      <td>-0.073259</td>\n      <td>0.596709</td>\n      <td>1.000000</td>\n      <td>0.035207</td>\n      <td>0.193081</td>\n      <td>0.249841</td>\n      <td>0.008086</td>\n    </tr>\n    <tr>\n      <th>Approval_timeline</th>\n      <td>0.032433</td>\n      <td>0.010179</td>\n      <td>0.024747</td>\n      <td>-0.005066</td>\n      <td>0.026530</td>\n      <td>0.077315</td>\n      <td>0.035207</td>\n      <td>1.000000</td>\n      <td>-0.047243</td>\n      <td>-0.015467</td>\n      <td>-0.001271</td>\n    </tr>\n    <tr>\n      <th>processing_timeline</th>\n      <td>0.002481</td>\n      <td>0.062340</td>\n      <td>0.085163</td>\n      <td>0.007522</td>\n      <td>0.014311</td>\n      <td>0.395511</td>\n      <td>0.193081</td>\n      <td>-0.047243</td>\n      <td>1.000000</td>\n      <td>0.411571</td>\n      <td>-0.001133</td>\n    </tr>\n    <tr>\n      <th>seller_timeline</th>\n      <td>-0.003779</td>\n      <td>0.010393</td>\n      <td>0.003564</td>\n      <td>-0.006434</td>\n      <td>0.000932</td>\n      <td>0.145818</td>\n      <td>0.249841</td>\n      <td>-0.015467</td>\n      <td>0.411571</td>\n      <td>1.000000</td>\n      <td>-0.002111</td>\n    </tr>\n    <tr>\n      <th>pkg_density</th>\n      <td>-0.000493</td>\n      <td>0.038015</td>\n      <td>0.042476</td>\n      <td>0.013349</td>\n      <td>0.005508</td>\n      <td>0.015084</td>\n      <td>0.008086</td>\n      <td>-0.001271</td>\n      <td>-0.001133</td>\n      <td>-0.002111</td>\n      <td>1.000000</td>\n    </tr>\n  </tbody>\n</table>\n</div>"
          },
          "metadata": {}
        }
      ],
      "execution_count": 444,
      "metadata": {
        "jupyter": {
          "source_hidden": false,
          "outputs_hidden": false
        },
        "nteract": {
          "transient": {
            "deleting": false
          }
        },
        "gather": {
          "logged": 1646292440823
        }
      }
    },
    {
      "cell_type": "code",
      "source": [
        "data_wrangler = regression_test.dropna().drop_duplicates()"
      ],
      "outputs": [],
      "execution_count": 454,
      "metadata": {
        "jupyter": {
          "source_hidden": false,
          "outputs_hidden": false
        },
        "nteract": {
          "transient": {
            "deleting": false
          }
        },
        "gather": {
          "logged": 1646292684634
        }
      }
    },
    {
      "cell_type": "code",
      "source": [
        "X = data_wrangler.drop(columns=['actual_delivery_timeline'])\n",
        "y=data_wrangler['actual_delivery_timeline']"
      ],
      "outputs": [],
      "execution_count": 455,
      "metadata": {
        "jupyter": {
          "source_hidden": false,
          "outputs_hidden": false
        },
        "nteract": {
          "transient": {
            "deleting": false
          }
        },
        "gather": {
          "logged": 1646292690621
        }
      }
    },
    {
      "cell_type": "code",
      "source": [
        "X.columns"
      ],
      "outputs": [
        {
          "output_type": "execute_result",
          "execution_count": 456,
          "data": {
            "text/plain": "Index(['customer_zip_code_prefix', 'price', 'freight_value',\n       'seller_zip_code_prefix', 'distance', 'estimated_delivery_timeline',\n       'Approval_timeline', 'processing_timeline', 'seller_timeline',\n       'pkg_density'],\n      dtype='object')"
          },
          "metadata": {}
        }
      ],
      "execution_count": 456,
      "metadata": {
        "jupyter": {
          "source_hidden": false,
          "outputs_hidden": false
        },
        "nteract": {
          "transient": {
            "deleting": false
          }
        },
        "gather": {
          "logged": 1646292692654
        }
      }
    },
    {
      "cell_type": "code",
      "source": [
        "from sklearn.preprocessing import StandardScaler\n",
        "scaler = StandardScaler()\n",
        "scaled_values=scaler.fit_transform(X)\n",
        "scaler_df = pd.DataFrame(scaled_values,columns=X.columns)"
      ],
      "outputs": [],
      "execution_count": 457,
      "metadata": {
        "jupyter": {
          "source_hidden": false,
          "outputs_hidden": false
        },
        "nteract": {
          "transient": {
            "deleting": false
          }
        },
        "gather": {
          "logged": 1646292694618
        }
      }
    },
    {
      "cell_type": "code",
      "source": [
        "scaler_df"
      ],
      "outputs": [
        {
          "output_type": "execute_result",
          "execution_count": 461,
          "data": {
            "text/plain": "       customer_zip_code_prefix     price  freight_value  \\\n0                     -0.692333  0.005607       0.114070   \n1                     -1.137032  0.085147      -0.144619   \n2                     -0.881308  0.138351       0.207679   \n3                     -0.150095  0.245024       1.060910   \n4                     -0.497052  0.122656       1.286710   \n...                         ...       ...            ...   \n99347                 -0.594693 -0.137989      -0.505772   \n99348                  1.484906 -0.260358       0.468265   \n99349                 -0.944636  0.191342      -0.501977   \n99350                 -0.587548 -0.394963      -0.250878   \n99351                  1.831125  1.228814      -0.073148   \n\n       seller_zip_code_prefix  distance  estimated_delivery_timeline  \\\n0                   -0.579459 -0.418634                     0.096411   \n1                   -0.579459 -0.947472                     1.271743   \n2                   -0.579459 -0.966620                    -0.099477   \n3                   -0.579459 -0.208805                    -0.197422   \n4                   -0.579459 -0.452230                    -1.666586   \n...                       ...       ...                          ...   \n99347               -0.738863 -0.615557                     0.194356   \n99348                2.120472  0.858962                    -0.099477   \n99349               -0.550454 -0.936689                     0.586133   \n99350                2.253832 -0.595161                    -0.197422   \n99351                0.535428  1.478625                    -0.393310   \n\n       Approval_timeline  processing_timeline  seller_timeline  pkg_density  \n0              -0.362501             1.049407         0.768280    -0.156024  \n1               1.007316             5.290576         1.767968    -0.015985  \n2              -0.362501             3.311364         0.768280    -0.055478  \n3              -0.362501             1.897641         0.568343    -0.026880  \n4               1.007316             2.463130         0.168467    -0.000097  \n...                  ...                  ...              ...          ...  \n99347          -0.362501             0.201173         0.368405    -0.083395  \n99348          -0.362501            -0.647061        -0.031470    -0.042540  \n99349          -0.362501             0.201173         0.168467    -0.157159  \n99350          -0.362501             0.483918         0.168467    -0.028695  \n99351          -0.362501            -0.647061        -0.631283    -0.229562  \n\n[99352 rows x 10 columns]",
            "text/html": "<div>\n<style scoped>\n    .dataframe tbody tr th:only-of-type {\n        vertical-align: middle;\n    }\n\n    .dataframe tbody tr th {\n        vertical-align: top;\n    }\n\n    .dataframe thead th {\n        text-align: right;\n    }\n</style>\n<table border=\"1\" class=\"dataframe\">\n  <thead>\n    <tr style=\"text-align: right;\">\n      <th></th>\n      <th>customer_zip_code_prefix</th>\n      <th>price</th>\n      <th>freight_value</th>\n      <th>seller_zip_code_prefix</th>\n      <th>distance</th>\n      <th>estimated_delivery_timeline</th>\n      <th>Approval_timeline</th>\n      <th>processing_timeline</th>\n      <th>seller_timeline</th>\n      <th>pkg_density</th>\n    </tr>\n  </thead>\n  <tbody>\n    <tr>\n      <th>0</th>\n      <td>-0.692333</td>\n      <td>0.005607</td>\n      <td>0.114070</td>\n      <td>-0.579459</td>\n      <td>-0.418634</td>\n      <td>0.096411</td>\n      <td>-0.362501</td>\n      <td>1.049407</td>\n      <td>0.768280</td>\n      <td>-0.156024</td>\n    </tr>\n    <tr>\n      <th>1</th>\n      <td>-1.137032</td>\n      <td>0.085147</td>\n      <td>-0.144619</td>\n      <td>-0.579459</td>\n      <td>-0.947472</td>\n      <td>1.271743</td>\n      <td>1.007316</td>\n      <td>5.290576</td>\n      <td>1.767968</td>\n      <td>-0.015985</td>\n    </tr>\n    <tr>\n      <th>2</th>\n      <td>-0.881308</td>\n      <td>0.138351</td>\n      <td>0.207679</td>\n      <td>-0.579459</td>\n      <td>-0.966620</td>\n      <td>-0.099477</td>\n      <td>-0.362501</td>\n      <td>3.311364</td>\n      <td>0.768280</td>\n      <td>-0.055478</td>\n    </tr>\n    <tr>\n      <th>3</th>\n      <td>-0.150095</td>\n      <td>0.245024</td>\n      <td>1.060910</td>\n      <td>-0.579459</td>\n      <td>-0.208805</td>\n      <td>-0.197422</td>\n      <td>-0.362501</td>\n      <td>1.897641</td>\n      <td>0.568343</td>\n      <td>-0.026880</td>\n    </tr>\n    <tr>\n      <th>4</th>\n      <td>-0.497052</td>\n      <td>0.122656</td>\n      <td>1.286710</td>\n      <td>-0.579459</td>\n      <td>-0.452230</td>\n      <td>-1.666586</td>\n      <td>1.007316</td>\n      <td>2.463130</td>\n      <td>0.168467</td>\n      <td>-0.000097</td>\n    </tr>\n    <tr>\n      <th>...</th>\n      <td>...</td>\n      <td>...</td>\n      <td>...</td>\n      <td>...</td>\n      <td>...</td>\n      <td>...</td>\n      <td>...</td>\n      <td>...</td>\n      <td>...</td>\n      <td>...</td>\n    </tr>\n    <tr>\n      <th>99347</th>\n      <td>-0.594693</td>\n      <td>-0.137989</td>\n      <td>-0.505772</td>\n      <td>-0.738863</td>\n      <td>-0.615557</td>\n      <td>0.194356</td>\n      <td>-0.362501</td>\n      <td>0.201173</td>\n      <td>0.368405</td>\n      <td>-0.083395</td>\n    </tr>\n    <tr>\n      <th>99348</th>\n      <td>1.484906</td>\n      <td>-0.260358</td>\n      <td>0.468265</td>\n      <td>2.120472</td>\n      <td>0.858962</td>\n      <td>-0.099477</td>\n      <td>-0.362501</td>\n      <td>-0.647061</td>\n      <td>-0.031470</td>\n      <td>-0.042540</td>\n    </tr>\n    <tr>\n      <th>99349</th>\n      <td>-0.944636</td>\n      <td>0.191342</td>\n      <td>-0.501977</td>\n      <td>-0.550454</td>\n      <td>-0.936689</td>\n      <td>0.586133</td>\n      <td>-0.362501</td>\n      <td>0.201173</td>\n      <td>0.168467</td>\n      <td>-0.157159</td>\n    </tr>\n    <tr>\n      <th>99350</th>\n      <td>-0.587548</td>\n      <td>-0.394963</td>\n      <td>-0.250878</td>\n      <td>2.253832</td>\n      <td>-0.595161</td>\n      <td>-0.197422</td>\n      <td>-0.362501</td>\n      <td>0.483918</td>\n      <td>0.168467</td>\n      <td>-0.028695</td>\n    </tr>\n    <tr>\n      <th>99351</th>\n      <td>1.831125</td>\n      <td>1.228814</td>\n      <td>-0.073148</td>\n      <td>0.535428</td>\n      <td>1.478625</td>\n      <td>-0.393310</td>\n      <td>-0.362501</td>\n      <td>-0.647061</td>\n      <td>-0.631283</td>\n      <td>-0.229562</td>\n    </tr>\n  </tbody>\n</table>\n<p>99352 rows × 10 columns</p>\n</div>"
          },
          "metadata": {}
        }
      ],
      "execution_count": 461,
      "metadata": {
        "jupyter": {
          "source_hidden": false,
          "outputs_hidden": false
        },
        "nteract": {
          "transient": {
            "deleting": false
          }
        },
        "gather": {
          "logged": 1646292775006
        }
      }
    },
    {
      "cell_type": "code",
      "source": [
        "# Q1 = scaler_df.density.quantile(0.05)\n",
        "# Q3 = scaler_df.density.quantile(0.95)\n",
        "# IQR = Q3 - Q1\n",
        "# scaler_df = scaler_df[(scaler_df.density >= Q1 - 1.5*IQR) & (scaler_df.density <= Q3 + 1.5*IQR)]\n",
        "\n",
        "# Q1 = scaler_df.distance.quantile(0.05)\n",
        "# Q3 = scaler_df.distance.quantile(0.95)\n",
        "# IQR = Q3 - Q1\n",
        "# scaler_df = scaler_df[(scaler_df.distance >= Q1 - 1.5*IQR) & (scaler_df.distance <= Q3 + 1.5*IQR)]"
      ],
      "outputs": [],
      "execution_count": null,
      "metadata": {
        "jupyter": {
          "source_hidden": false,
          "outputs_hidden": false
        },
        "nteract": {
          "transient": {
            "deleting": false
          }
        },
        "gather": {
          "logged": 1646272426671
        }
      }
    },
    {
      "cell_type": "code",
      "source": [
        "# #plotting post removing outliers\n",
        "# attributes = ['distance','density']\n",
        "# plt.rcParams['figure.figsize'] = [10,8]\n",
        "# sns.boxplot(data = model_df[attributes], orient=\"v\", palette=\"Set2\" ,whis=1.5,saturation=1, width=0.7)\n",
        "# plt.title(\"Variable Distribution post Removing Outliers \", fontsize = 14, fontweight = 'bold')\n",
        "# plt.ylabel(\"Range\", fontweight = 'bold')\n",
        "# plt.xlabel(\"Attributes\", fontweight = 'bold')\n",
        "# plt.show()"
      ],
      "outputs": [],
      "execution_count": null,
      "metadata": {
        "jupyter": {
          "source_hidden": false,
          "outputs_hidden": false
        },
        "nteract": {
          "transient": {
            "deleting": false
          }
        },
        "gather": {
          "logged": 1646272593076
        }
      }
    },
    {
      "cell_type": "markdown",
      "source": [
        "**TRAIN TEST SPLIT**"
      ],
      "metadata": {
        "nteract": {
          "transient": {
            "deleting": false
          }
        }
      }
    },
    {
      "cell_type": "code",
      "source": [
        "from sklearn.model_selection import train_test_split\n",
        "X_train, X_test, y_train, y_test = train_test_split(scaler_df, y, test_size=0.2, random_state=42)"
      ],
      "outputs": [],
      "execution_count": 468,
      "metadata": {
        "jupyter": {
          "source_hidden": false,
          "outputs_hidden": false
        },
        "nteract": {
          "transient": {
            "deleting": false
          }
        },
        "gather": {
          "logged": 1646292911263
        }
      }
    },
    {
      "cell_type": "markdown",
      "source": [
        "**LINEAR REGRESSION**"
      ],
      "metadata": {
        "nteract": {
          "transient": {
            "deleting": false
          }
        }
      }
    },
    {
      "cell_type": "code",
      "source": [
        "from sklearn.linear_model import LinearRegression\n",
        "# creating an object of LinearRegression class\n",
        "LR = LinearRegression()\n",
        "# fitting the training data\n",
        "LR.fit(X_train,y_train)"
      ],
      "outputs": [
        {
          "output_type": "execute_result",
          "execution_count": 485,
          "data": {
            "text/plain": "LinearRegression()"
          },
          "metadata": {}
        }
      ],
      "execution_count": 485,
      "metadata": {
        "jupyter": {
          "source_hidden": false,
          "outputs_hidden": false
        },
        "nteract": {
          "transient": {
            "deleting": false
          }
        },
        "gather": {
          "logged": 1646293375727
        }
      }
    },
    {
      "cell_type": "code",
      "source": [
        "y_prediction =  LR.predict(X_test)\n",
        "y_prediction"
      ],
      "outputs": [
        {
          "output_type": "execute_result",
          "execution_count": 484,
          "data": {
            "text/plain": "array([12.12123296,  9.11220876,  6.90677025, ..., -8.95894015,\n        9.07020243, 22.09408716])"
          },
          "metadata": {}
        }
      ],
      "execution_count": 484,
      "metadata": {
        "jupyter": {
          "source_hidden": false,
          "outputs_hidden": false
        },
        "nteract": {
          "transient": {
            "deleting": false
          }
        },
        "gather": {
          "logged": 1646293372613
        }
      }
    },
    {
      "cell_type": "code",
      "source": [
        "from sklearn.metrics import r2_score\n",
        "from sklearn.metrics import mean_squared_error\n",
        "# predicting the accuracy score\n",
        "score=r2_score(y_test,y_prediction)\n",
        "print(\"r2 score is\",score)\n",
        "print(\"mean_sqrd_error is=\",mean_squared_error(y_test,y_prediction))\n",
        "print(\"root_mean_squared error of is=\",np.sqrt(mean_squared_error(y_test,y_prediction)))"
      ],
      "outputs": [
        {
          "output_type": "stream",
          "name": "stdout",
          "text": "r2 score is 0.6590373599887461\nmean_sqrd_error is= 30.31012412061343\nroot_mean_squared error of is= 5.505463115907093\n"
        }
      ],
      "execution_count": 486,
      "metadata": {
        "jupyter": {
          "source_hidden": false,
          "outputs_hidden": false
        },
        "nteract": {
          "transient": {
            "deleting": false
          }
        },
        "gather": {
          "logged": 1646293377366
        }
      }
    },
    {
      "cell_type": "markdown",
      "source": [
        "**LASSO REGRESSION**"
      ],
      "metadata": {
        "nteract": {
          "transient": {
            "deleting": false
          }
        }
      }
    },
    {
      "cell_type": "code",
      "source": [
        "from sklearn.linear_model import Lasso\n",
        "lasso = Lasso(alpha=0.1)\n",
        "lasso.fit(X_train, y_train)\n",
        "lasso_pred = lasso.predict(X_test)\n",
        "lasso.score(X_test, y_test)"
      ],
      "outputs": [
        {
          "output_type": "execute_result",
          "execution_count": 483,
          "data": {
            "text/plain": "0.6565011266259855"
          },
          "metadata": {}
        }
      ],
      "execution_count": 483,
      "metadata": {
        "jupyter": {
          "source_hidden": false,
          "outputs_hidden": false
        },
        "nteract": {
          "transient": {
            "deleting": false
          }
        },
        "gather": {
          "logged": 1646293359625
        }
      }
    },
    {
      "cell_type": "code",
      "source": [
        "from sklearn.metrics import r2_score\n",
        "from sklearn.metrics import mean_squared_error\n",
        "# predicting the accuracy score\n",
        "score=r2_score(y_test,lasso_pred)\n",
        "print(\"r2 score is\",score)\n",
        "print(\"mean_sqrd_error is=\",mean_squared_error(y_test,lasso_pred))\n",
        "print(\"root_mean_squared error of is=\",np.sqrt(mean_squared_error(y_test,lasso_pred)))"
      ],
      "outputs": [
        {
          "output_type": "stream",
          "name": "stdout",
          "text": "r2 score is 0.6565011266259855\nmean_sqrd_error is= 30.535584446769928\nroot_mean_squared error of is= 5.525901233895691\n"
        }
      ],
      "execution_count": 487,
      "metadata": {
        "jupyter": {
          "source_hidden": false,
          "outputs_hidden": false
        },
        "nteract": {
          "transient": {
            "deleting": false
          }
        },
        "gather": {
          "logged": 1646293474841
        }
      }
    },
    {
      "cell_type": "markdown",
      "source": [
        "**Ridge Regression**"
      ],
      "metadata": {
        "nteract": {
          "transient": {
            "deleting": false
          }
        }
      }
    },
    {
      "cell_type": "code",
      "source": [
        "from sklearn.linear_model import Ridge\n",
        "ridge = Ridge(alpha=0.1)\n",
        "ridge.fit(X_train, y_train)\n",
        "ridge_pred = ridge.predict(X_test)\n",
        "ridge.score(X_test, y_test)"
      ],
      "outputs": [
        {
          "output_type": "execute_result",
          "execution_count": 488,
          "data": {
            "text/plain": "0.6590373452446766"
          },
          "metadata": {}
        }
      ],
      "execution_count": 488,
      "metadata": {
        "jupyter": {
          "source_hidden": false,
          "outputs_hidden": false
        },
        "nteract": {
          "transient": {
            "deleting": false
          }
        },
        "gather": {
          "logged": 1646293531285
        }
      }
    },
    {
      "cell_type": "code",
      "source": [
        "from sklearn.metrics import r2_score\n",
        "from sklearn.metrics import mean_squared_error\n",
        "# predicting the accuracy score\n",
        "score=r2_score(y_test,ridge_pred)\n",
        "print(\"r2 score is\",score)\n",
        "print(\"mean_sqrd_error is=\",mean_squared_error(y_test,ridge_pred))\n",
        "print(\"root_mean_squared error of is=\",np.sqrt(mean_squared_error(y_test,ridge_pred)))"
      ],
      "outputs": [
        {
          "output_type": "stream",
          "name": "stdout",
          "text": "r2 score is 0.6590373452446766\nmean_sqrd_error is= 30.31012543129831\nroot_mean_squared error of is= 5.505463234942026\n"
        }
      ],
      "execution_count": 489,
      "metadata": {
        "jupyter": {
          "source_hidden": false,
          "outputs_hidden": false
        },
        "nteract": {
          "transient": {
            "deleting": false
          }
        },
        "gather": {
          "logged": 1646293549910
        }
      }
    },
    {
      "cell_type": "code",
      "source": [
        "from sklearn.metrics import r2_score\n",
        "from sklearn.metrics import mean_squared_error\n",
        "# predicting the accuracy score\n",
        "score=r2_score(y_test,y_prediction)\n",
        "print(\"r2 score is\",score)\n",
        "print(\"mean_sqrd_error is=\",mean_squared_error(y_test,y_prediction))\n",
        "print(\"root_mean_squared error of is=\",np.sqrt(mean_squared_error(y_test,y_prediction)))"
      ],
      "outputs": [
        {
          "output_type": "stream",
          "name": "stdout",
          "text": "r2 score is 0.6590373599887461\nmean_sqrd_error is= 30.31012412061343\nroot_mean_squared error of is= 5.505463115907093\n"
        }
      ],
      "execution_count": 471,
      "metadata": {
        "jupyter": {
          "source_hidden": false,
          "outputs_hidden": false
        },
        "nteract": {
          "transient": {
            "deleting": false
          }
        },
        "gather": {
          "logged": 1646292916064
        }
      }
    },
    {
      "cell_type": "markdown",
      "source": [
        "**POLYNOMIAL REGRESSION**"
      ],
      "metadata": {
        "nteract": {
          "transient": {
            "deleting": false
          }
        }
      }
    },
    {
      "cell_type": "code",
      "source": [
        "from sklearn.preprocessing import PolynomialFeatures\n",
        "from sklearn.pipeline import make_pipeline\n",
        "from sklearn.linear_model import LinearRegression\n",
        "degree=2\n",
        "polyreg=make_pipeline(PolynomialFeatures(degree),LinearRegression())\n",
        "polyreg.fit(X_train,y_train)"
      ],
      "outputs": [
        {
          "output_type": "execute_result",
          "execution_count": 495,
          "data": {
            "text/plain": "Pipeline(steps=[('polynomialfeatures', PolynomialFeatures()),\n                ('linearregression', LinearRegression())])"
          },
          "metadata": {}
        }
      ],
      "execution_count": 495,
      "metadata": {
        "jupyter": {
          "source_hidden": false,
          "outputs_hidden": false
        },
        "nteract": {
          "transient": {
            "deleting": false
          }
        },
        "gather": {
          "logged": 1646294030590
        }
      }
    },
    {
      "cell_type": "code",
      "source": [
        "y_prediction =  polyreg.predict(X_test)\n",
        "y_prediction"
      ],
      "outputs": [
        {
          "output_type": "execute_result",
          "execution_count": 496,
          "data": {
            "text/plain": "array([12.25263148,  6.2558147 ,  5.63406002, ...,  2.11446912,\n        9.98462925, 21.17514324])"
          },
          "metadata": {}
        }
      ],
      "execution_count": 496,
      "metadata": {
        "jupyter": {
          "source_hidden": false,
          "outputs_hidden": false
        },
        "nteract": {
          "transient": {
            "deleting": false
          }
        },
        "gather": {
          "logged": 1646294031956
        }
      }
    },
    {
      "cell_type": "code",
      "source": [
        "from sklearn.metrics import r2_score\n",
        "from sklearn.metrics import mean_squared_error\n",
        "# predicting the accuracy score\n",
        "score=r2_score(y_test,y_prediction)\n",
        "print(\"r2 score is\",score)\n",
        "print(\"mean_sqrd_error is=\",mean_squared_error(y_test,y_prediction))\n",
        "print(\"root_mean_squared error of is=\",np.sqrt(mean_squared_error(y_test,y_prediction)))"
      ],
      "outputs": [
        {
          "output_type": "stream",
          "name": "stdout",
          "text": "r2 score is 0.7687723842707918\nmean_sqrd_error is= 20.55514860113261\nroot_mean_squared error of is= 4.533778622863341\n"
        }
      ],
      "execution_count": 497,
      "metadata": {
        "jupyter": {
          "source_hidden": false,
          "outputs_hidden": false
        },
        "nteract": {
          "transient": {
            "deleting": false
          }
        },
        "gather": {
          "logged": 1646294033742
        }
      }
    },
    {
      "cell_type": "markdown",
      "source": [
        "**NEURAL NETWORK**"
      ],
      "metadata": {
        "nteract": {
          "transient": {
            "deleting": false
          }
        }
      }
    },
    {
      "cell_type": "code",
      "source": [
        "from sklearn.neural_network import MLPRegressor\n",
        "from sklearn.datasets import make_regression\n",
        "\n",
        "regr = MLPRegressor(random_state=1, max_iter=500).fit(X_train, y_train)"
      ],
      "outputs": [
        {
          "output_type": "execute_result",
          "execution_count": 499,
          "data": {
            "text/plain": "array([ 9.48075682,  5.25047394,  6.86902966, ..., 11.91555863,\n        9.72945846, 18.93477   ])"
          },
          "metadata": {}
        }
      ],
      "execution_count": 499,
      "metadata": {
        "jupyter": {
          "source_hidden": false,
          "outputs_hidden": false
        },
        "nteract": {
          "transient": {
            "deleting": false
          }
        },
        "gather": {
          "logged": 1646294122122
        }
      }
    },
    {
      "cell_type": "code",
      "source": [
        "y_prediction = regr.predict(X_test)"
      ],
      "outputs": [],
      "execution_count": 500,
      "metadata": {
        "jupyter": {
          "source_hidden": false,
          "outputs_hidden": false
        },
        "nteract": {
          "transient": {
            "deleting": false
          }
        },
        "gather": {
          "logged": 1646294175006
        }
      }
    },
    {
      "cell_type": "code",
      "source": [
        "from sklearn.metrics import r2_score\n",
        "from sklearn.metrics import mean_squared_error\n",
        "# predicting the accuracy score\n",
        "score=r2_score(y_test,y_prediction)\n",
        "print(\"r2 score is\",score)\n",
        "print(\"mean_sqrd_error is=\",mean_squared_error(y_test,y_prediction))\n",
        "print(\"root_mean_squared error of is=\",np.sqrt(mean_squared_error(y_test,y_prediction)))"
      ],
      "outputs": [
        {
          "output_type": "stream",
          "name": "stdout",
          "text": "r2 score is 0.8583010970335043\nmean_sqrd_error is= 12.596427973831632\nroot_mean_squared error of is= 3.54914468200884\n"
        }
      ],
      "execution_count": 501,
      "metadata": {
        "jupyter": {
          "source_hidden": false,
          "outputs_hidden": false
        },
        "nteract": {
          "transient": {
            "deleting": false
          }
        },
        "gather": {
          "logged": 1646294178643
        }
      }
    },
    {
      "cell_type": "markdown",
      "source": [
        "**Support Vector Regression**"
      ],
      "metadata": {
        "nteract": {
          "transient": {
            "deleting": false
          }
        }
      }
    },
    {
      "cell_type": "code",
      "source": [
        "from sklearn.svm import SVR\n",
        "svr = SVR().fit(X_train, y_train)"
      ],
      "outputs": [],
      "execution_count": 502,
      "metadata": {
        "jupyter": {
          "source_hidden": false,
          "outputs_hidden": false
        },
        "nteract": {
          "transient": {
            "deleting": false
          }
        },
        "gather": {
          "logged": 1646294753636
        }
      }
    },
    {
      "cell_type": "code",
      "source": [
        "y_prediction = svr.predict(X_test)"
      ],
      "outputs": [],
      "execution_count": 504,
      "metadata": {
        "jupyter": {
          "source_hidden": false,
          "outputs_hidden": false
        },
        "nteract": {
          "transient": {
            "deleting": false
          }
        },
        "gather": {
          "logged": 1646295014227
        }
      }
    },
    {
      "cell_type": "code",
      "source": [
        "from sklearn.metrics import r2_score\n",
        "from sklearn.metrics import mean_squared_error\n",
        "# predicting the accuracy score\n",
        "score=r2_score(y_test,y_prediction)\n",
        "print(\"r2 score is\",score)\n",
        "print(\"mean_sqrd_error is=\",mean_squared_error(y_test,y_prediction))\n",
        "print(\"root_mean_squared error of is=\",np.sqrt(mean_squared_error(y_test,y_prediction)))"
      ],
      "outputs": [
        {
          "output_type": "stream",
          "name": "stdout",
          "text": "r2 score is 0.7269795688021208\nmean_sqrd_error is= 24.27035160449832\nroot_mean_squared error of is= 4.926494859887537\n"
        }
      ],
      "execution_count": 505,
      "metadata": {
        "jupyter": {
          "source_hidden": false,
          "outputs_hidden": false
        },
        "nteract": {
          "transient": {
            "deleting": false
          }
        },
        "gather": {
          "logged": 1646295019252
        }
      }
    },
    {
      "cell_type": "markdown",
      "source": [
        "**Random Forest Regressor**"
      ],
      "metadata": {
        "nteract": {
          "transient": {
            "deleting": false
          }
        }
      }
    },
    {
      "cell_type": "code",
      "source": [
        "from sklearn.ensemble import RandomForestRegressor\n",
        "rfr = RandomForestRegressor(max_depth=7).fit(X_train, y_train)\n",
        "y_prediction = rfr.predict(X_test)"
      ],
      "outputs": [],
      "execution_count": 508,
      "metadata": {
        "jupyter": {
          "source_hidden": false,
          "outputs_hidden": false
        },
        "nteract": {
          "transient": {
            "deleting": false
          }
        },
        "gather": {
          "logged": 1646295081610
        }
      }
    },
    {
      "cell_type": "code",
      "source": [
        "from sklearn.metrics import r2_score\n",
        "from sklearn.metrics import mean_squared_error\n",
        "# predicting the accuracy score\n",
        "score=r2_score(y_test,y_prediction)\n",
        "print(\"r2 score is\",score)\n",
        "print(\"mean_sqrd_error is=\",mean_squared_error(y_test,y_prediction))\n",
        "print(\"root_mean_squared error of is=\",np.sqrt(mean_squared_error(y_test,y_prediction)))"
      ],
      "outputs": [
        {
          "output_type": "stream",
          "name": "stdout",
          "text": "r2 score is 0.8143859890051436\nmean_sqrd_error is= 16.500293731868428\nroot_mean_squared error of is= 4.062055358050704\n"
        }
      ],
      "execution_count": 509,
      "metadata": {
        "jupyter": {
          "source_hidden": false,
          "outputs_hidden": false
        },
        "nteract": {
          "transient": {
            "deleting": false
          }
        },
        "gather": {
          "logged": 1646295084098
        }
      }
    }
  ],
  "metadata": {
    "accelerator": "TPU",
    "colab": {
      "authorship_tag": "ABX9TyN7MI5VPEIBfFhJ1RR/smWd",
      "collapsed_sections": [],
      "include_colab_link": true,
      "name": "Customer_Segmentation.ipynb",
      "provenance": [],
      "toc_visible": true
    },
    "kernelspec": {
      "name": "python3",
      "language": "python",
      "display_name": "Python 3"
    },
    "language_info": {
      "name": "python",
      "version": "3.8.1",
      "mimetype": "text/x-python",
      "codemirror_mode": {
        "name": "ipython",
        "version": 3
      },
      "pygments_lexer": "ipython3",
      "nbconvert_exporter": "python",
      "file_extension": ".py"
    },
    "nteract": {
      "version": "nteract-front-end@1.0.0"
    },
    "kernel_info": {
      "name": "python3"
    },
    "microsoft": {
      "host": {
        "AzureML": {
          "notebookHasBeenCompleted": true
        }
      }
    }
  },
  "nbformat": 4,
  "nbformat_minor": 4
}