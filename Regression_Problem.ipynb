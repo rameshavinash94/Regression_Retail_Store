{
 "cells": [
  {
   "cell_type": "markdown",
   "metadata": {
    "colab_type": "text",
    "id": "view-in-github"
   },
   "source": [
    "<a href=\"https://colab.research.google.com/github/rameshavinash94/Customer_Segmentation_Clustering/blob/main/Customer_Segmentation.ipynb\" target=\"_parent\"><img src=\"https://colab.research.google.com/assets/colab-badge.svg\" alt=\"Open In Colab\"/></a>"
   ]
  },
  {
   "cell_type": "markdown",
   "metadata": {
    "id": "sqelBb2gh2ix"
   },
   "source": [
    "# **Estimating Delivery  date**"
   ]
  },
  {
   "cell_type": "markdown",
   "metadata": {
    "id": "_Hc0HOAJJIky"
   },
   "source": [
    "**Our Business Problem:**\n",
    "\n",
    "Predicting Olist Delivery date\n"
   ]
  },
  {
   "cell_type": "markdown",
   "metadata": {
    "id": "cWcZ1dkBiAOu"
   },
   "source": [
    "#### **IMPORTING LIBRARIES**"
   ]
  },
  {
   "cell_type": "code",
   "execution_count": 298,
   "metadata": {
    "gather": {
     "logged": 1646272089996
    },
    "id": "iaSivMr8cZ-N"
   },
   "outputs": [],
   "source": [
    "import pandas as pd\n",
    "import numpy as np\n",
    "import matplotlib.pyplot as plt\n",
    "import missingno as msno\n",
    "import seaborn as sns\n",
    "from sklearn.preprocessing import StandardScaler\n",
    "from sklearn.cluster import KMeans\n",
    "from sklearn.metrics import silhouette_score, calinski_harabasz_score, davies_bouldin_score\n",
    "import plotly.express as px\n",
    "from sklearn.cluster import AgglomerativeClustering"
   ]
  },
  {
   "cell_type": "markdown",
   "metadata": {
    "id": "jUYohYHfk5Vx"
   },
   "source": [
    "**Load the datasets**"
   ]
  },
  {
   "cell_type": "code",
   "execution_count": 299,
   "metadata": {
    "gather": {
     "logged": 1646272094250
    },
    "id": "cOkgKwPAk4cx"
   },
   "outputs": [],
   "source": [
    "customers = pd.read_csv('olist_customers_dataset.csv')\n",
    "order_items = pd.read_csv('olist_order_items_dataset.csv')\n",
    "order_payment= pd.read_csv('olist_order_payments_dataset.csv')\n",
    "geolocation = pd.read_csv('olist_geolocation_dataset.csv')\n",
    "order_reviews = pd.read_csv('olist_order_reviews_dataset.csv')\n",
    "orders = pd.read_csv('olist_orders_dataset.csv')\n",
    "products = pd.read_csv('olist_products_dataset.csv')\n",
    "sellers = pd.read_csv('olist_sellers_dataset.csv')\n",
    "product_category_name = pd.read_csv('product_category_name_translation.csv')"
   ]
  },
  {
   "cell_type": "markdown",
   "metadata": {
    "id": "ZXYMdSxTGIXg"
   },
   "source": [
    "The ER/Data Modeling Structure of the Datasource\n",
    "<div>\n",
    "<img src='https://i.imgur.com/HRhd2Y0.png'>\n",
    "</div>\n"
   ]
  },
  {
   "cell_type": "markdown",
   "metadata": {
    "id": "eDeTJyg4mUYI"
   },
   "source": [
    "*We won't require all the above datasets for our current business usecase for customer segmentation, so selectiong on the necessary files and carryon the EDA and data wrangling on the datasets.*"
   ]
  },
  {
   "cell_type": "code",
   "execution_count": 300,
   "metadata": {
    "gather": {
     "logged": 1646272107103
    },
    "jupyter": {
     "outputs_hidden": false,
     "source_hidden": false
    },
    "nteract": {
     "transient": {
      "deleting": false
     }
    }
   },
   "outputs": [],
   "source": [
    "location_info = geolocation.groupby('geolocation_zip_code_prefix').max().drop_duplicates().reset_index()"
   ]
  },
  {
   "cell_type": "code",
   "execution_count": 301,
   "metadata": {
    "gather": {
     "logged": 1646272107226
    },
    "jupyter": {
     "outputs_hidden": false,
     "source_hidden": false
    },
    "nteract": {
     "transient": {
      "deleting": false
     }
    }
   },
   "outputs": [
    {
     "data": {
      "text/html": [
       "<div>\n",
       "<style scoped>\n",
       "    .dataframe tbody tr th:only-of-type {\n",
       "        vertical-align: middle;\n",
       "    }\n",
       "\n",
       "    .dataframe tbody tr th {\n",
       "        vertical-align: top;\n",
       "    }\n",
       "\n",
       "    .dataframe thead th {\n",
       "        text-align: right;\n",
       "    }\n",
       "</style>\n",
       "<table border=\"1\" class=\"dataframe\">\n",
       "  <thead>\n",
       "    <tr style=\"text-align: right;\">\n",
       "      <th></th>\n",
       "      <th>geolocation_zip_code_prefix</th>\n",
       "      <th>geolocation_lat</th>\n",
       "      <th>geolocation_lng</th>\n",
       "      <th>geolocation_city</th>\n",
       "      <th>geolocation_state</th>\n",
       "    </tr>\n",
       "  </thead>\n",
       "  <tbody>\n",
       "    <tr>\n",
       "      <th>0</th>\n",
       "      <td>1001</td>\n",
       "      <td>-23.549292</td>\n",
       "      <td>-46.633559</td>\n",
       "      <td>são paulo</td>\n",
       "      <td>SP</td>\n",
       "    </tr>\n",
       "    <tr>\n",
       "      <th>1</th>\n",
       "      <td>1002</td>\n",
       "      <td>-23.544641</td>\n",
       "      <td>-46.633180</td>\n",
       "      <td>são paulo</td>\n",
       "      <td>SP</td>\n",
       "    </tr>\n",
       "    <tr>\n",
       "      <th>2</th>\n",
       "      <td>1003</td>\n",
       "      <td>-23.548901</td>\n",
       "      <td>-46.634862</td>\n",
       "      <td>são paulo</td>\n",
       "      <td>SP</td>\n",
       "    </tr>\n",
       "    <tr>\n",
       "      <th>3</th>\n",
       "      <td>1004</td>\n",
       "      <td>-23.549181</td>\n",
       "      <td>-46.634057</td>\n",
       "      <td>são paulo</td>\n",
       "      <td>SP</td>\n",
       "    </tr>\n",
       "    <tr>\n",
       "      <th>4</th>\n",
       "      <td>1005</td>\n",
       "      <td>-23.548758</td>\n",
       "      <td>-46.634768</td>\n",
       "      <td>são paulo</td>\n",
       "      <td>SP</td>\n",
       "    </tr>\n",
       "    <tr>\n",
       "      <th>...</th>\n",
       "      <td>...</td>\n",
       "      <td>...</td>\n",
       "      <td>...</td>\n",
       "      <td>...</td>\n",
       "      <td>...</td>\n",
       "    </tr>\n",
       "    <tr>\n",
       "      <th>18993</th>\n",
       "      <td>99960</td>\n",
       "      <td>-27.953409</td>\n",
       "      <td>-52.016483</td>\n",
       "      <td>charrua</td>\n",
       "      <td>RS</td>\n",
       "    </tr>\n",
       "    <tr>\n",
       "      <th>18994</th>\n",
       "      <td>99965</td>\n",
       "      <td>-28.173892</td>\n",
       "      <td>-52.034367</td>\n",
       "      <td>agua santa</td>\n",
       "      <td>RS</td>\n",
       "    </tr>\n",
       "    <tr>\n",
       "      <th>18995</th>\n",
       "      <td>99970</td>\n",
       "      <td>-28.341329</td>\n",
       "      <td>-51.870397</td>\n",
       "      <td>ciríaco</td>\n",
       "      <td>RS</td>\n",
       "    </tr>\n",
       "    <tr>\n",
       "      <th>18996</th>\n",
       "      <td>99980</td>\n",
       "      <td>-28.386239</td>\n",
       "      <td>-51.779942</td>\n",
       "      <td>david canabarro</td>\n",
       "      <td>RS</td>\n",
       "    </tr>\n",
       "    <tr>\n",
       "      <th>18997</th>\n",
       "      <td>99990</td>\n",
       "      <td>-28.329472</td>\n",
       "      <td>-51.769109</td>\n",
       "      <td>muliterno</td>\n",
       "      <td>RS</td>\n",
       "    </tr>\n",
       "  </tbody>\n",
       "</table>\n",
       "<p>18998 rows × 5 columns</p>\n",
       "</div>"
      ],
      "text/plain": [
       "       geolocation_zip_code_prefix  geolocation_lat  geolocation_lng  \\\n",
       "0                             1001       -23.549292       -46.633559   \n",
       "1                             1002       -23.544641       -46.633180   \n",
       "2                             1003       -23.548901       -46.634862   \n",
       "3                             1004       -23.549181       -46.634057   \n",
       "4                             1005       -23.548758       -46.634768   \n",
       "...                            ...              ...              ...   \n",
       "18993                        99960       -27.953409       -52.016483   \n",
       "18994                        99965       -28.173892       -52.034367   \n",
       "18995                        99970       -28.341329       -51.870397   \n",
       "18996                        99980       -28.386239       -51.779942   \n",
       "18997                        99990       -28.329472       -51.769109   \n",
       "\n",
       "      geolocation_city geolocation_state  \n",
       "0            são paulo                SP  \n",
       "1            são paulo                SP  \n",
       "2            são paulo                SP  \n",
       "3            são paulo                SP  \n",
       "4            são paulo                SP  \n",
       "...                ...               ...  \n",
       "18993          charrua                RS  \n",
       "18994       agua santa                RS  \n",
       "18995          ciríaco                RS  \n",
       "18996  david canabarro                RS  \n",
       "18997        muliterno                RS  \n",
       "\n",
       "[18998 rows x 5 columns]"
      ]
     },
     "execution_count": 301,
     "metadata": {},
     "output_type": "execute_result"
    }
   ],
   "source": [
    "location_info"
   ]
  },
  {
   "cell_type": "code",
   "execution_count": 302,
   "metadata": {
    "gather": {
     "logged": 1646272107378
    },
    "jupyter": {
     "outputs_hidden": false,
     "source_hidden": false
    },
    "nteract": {
     "transient": {
      "deleting": false
     }
    }
   },
   "outputs": [],
   "source": [
    "customers_location=pd.merge(customers,location_info,left_on='customer_zip_code_prefix',right_on='geolocation_zip_code_prefix').drop(columns=['geolocation_zip_code_prefix','geolocation_city','geolocation_state','customer_unique_id']).rename(columns={'geolocation_lat':'customer_lat','geolocation_lng':'customer_lng'})"
   ]
  },
  {
   "cell_type": "code",
   "execution_count": 303,
   "metadata": {
    "gather": {
     "logged": 1646272107471
    },
    "jupyter": {
     "outputs_hidden": false,
     "source_hidden": false
    },
    "nteract": {
     "transient": {
      "deleting": false
     }
    }
   },
   "outputs": [
    {
     "data": {
      "text/html": [
       "<div>\n",
       "<style scoped>\n",
       "    .dataframe tbody tr th:only-of-type {\n",
       "        vertical-align: middle;\n",
       "    }\n",
       "\n",
       "    .dataframe tbody tr th {\n",
       "        vertical-align: top;\n",
       "    }\n",
       "\n",
       "    .dataframe thead th {\n",
       "        text-align: right;\n",
       "    }\n",
       "</style>\n",
       "<table border=\"1\" class=\"dataframe\">\n",
       "  <thead>\n",
       "    <tr style=\"text-align: right;\">\n",
       "      <th></th>\n",
       "      <th>customer_id</th>\n",
       "      <th>customer_zip_code_prefix</th>\n",
       "      <th>customer_city</th>\n",
       "      <th>customer_state</th>\n",
       "      <th>customer_lat</th>\n",
       "      <th>customer_lng</th>\n",
       "    </tr>\n",
       "  </thead>\n",
       "  <tbody>\n",
       "    <tr>\n",
       "      <th>0</th>\n",
       "      <td>06b8999e2fba1a1fbc88172c00ba8bc7</td>\n",
       "      <td>14409</td>\n",
       "      <td>franca</td>\n",
       "      <td>SP</td>\n",
       "      <td>-20.468849</td>\n",
       "      <td>-47.382173</td>\n",
       "    </tr>\n",
       "    <tr>\n",
       "      <th>1</th>\n",
       "      <td>5dca924cc99eea2dc5ba40d11ec5dd0f</td>\n",
       "      <td>14409</td>\n",
       "      <td>franca</td>\n",
       "      <td>SP</td>\n",
       "      <td>-20.468849</td>\n",
       "      <td>-47.382173</td>\n",
       "    </tr>\n",
       "    <tr>\n",
       "      <th>2</th>\n",
       "      <td>661897d4968f1b59bfff74c7eb2eb4fc</td>\n",
       "      <td>14409</td>\n",
       "      <td>franca</td>\n",
       "      <td>SP</td>\n",
       "      <td>-20.468849</td>\n",
       "      <td>-47.382173</td>\n",
       "    </tr>\n",
       "    <tr>\n",
       "      <th>3</th>\n",
       "      <td>702b62324327ccba20f1be3465426437</td>\n",
       "      <td>14409</td>\n",
       "      <td>franca</td>\n",
       "      <td>SP</td>\n",
       "      <td>-20.468849</td>\n",
       "      <td>-47.382173</td>\n",
       "    </tr>\n",
       "    <tr>\n",
       "      <th>4</th>\n",
       "      <td>bdf997bae7ca819b0415f5174d6b4302</td>\n",
       "      <td>14409</td>\n",
       "      <td>franca</td>\n",
       "      <td>SP</td>\n",
       "      <td>-20.468849</td>\n",
       "      <td>-47.382173</td>\n",
       "    </tr>\n",
       "    <tr>\n",
       "      <th>...</th>\n",
       "      <td>...</td>\n",
       "      <td>...</td>\n",
       "      <td>...</td>\n",
       "      <td>...</td>\n",
       "      <td>...</td>\n",
       "      <td>...</td>\n",
       "    </tr>\n",
       "    <tr>\n",
       "      <th>99128</th>\n",
       "      <td>0b7a30ba373aeb55cf28add5b5477956</td>\n",
       "      <td>87145</td>\n",
       "      <td>paicandu</td>\n",
       "      <td>PR</td>\n",
       "      <td>-23.501620</td>\n",
       "      <td>-52.150755</td>\n",
       "    </tr>\n",
       "    <tr>\n",
       "      <th>99129</th>\n",
       "      <td>ff6b440b2465bfaef05c675efb48cd15</td>\n",
       "      <td>98860</td>\n",
       "      <td>eugenio de castro</td>\n",
       "      <td>RS</td>\n",
       "      <td>-28.525494</td>\n",
       "      <td>-54.144722</td>\n",
       "    </tr>\n",
       "    <tr>\n",
       "      <th>99130</th>\n",
       "      <td>3f7029d9b98a47370cd5f3a97adcbccd</td>\n",
       "      <td>5538</td>\n",
       "      <td>sao paulo</td>\n",
       "      <td>SP</td>\n",
       "      <td>-23.587405</td>\n",
       "      <td>-46.736508</td>\n",
       "    </tr>\n",
       "    <tr>\n",
       "      <th>99131</th>\n",
       "      <td>d9110683c7a282144e9fc97660026a28</td>\n",
       "      <td>74980</td>\n",
       "      <td>aparecida de goiania</td>\n",
       "      <td>GO</td>\n",
       "      <td>-16.821692</td>\n",
       "      <td>-49.243077</td>\n",
       "    </tr>\n",
       "    <tr>\n",
       "      <th>99132</th>\n",
       "      <td>6fb4f2354f36e554ac80141e9128f528</td>\n",
       "      <td>99043</td>\n",
       "      <td>passo fundo</td>\n",
       "      <td>RS</td>\n",
       "      <td>-28.226596</td>\n",
       "      <td>-52.467505</td>\n",
       "    </tr>\n",
       "  </tbody>\n",
       "</table>\n",
       "<p>99133 rows × 6 columns</p>\n",
       "</div>"
      ],
      "text/plain": [
       "                            customer_id  customer_zip_code_prefix  \\\n",
       "0      06b8999e2fba1a1fbc88172c00ba8bc7                     14409   \n",
       "1      5dca924cc99eea2dc5ba40d11ec5dd0f                     14409   \n",
       "2      661897d4968f1b59bfff74c7eb2eb4fc                     14409   \n",
       "3      702b62324327ccba20f1be3465426437                     14409   \n",
       "4      bdf997bae7ca819b0415f5174d6b4302                     14409   \n",
       "...                                 ...                       ...   \n",
       "99128  0b7a30ba373aeb55cf28add5b5477956                     87145   \n",
       "99129  ff6b440b2465bfaef05c675efb48cd15                     98860   \n",
       "99130  3f7029d9b98a47370cd5f3a97adcbccd                      5538   \n",
       "99131  d9110683c7a282144e9fc97660026a28                     74980   \n",
       "99132  6fb4f2354f36e554ac80141e9128f528                     99043   \n",
       "\n",
       "              customer_city customer_state  customer_lat  customer_lng  \n",
       "0                    franca             SP    -20.468849    -47.382173  \n",
       "1                    franca             SP    -20.468849    -47.382173  \n",
       "2                    franca             SP    -20.468849    -47.382173  \n",
       "3                    franca             SP    -20.468849    -47.382173  \n",
       "4                    franca             SP    -20.468849    -47.382173  \n",
       "...                     ...            ...           ...           ...  \n",
       "99128              paicandu             PR    -23.501620    -52.150755  \n",
       "99129     eugenio de castro             RS    -28.525494    -54.144722  \n",
       "99130             sao paulo             SP    -23.587405    -46.736508  \n",
       "99131  aparecida de goiania             GO    -16.821692    -49.243077  \n",
       "99132           passo fundo             RS    -28.226596    -52.467505  \n",
       "\n",
       "[99133 rows x 6 columns]"
      ]
     },
     "execution_count": 303,
     "metadata": {},
     "output_type": "execute_result"
    }
   ],
   "source": [
    "customers_location"
   ]
  },
  {
   "cell_type": "code",
   "execution_count": 304,
   "metadata": {
    "gather": {
     "logged": 1646272107583
    },
    "jupyter": {
     "outputs_hidden": false,
     "source_hidden": false
    },
    "nteract": {
     "transient": {
      "deleting": false
     }
    }
   },
   "outputs": [],
   "source": [
    "seller_locations=pd.merge(sellers,location_info,left_on='seller_zip_code_prefix',right_on='geolocation_zip_code_prefix').drop(columns=['geolocation_zip_code_prefix','geolocation_city','geolocation_state']).rename(columns={'geolocation_lat':'seller_lat','geolocation_lng':'seller_lng'})"
   ]
  },
  {
   "cell_type": "code",
   "execution_count": 305,
   "metadata": {
    "colab": {
     "base_uri": "https://localhost:8080/"
    },
    "gather": {
     "logged": 1646272107674
    },
    "id": "htDGcAJjMIBi",
    "outputId": "13b0ec17-8517-481c-fd88-baa3f2c4a166"
   },
   "outputs": [
    {
     "data": {
      "text/html": [
       "<div>\n",
       "<style scoped>\n",
       "    .dataframe tbody tr th:only-of-type {\n",
       "        vertical-align: middle;\n",
       "    }\n",
       "\n",
       "    .dataframe tbody tr th {\n",
       "        vertical-align: top;\n",
       "    }\n",
       "\n",
       "    .dataframe thead th {\n",
       "        text-align: right;\n",
       "    }\n",
       "</style>\n",
       "<table border=\"1\" class=\"dataframe\">\n",
       "  <thead>\n",
       "    <tr style=\"text-align: right;\">\n",
       "      <th></th>\n",
       "      <th>seller_id</th>\n",
       "      <th>seller_zip_code_prefix</th>\n",
       "      <th>seller_city</th>\n",
       "      <th>seller_state</th>\n",
       "      <th>seller_lat</th>\n",
       "      <th>seller_lng</th>\n",
       "    </tr>\n",
       "  </thead>\n",
       "  <tbody>\n",
       "    <tr>\n",
       "      <th>0</th>\n",
       "      <td>3442f8959a84dea7ee197c632cb2df15</td>\n",
       "      <td>13023</td>\n",
       "      <td>campinas</td>\n",
       "      <td>SP</td>\n",
       "      <td>-22.884842</td>\n",
       "      <td>-47.045846</td>\n",
       "    </tr>\n",
       "    <tr>\n",
       "      <th>1</th>\n",
       "      <td>e0eabded302882513ced4ea3eb0c7059</td>\n",
       "      <td>13023</td>\n",
       "      <td>campinas</td>\n",
       "      <td>SP</td>\n",
       "      <td>-22.884842</td>\n",
       "      <td>-47.045846</td>\n",
       "    </tr>\n",
       "    <tr>\n",
       "      <th>2</th>\n",
       "      <td>d1b65fc7debc3361ea86b5f14c68d2e2</td>\n",
       "      <td>13844</td>\n",
       "      <td>mogi guacu</td>\n",
       "      <td>SP</td>\n",
       "      <td>-22.347646</td>\n",
       "      <td>-46.920804</td>\n",
       "    </tr>\n",
       "    <tr>\n",
       "      <th>3</th>\n",
       "      <td>ce3ad9de960102d0677a81f5d0bb7b2d</td>\n",
       "      <td>20031</td>\n",
       "      <td>rio de janeiro</td>\n",
       "      <td>RJ</td>\n",
       "      <td>-22.864365</td>\n",
       "      <td>-43.170800</td>\n",
       "    </tr>\n",
       "    <tr>\n",
       "      <th>4</th>\n",
       "      <td>1d2732ef8321502ee8488e8bed1ab8cd</td>\n",
       "      <td>20031</td>\n",
       "      <td>rio de janeiro</td>\n",
       "      <td>RJ</td>\n",
       "      <td>-22.864365</td>\n",
       "      <td>-43.170800</td>\n",
       "    </tr>\n",
       "    <tr>\n",
       "      <th>...</th>\n",
       "      <td>...</td>\n",
       "      <td>...</td>\n",
       "      <td>...</td>\n",
       "      <td>...</td>\n",
       "      <td>...</td>\n",
       "      <td>...</td>\n",
       "    </tr>\n",
       "    <tr>\n",
       "      <th>3083</th>\n",
       "      <td>f1fdf2d13186575751aa25876536d85c</td>\n",
       "      <td>5314</td>\n",
       "      <td>sao paulo</td>\n",
       "      <td>SP</td>\n",
       "      <td>-23.524115</td>\n",
       "      <td>-46.732087</td>\n",
       "    </tr>\n",
       "    <tr>\n",
       "      <th>3084</th>\n",
       "      <td>98dddbc4601dd4443ca174359b237166</td>\n",
       "      <td>87111</td>\n",
       "      <td>sarandi</td>\n",
       "      <td>PR</td>\n",
       "      <td>-23.434520</td>\n",
       "      <td>-51.859687</td>\n",
       "    </tr>\n",
       "    <tr>\n",
       "      <th>3085</th>\n",
       "      <td>74871d19219c7d518d0090283e03c137</td>\n",
       "      <td>4650</td>\n",
       "      <td>sao paulo</td>\n",
       "      <td>SP</td>\n",
       "      <td>-23.655006</td>\n",
       "      <td>-46.669658</td>\n",
       "    </tr>\n",
       "    <tr>\n",
       "      <th>3086</th>\n",
       "      <td>e603cf3fec55f8697c9059638d6c8eb5</td>\n",
       "      <td>96080</td>\n",
       "      <td>pelotas</td>\n",
       "      <td>RS</td>\n",
       "      <td>-31.709246</td>\n",
       "      <td>-52.307455</td>\n",
       "    </tr>\n",
       "    <tr>\n",
       "      <th>3087</th>\n",
       "      <td>9e25199f6ef7e7c347120ff175652c3b</td>\n",
       "      <td>12051</td>\n",
       "      <td>taubate</td>\n",
       "      <td>SP</td>\n",
       "      <td>-23.003363</td>\n",
       "      <td>-45.544499</td>\n",
       "    </tr>\n",
       "  </tbody>\n",
       "</table>\n",
       "<p>3088 rows × 6 columns</p>\n",
       "</div>"
      ],
      "text/plain": [
       "                             seller_id  seller_zip_code_prefix  \\\n",
       "0     3442f8959a84dea7ee197c632cb2df15                   13023   \n",
       "1     e0eabded302882513ced4ea3eb0c7059                   13023   \n",
       "2     d1b65fc7debc3361ea86b5f14c68d2e2                   13844   \n",
       "3     ce3ad9de960102d0677a81f5d0bb7b2d                   20031   \n",
       "4     1d2732ef8321502ee8488e8bed1ab8cd                   20031   \n",
       "...                                ...                     ...   \n",
       "3083  f1fdf2d13186575751aa25876536d85c                    5314   \n",
       "3084  98dddbc4601dd4443ca174359b237166                   87111   \n",
       "3085  74871d19219c7d518d0090283e03c137                    4650   \n",
       "3086  e603cf3fec55f8697c9059638d6c8eb5                   96080   \n",
       "3087  9e25199f6ef7e7c347120ff175652c3b                   12051   \n",
       "\n",
       "         seller_city seller_state  seller_lat  seller_lng  \n",
       "0           campinas           SP  -22.884842  -47.045846  \n",
       "1           campinas           SP  -22.884842  -47.045846  \n",
       "2         mogi guacu           SP  -22.347646  -46.920804  \n",
       "3     rio de janeiro           RJ  -22.864365  -43.170800  \n",
       "4     rio de janeiro           RJ  -22.864365  -43.170800  \n",
       "...              ...          ...         ...         ...  \n",
       "3083       sao paulo           SP  -23.524115  -46.732087  \n",
       "3084         sarandi           PR  -23.434520  -51.859687  \n",
       "3085       sao paulo           SP  -23.655006  -46.669658  \n",
       "3086         pelotas           RS  -31.709246  -52.307455  \n",
       "3087         taubate           SP  -23.003363  -45.544499  \n",
       "\n",
       "[3088 rows x 6 columns]"
      ]
     },
     "execution_count": 305,
     "metadata": {},
     "output_type": "execute_result"
    }
   ],
   "source": [
    "seller_locations"
   ]
  },
  {
   "cell_type": "code",
   "execution_count": 306,
   "metadata": {
    "gather": {
     "logged": 1646272107747
    },
    "jupyter": {
     "outputs_hidden": false,
     "source_hidden": false
    },
    "nteract": {
     "transient": {
      "deleting": false
     }
    }
   },
   "outputs": [
    {
     "data": {
      "text/html": [
       "<div>\n",
       "<style scoped>\n",
       "    .dataframe tbody tr th:only-of-type {\n",
       "        vertical-align: middle;\n",
       "    }\n",
       "\n",
       "    .dataframe tbody tr th {\n",
       "        vertical-align: top;\n",
       "    }\n",
       "\n",
       "    .dataframe thead th {\n",
       "        text-align: right;\n",
       "    }\n",
       "</style>\n",
       "<table border=\"1\" class=\"dataframe\">\n",
       "  <thead>\n",
       "    <tr style=\"text-align: right;\">\n",
       "      <th></th>\n",
       "      <th>order_id</th>\n",
       "      <th>customer_id</th>\n",
       "      <th>order_status</th>\n",
       "      <th>order_purchase_timestamp</th>\n",
       "      <th>order_approved_at</th>\n",
       "      <th>order_delivered_carrier_date</th>\n",
       "      <th>order_delivered_customer_date</th>\n",
       "      <th>order_estimated_delivery_date</th>\n",
       "    </tr>\n",
       "  </thead>\n",
       "  <tbody>\n",
       "    <tr>\n",
       "      <th>0</th>\n",
       "      <td>e481f51cbdc54678b7cc49136f2d6af7</td>\n",
       "      <td>9ef432eb6251297304e76186b10a928d</td>\n",
       "      <td>delivered</td>\n",
       "      <td>2017-10-02 10:56:33</td>\n",
       "      <td>2017-10-02 11:07:15</td>\n",
       "      <td>2017-10-04 19:55:00</td>\n",
       "      <td>2017-10-10 21:25:13</td>\n",
       "      <td>2017-10-18 00:00:00</td>\n",
       "    </tr>\n",
       "    <tr>\n",
       "      <th>1</th>\n",
       "      <td>53cdb2fc8bc7dce0b6741e2150273451</td>\n",
       "      <td>b0830fb4747a6c6d20dea0b8c802d7ef</td>\n",
       "      <td>delivered</td>\n",
       "      <td>2018-07-24 20:41:37</td>\n",
       "      <td>2018-07-26 03:24:27</td>\n",
       "      <td>2018-07-26 14:31:00</td>\n",
       "      <td>2018-08-07 15:27:45</td>\n",
       "      <td>2018-08-13 00:00:00</td>\n",
       "    </tr>\n",
       "    <tr>\n",
       "      <th>2</th>\n",
       "      <td>47770eb9100c2d0c44946d9cf07ec65d</td>\n",
       "      <td>41ce2a54c0b03bf3443c3d931a367089</td>\n",
       "      <td>delivered</td>\n",
       "      <td>2018-08-08 08:38:49</td>\n",
       "      <td>2018-08-08 08:55:23</td>\n",
       "      <td>2018-08-08 13:50:00</td>\n",
       "      <td>2018-08-17 18:06:29</td>\n",
       "      <td>2018-09-04 00:00:00</td>\n",
       "    </tr>\n",
       "    <tr>\n",
       "      <th>3</th>\n",
       "      <td>949d5b44dbf5de918fe9c16f97b45f8a</td>\n",
       "      <td>f88197465ea7920adcdbec7375364d82</td>\n",
       "      <td>delivered</td>\n",
       "      <td>2017-11-18 19:28:06</td>\n",
       "      <td>2017-11-18 19:45:59</td>\n",
       "      <td>2017-11-22 13:39:59</td>\n",
       "      <td>2017-12-02 00:28:42</td>\n",
       "      <td>2017-12-15 00:00:00</td>\n",
       "    </tr>\n",
       "    <tr>\n",
       "      <th>4</th>\n",
       "      <td>ad21c59c0840e6cb83a9ceb5573f8159</td>\n",
       "      <td>8ab97904e6daea8866dbdbc4fb7aad2c</td>\n",
       "      <td>delivered</td>\n",
       "      <td>2018-02-13 21:18:39</td>\n",
       "      <td>2018-02-13 22:20:29</td>\n",
       "      <td>2018-02-14 19:46:34</td>\n",
       "      <td>2018-02-16 18:17:02</td>\n",
       "      <td>2018-02-26 00:00:00</td>\n",
       "    </tr>\n",
       "    <tr>\n",
       "      <th>...</th>\n",
       "      <td>...</td>\n",
       "      <td>...</td>\n",
       "      <td>...</td>\n",
       "      <td>...</td>\n",
       "      <td>...</td>\n",
       "      <td>...</td>\n",
       "      <td>...</td>\n",
       "      <td>...</td>\n",
       "    </tr>\n",
       "    <tr>\n",
       "      <th>99436</th>\n",
       "      <td>9c5dedf39a927c1b2549525ed64a053c</td>\n",
       "      <td>39bd1228ee8140590ac3aca26f2dfe00</td>\n",
       "      <td>delivered</td>\n",
       "      <td>2017-03-09 09:54:05</td>\n",
       "      <td>2017-03-09 09:54:05</td>\n",
       "      <td>2017-03-10 11:18:03</td>\n",
       "      <td>2017-03-17 15:08:01</td>\n",
       "      <td>2017-03-28 00:00:00</td>\n",
       "    </tr>\n",
       "    <tr>\n",
       "      <th>99437</th>\n",
       "      <td>63943bddc261676b46f01ca7ac2f7bd8</td>\n",
       "      <td>1fca14ff2861355f6e5f14306ff977a7</td>\n",
       "      <td>delivered</td>\n",
       "      <td>2018-02-06 12:58:58</td>\n",
       "      <td>2018-02-06 13:10:37</td>\n",
       "      <td>2018-02-07 23:22:42</td>\n",
       "      <td>2018-02-28 17:37:56</td>\n",
       "      <td>2018-03-02 00:00:00</td>\n",
       "    </tr>\n",
       "    <tr>\n",
       "      <th>99438</th>\n",
       "      <td>83c1379a015df1e13d02aae0204711ab</td>\n",
       "      <td>1aa71eb042121263aafbe80c1b562c9c</td>\n",
       "      <td>delivered</td>\n",
       "      <td>2017-08-27 14:46:43</td>\n",
       "      <td>2017-08-27 15:04:16</td>\n",
       "      <td>2017-08-28 20:52:26</td>\n",
       "      <td>2017-09-21 11:24:17</td>\n",
       "      <td>2017-09-27 00:00:00</td>\n",
       "    </tr>\n",
       "    <tr>\n",
       "      <th>99439</th>\n",
       "      <td>11c177c8e97725db2631073c19f07b62</td>\n",
       "      <td>b331b74b18dc79bcdf6532d51e1637c1</td>\n",
       "      <td>delivered</td>\n",
       "      <td>2018-01-08 21:28:27</td>\n",
       "      <td>2018-01-08 21:36:21</td>\n",
       "      <td>2018-01-12 15:35:03</td>\n",
       "      <td>2018-01-25 23:32:54</td>\n",
       "      <td>2018-02-15 00:00:00</td>\n",
       "    </tr>\n",
       "    <tr>\n",
       "      <th>99440</th>\n",
       "      <td>66dea50a8b16d9b4dee7af250b4be1a5</td>\n",
       "      <td>edb027a75a1449115f6b43211ae02a24</td>\n",
       "      <td>delivered</td>\n",
       "      <td>2018-03-08 20:57:30</td>\n",
       "      <td>2018-03-09 11:20:28</td>\n",
       "      <td>2018-03-09 22:11:59</td>\n",
       "      <td>2018-03-16 13:08:30</td>\n",
       "      <td>2018-04-03 00:00:00</td>\n",
       "    </tr>\n",
       "  </tbody>\n",
       "</table>\n",
       "<p>99441 rows × 8 columns</p>\n",
       "</div>"
      ],
      "text/plain": [
       "                               order_id                       customer_id  \\\n",
       "0      e481f51cbdc54678b7cc49136f2d6af7  9ef432eb6251297304e76186b10a928d   \n",
       "1      53cdb2fc8bc7dce0b6741e2150273451  b0830fb4747a6c6d20dea0b8c802d7ef   \n",
       "2      47770eb9100c2d0c44946d9cf07ec65d  41ce2a54c0b03bf3443c3d931a367089   \n",
       "3      949d5b44dbf5de918fe9c16f97b45f8a  f88197465ea7920adcdbec7375364d82   \n",
       "4      ad21c59c0840e6cb83a9ceb5573f8159  8ab97904e6daea8866dbdbc4fb7aad2c   \n",
       "...                                 ...                               ...   \n",
       "99436  9c5dedf39a927c1b2549525ed64a053c  39bd1228ee8140590ac3aca26f2dfe00   \n",
       "99437  63943bddc261676b46f01ca7ac2f7bd8  1fca14ff2861355f6e5f14306ff977a7   \n",
       "99438  83c1379a015df1e13d02aae0204711ab  1aa71eb042121263aafbe80c1b562c9c   \n",
       "99439  11c177c8e97725db2631073c19f07b62  b331b74b18dc79bcdf6532d51e1637c1   \n",
       "99440  66dea50a8b16d9b4dee7af250b4be1a5  edb027a75a1449115f6b43211ae02a24   \n",
       "\n",
       "      order_status order_purchase_timestamp    order_approved_at  \\\n",
       "0        delivered      2017-10-02 10:56:33  2017-10-02 11:07:15   \n",
       "1        delivered      2018-07-24 20:41:37  2018-07-26 03:24:27   \n",
       "2        delivered      2018-08-08 08:38:49  2018-08-08 08:55:23   \n",
       "3        delivered      2017-11-18 19:28:06  2017-11-18 19:45:59   \n",
       "4        delivered      2018-02-13 21:18:39  2018-02-13 22:20:29   \n",
       "...            ...                      ...                  ...   \n",
       "99436    delivered      2017-03-09 09:54:05  2017-03-09 09:54:05   \n",
       "99437    delivered      2018-02-06 12:58:58  2018-02-06 13:10:37   \n",
       "99438    delivered      2017-08-27 14:46:43  2017-08-27 15:04:16   \n",
       "99439    delivered      2018-01-08 21:28:27  2018-01-08 21:36:21   \n",
       "99440    delivered      2018-03-08 20:57:30  2018-03-09 11:20:28   \n",
       "\n",
       "      order_delivered_carrier_date order_delivered_customer_date  \\\n",
       "0              2017-10-04 19:55:00           2017-10-10 21:25:13   \n",
       "1              2018-07-26 14:31:00           2018-08-07 15:27:45   \n",
       "2              2018-08-08 13:50:00           2018-08-17 18:06:29   \n",
       "3              2017-11-22 13:39:59           2017-12-02 00:28:42   \n",
       "4              2018-02-14 19:46:34           2018-02-16 18:17:02   \n",
       "...                            ...                           ...   \n",
       "99436          2017-03-10 11:18:03           2017-03-17 15:08:01   \n",
       "99437          2018-02-07 23:22:42           2018-02-28 17:37:56   \n",
       "99438          2017-08-28 20:52:26           2017-09-21 11:24:17   \n",
       "99439          2018-01-12 15:35:03           2018-01-25 23:32:54   \n",
       "99440          2018-03-09 22:11:59           2018-03-16 13:08:30   \n",
       "\n",
       "      order_estimated_delivery_date  \n",
       "0               2017-10-18 00:00:00  \n",
       "1               2018-08-13 00:00:00  \n",
       "2               2018-09-04 00:00:00  \n",
       "3               2017-12-15 00:00:00  \n",
       "4               2018-02-26 00:00:00  \n",
       "...                             ...  \n",
       "99436           2017-03-28 00:00:00  \n",
       "99437           2018-03-02 00:00:00  \n",
       "99438           2017-09-27 00:00:00  \n",
       "99439           2018-02-15 00:00:00  \n",
       "99440           2018-04-03 00:00:00  \n",
       "\n",
       "[99441 rows x 8 columns]"
      ]
     },
     "execution_count": 306,
     "metadata": {},
     "output_type": "execute_result"
    }
   ],
   "source": [
    "orders"
   ]
  },
  {
   "cell_type": "code",
   "execution_count": 307,
   "metadata": {
    "colab": {
     "base_uri": "https://localhost:8080/",
     "height": 515
    },
    "gather": {
     "logged": 1646272107879
    },
    "id": "qmaY-8w-ML7e",
    "outputId": "b8c6032b-5154-4d8e-f223-0b91ecc4e8d4"
   },
   "outputs": [],
   "source": [
    "product_info = pd.merge(order_items,products)"
   ]
  },
  {
   "cell_type": "code",
   "execution_count": 308,
   "metadata": {
    "gather": {
     "logged": 1646272107964
    },
    "jupyter": {
     "outputs_hidden": false,
     "source_hidden": false
    },
    "nteract": {
     "transient": {
      "deleting": false
     }
    }
   },
   "outputs": [],
   "source": [
    "order_product_info= pd.merge(orders,product_info)"
   ]
  },
  {
   "cell_type": "code",
   "execution_count": 309,
   "metadata": {
    "colab": {
     "base_uri": "https://localhost:8080/"
    },
    "gather": {
     "logged": 1646272108093
    },
    "id": "1wBN5MD-SC1f",
    "outputId": "0c940643-3f99-4d43-eb89-874d0e19988b"
   },
   "outputs": [],
   "source": [
    "customers_orders=pd.merge(customers_location,order_product_info)"
   ]
  },
  {
   "cell_type": "code",
   "execution_count": 310,
   "metadata": {
    "gather": {
     "logged": 1646272108180
    },
    "id": "ffP3cfN7SXx8"
   },
   "outputs": [],
   "source": [
    "final_Df = pd.merge(customers_orders,seller_locations)"
   ]
  },
  {
   "cell_type": "code",
   "execution_count": 311,
   "metadata": {
    "gather": {
     "logged": 1646272108440
    },
    "jupyter": {
     "outputs_hidden": false,
     "source_hidden": false
    },
    "nteract": {
     "transient": {
      "deleting": false
     }
    }
   },
   "outputs": [],
   "source": [
    "final_Df = final_Df[final_Df['order_status']=='delivered']"
   ]
  },
  {
   "cell_type": "code",
   "execution_count": 312,
   "metadata": {
    "gather": {
     "logged": 1646272108651
    },
    "jupyter": {
     "outputs_hidden": false,
     "source_hidden": false
    },
    "nteract": {
     "transient": {
      "deleting": false
     }
    }
   },
   "outputs": [],
   "source": [
    "def haversine_distance(lat1, lon1, lat2, lon2):\n",
    "   r = 6371\n",
    "   phi1 = np.radians(lat1)\n",
    "   phi2 = np.radians(lat2)\n",
    "   delta_phi = np.radians(np.array(lat2) - np.array(lat1))\n",
    "   delta_lambda = np.radians(np.array(lon2) - np.array(lon1))\n",
    "   a = np.sin(delta_phi / 2)**2 + np.cos(phi1) * np.cos(phi2) *   np.sin(delta_lambda / 2)**2\n",
    "   res = r * (2 * np.arctan2(np.sqrt(a), np.sqrt(1 - a)))\n",
    "   return np.round(res*0.6214, 2)"
   ]
  },
  {
   "cell_type": "code",
   "execution_count": 313,
   "metadata": {
    "gather": {
     "logged": 1646272108796
    },
    "jupyter": {
     "outputs_hidden": false,
     "source_hidden": false
    },
    "nteract": {
     "transient": {
      "deleting": false
     }
    }
   },
   "outputs": [],
   "source": [
    "final_Df['distance']= haversine_distance(final_Df['customer_lat'],final_Df['customer_lng'],final_Df['seller_lat'],final_Df['seller_lng'])"
   ]
  },
  {
   "cell_type": "code",
   "execution_count": 314,
   "metadata": {
    "gather": {
     "logged": 1646272108871
    },
    "jupyter": {
     "outputs_hidden": false,
     "source_hidden": false
    },
    "nteract": {
     "transient": {
      "deleting": false
     }
    }
   },
   "outputs": [
    {
     "data": {
      "text/html": [
       "<div>\n",
       "<style scoped>\n",
       "    .dataframe tbody tr th:only-of-type {\n",
       "        vertical-align: middle;\n",
       "    }\n",
       "\n",
       "    .dataframe tbody tr th {\n",
       "        vertical-align: top;\n",
       "    }\n",
       "\n",
       "    .dataframe thead th {\n",
       "        text-align: right;\n",
       "    }\n",
       "</style>\n",
       "<table border=\"1\" class=\"dataframe\">\n",
       "  <thead>\n",
       "    <tr style=\"text-align: right;\">\n",
       "      <th></th>\n",
       "      <th>customer_id</th>\n",
       "      <th>customer_zip_code_prefix</th>\n",
       "      <th>customer_city</th>\n",
       "      <th>customer_state</th>\n",
       "      <th>customer_lat</th>\n",
       "      <th>customer_lng</th>\n",
       "      <th>order_id</th>\n",
       "      <th>order_status</th>\n",
       "      <th>order_purchase_timestamp</th>\n",
       "      <th>order_approved_at</th>\n",
       "      <th>...</th>\n",
       "      <th>product_weight_g</th>\n",
       "      <th>product_length_cm</th>\n",
       "      <th>product_height_cm</th>\n",
       "      <th>product_width_cm</th>\n",
       "      <th>seller_zip_code_prefix</th>\n",
       "      <th>seller_city</th>\n",
       "      <th>seller_state</th>\n",
       "      <th>seller_lat</th>\n",
       "      <th>seller_lng</th>\n",
       "      <th>distance</th>\n",
       "    </tr>\n",
       "  </thead>\n",
       "  <tbody>\n",
       "    <tr>\n",
       "      <th>0</th>\n",
       "      <td>06b8999e2fba1a1fbc88172c00ba8bc7</td>\n",
       "      <td>14409</td>\n",
       "      <td>franca</td>\n",
       "      <td>SP</td>\n",
       "      <td>-20.468849</td>\n",
       "      <td>-47.382173</td>\n",
       "      <td>00e7ee1b050b8499577073aeb2a297a1</td>\n",
       "      <td>delivered</td>\n",
       "      <td>2017-05-16 15:05:35</td>\n",
       "      <td>2017-05-16 15:22:12</td>\n",
       "      <td>...</td>\n",
       "      <td>8683.0</td>\n",
       "      <td>54.0</td>\n",
       "      <td>64.0</td>\n",
       "      <td>31.0</td>\n",
       "      <td>8577</td>\n",
       "      <td>itaquaquecetuba</td>\n",
       "      <td>SP</td>\n",
       "      <td>-23.479473</td>\n",
       "      <td>-46.357851</td>\n",
       "      <td>218.13</td>\n",
       "    </tr>\n",
       "    <tr>\n",
       "      <th>1</th>\n",
       "      <td>4e7b3e00288586ebd08712fdd0374a03</td>\n",
       "      <td>1151</td>\n",
       "      <td>sao paulo</td>\n",
       "      <td>SP</td>\n",
       "      <td>-23.527788</td>\n",
       "      <td>-46.652997</td>\n",
       "      <td>b2059ed67ce144a36e2aa97d2c9e9ad2</td>\n",
       "      <td>delivered</td>\n",
       "      <td>2018-05-19 16:07:45</td>\n",
       "      <td>2018-05-20 16:19:10</td>\n",
       "      <td>...</td>\n",
       "      <td>8267.0</td>\n",
       "      <td>52.0</td>\n",
       "      <td>52.0</td>\n",
       "      <td>17.0</td>\n",
       "      <td>8577</td>\n",
       "      <td>itaquaquecetuba</td>\n",
       "      <td>SP</td>\n",
       "      <td>-23.479473</td>\n",
       "      <td>-46.357851</td>\n",
       "      <td>19.00</td>\n",
       "    </tr>\n",
       "    <tr>\n",
       "      <th>2</th>\n",
       "      <td>b2b6027bc5c5109e529d4dc6358b12c3</td>\n",
       "      <td>8775</td>\n",
       "      <td>mogi das cruzes</td>\n",
       "      <td>SP</td>\n",
       "      <td>-23.493944</td>\n",
       "      <td>-46.172406</td>\n",
       "      <td>951670f92359f4fe4a63112aa7306eba</td>\n",
       "      <td>delivered</td>\n",
       "      <td>2018-03-13 16:06:38</td>\n",
       "      <td>2018-03-13 17:29:19</td>\n",
       "      <td>...</td>\n",
       "      <td>12160.0</td>\n",
       "      <td>56.0</td>\n",
       "      <td>51.0</td>\n",
       "      <td>28.0</td>\n",
       "      <td>8577</td>\n",
       "      <td>itaquaquecetuba</td>\n",
       "      <td>SP</td>\n",
       "      <td>-23.479473</td>\n",
       "      <td>-46.357851</td>\n",
       "      <td>11.79</td>\n",
       "    </tr>\n",
       "    <tr>\n",
       "      <th>3</th>\n",
       "      <td>f2fdb2409d1c2b5018b19767572978d6</td>\n",
       "      <td>30575</td>\n",
       "      <td>belo horizonte</td>\n",
       "      <td>MG</td>\n",
       "      <td>-19.818637</td>\n",
       "      <td>-43.929691</td>\n",
       "      <td>930fb714ff2992c4ff14bf920af830e6</td>\n",
       "      <td>delivered</td>\n",
       "      <td>2017-12-03 14:52:12</td>\n",
       "      <td>2017-12-03 14:59:22</td>\n",
       "      <td>...</td>\n",
       "      <td>11875.0</td>\n",
       "      <td>57.0</td>\n",
       "      <td>55.0</td>\n",
       "      <td>22.0</td>\n",
       "      <td>8577</td>\n",
       "      <td>itaquaquecetuba</td>\n",
       "      <td>SP</td>\n",
       "      <td>-23.479473</td>\n",
       "      <td>-46.357851</td>\n",
       "      <td>297.14</td>\n",
       "    </tr>\n",
       "    <tr>\n",
       "      <th>4</th>\n",
       "      <td>bf45a4524fffba803efa07f225cdfda5</td>\n",
       "      <td>20231</td>\n",
       "      <td>rio de janeiro</td>\n",
       "      <td>RJ</td>\n",
       "      <td>-22.908714</td>\n",
       "      <td>-43.182574</td>\n",
       "      <td>22167b7870f3c3b844087c5cbafac521</td>\n",
       "      <td>delivered</td>\n",
       "      <td>2018-03-07 17:56:08</td>\n",
       "      <td>2018-03-09 02:30:55</td>\n",
       "      <td>...</td>\n",
       "      <td>13175.0</td>\n",
       "      <td>57.0</td>\n",
       "      <td>55.0</td>\n",
       "      <td>22.0</td>\n",
       "      <td>8577</td>\n",
       "      <td>itaquaquecetuba</td>\n",
       "      <td>SP</td>\n",
       "      <td>-23.479473</td>\n",
       "      <td>-46.357851</td>\n",
       "      <td>205.48</td>\n",
       "    </tr>\n",
       "    <tr>\n",
       "      <th>...</th>\n",
       "      <td>...</td>\n",
       "      <td>...</td>\n",
       "      <td>...</td>\n",
       "      <td>...</td>\n",
       "      <td>...</td>\n",
       "      <td>...</td>\n",
       "      <td>...</td>\n",
       "      <td>...</td>\n",
       "      <td>...</td>\n",
       "      <td>...</td>\n",
       "      <td>...</td>\n",
       "      <td>...</td>\n",
       "      <td>...</td>\n",
       "      <td>...</td>\n",
       "      <td>...</td>\n",
       "      <td>...</td>\n",
       "      <td>...</td>\n",
       "      <td>...</td>\n",
       "      <td>...</td>\n",
       "      <td>...</td>\n",
       "      <td>...</td>\n",
       "    </tr>\n",
       "    <tr>\n",
       "      <th>112052</th>\n",
       "      <td>d5d4cab5f11cc0e7d3c3882091d815c7</td>\n",
       "      <td>17320</td>\n",
       "      <td>mineiros do tiete</td>\n",
       "      <td>SP</td>\n",
       "      <td>-22.404782</td>\n",
       "      <td>-48.443557</td>\n",
       "      <td>deef94d95b5cf9c23e10621ad71a96b2</td>\n",
       "      <td>delivered</td>\n",
       "      <td>2017-03-18 11:40:26</td>\n",
       "      <td>2017-03-18 11:40:26</td>\n",
       "      <td>...</td>\n",
       "      <td>800.0</td>\n",
       "      <td>28.0</td>\n",
       "      <td>12.0</td>\n",
       "      <td>18.0</td>\n",
       "      <td>4164</td>\n",
       "      <td>sao paulo</td>\n",
       "      <td>SP</td>\n",
       "      <td>-23.621342</td>\n",
       "      <td>-46.605415</td>\n",
       "      <td>143.98</td>\n",
       "    </tr>\n",
       "    <tr>\n",
       "      <th>112053</th>\n",
       "      <td>1d3e643209846ffadac771cc5dc1ed4b</td>\n",
       "      <td>79320</td>\n",
       "      <td>corumba</td>\n",
       "      <td>MS</td>\n",
       "      <td>-19.014518</td>\n",
       "      <td>-57.643125</td>\n",
       "      <td>fd0342fda6ba083712b6ed0d4e6ac483</td>\n",
       "      <td>delivered</td>\n",
       "      <td>2018-07-23 16:24:27</td>\n",
       "      <td>2018-07-23 17:21:07</td>\n",
       "      <td>...</td>\n",
       "      <td>1450.0</td>\n",
       "      <td>60.0</td>\n",
       "      <td>5.0</td>\n",
       "      <td>30.0</td>\n",
       "      <td>83323</td>\n",
       "      <td>pinhais</td>\n",
       "      <td>PR</td>\n",
       "      <td>-25.432332</td>\n",
       "      <td>-49.183859</td>\n",
       "      <td>699.20</td>\n",
       "    </tr>\n",
       "    <tr>\n",
       "      <th>112054</th>\n",
       "      <td>124c96fb17eb2fc7f1611d3ca83d11ea</td>\n",
       "      <td>6887</td>\n",
       "      <td>itapecerica da serra</td>\n",
       "      <td>SP</td>\n",
       "      <td>-23.670573</td>\n",
       "      <td>-46.812776</td>\n",
       "      <td>90dbcfe5c30e1fd81cfaf22dc879e81b</td>\n",
       "      <td>delivered</td>\n",
       "      <td>2018-08-17 10:15:31</td>\n",
       "      <td>2018-08-17 10:30:16</td>\n",
       "      <td>...</td>\n",
       "      <td>2200.0</td>\n",
       "      <td>16.0</td>\n",
       "      <td>35.0</td>\n",
       "      <td>49.0</td>\n",
       "      <td>9380</td>\n",
       "      <td>maua</td>\n",
       "      <td>SP</td>\n",
       "      <td>-23.624618</td>\n",
       "      <td>-46.451878</td>\n",
       "      <td>23.06</td>\n",
       "    </tr>\n",
       "    <tr>\n",
       "      <th>112055</th>\n",
       "      <td>6d0c650bd30f4160b84c3634dd05b509</td>\n",
       "      <td>17533</td>\n",
       "      <td>marilia</td>\n",
       "      <td>SP</td>\n",
       "      <td>-22.154833</td>\n",
       "      <td>-49.935832</td>\n",
       "      <td>1175cf55b833823e2478956d6bb6e43c</td>\n",
       "      <td>delivered</td>\n",
       "      <td>2017-06-23 07:15:39</td>\n",
       "      <td>2017-06-23 07:25:15</td>\n",
       "      <td>...</td>\n",
       "      <td>700.0</td>\n",
       "      <td>16.0</td>\n",
       "      <td>16.0</td>\n",
       "      <td>16.0</td>\n",
       "      <td>87015</td>\n",
       "      <td>maringa</td>\n",
       "      <td>PR</td>\n",
       "      <td>-23.418061</td>\n",
       "      <td>-51.882767</td>\n",
       "      <td>151.66</td>\n",
       "    </tr>\n",
       "    <tr>\n",
       "      <th>112057</th>\n",
       "      <td>86025340edc60ca36327c4169f070f8e</td>\n",
       "      <td>89642</td>\n",
       "      <td>tangara</td>\n",
       "      <td>SC</td>\n",
       "      <td>-27.094676</td>\n",
       "      <td>-51.236373</td>\n",
       "      <td>e9613fa6e02ff8ae45f37ca30b0468a1</td>\n",
       "      <td>delivered</td>\n",
       "      <td>2017-12-20 12:04:33</td>\n",
       "      <td>2017-12-20 12:17:28</td>\n",
       "      <td>...</td>\n",
       "      <td>217.0</td>\n",
       "      <td>26.0</td>\n",
       "      <td>11.0</td>\n",
       "      <td>26.0</td>\n",
       "      <td>39442</td>\n",
       "      <td>janauba</td>\n",
       "      <td>MG</td>\n",
       "      <td>-15.784350</td>\n",
       "      <td>-43.305738</td>\n",
       "      <td>932.53</td>\n",
       "    </tr>\n",
       "  </tbody>\n",
       "</table>\n",
       "<p>109625 rows × 33 columns</p>\n",
       "</div>"
      ],
      "text/plain": [
       "                             customer_id  customer_zip_code_prefix  \\\n",
       "0       06b8999e2fba1a1fbc88172c00ba8bc7                     14409   \n",
       "1       4e7b3e00288586ebd08712fdd0374a03                      1151   \n",
       "2       b2b6027bc5c5109e529d4dc6358b12c3                      8775   \n",
       "3       f2fdb2409d1c2b5018b19767572978d6                     30575   \n",
       "4       bf45a4524fffba803efa07f225cdfda5                     20231   \n",
       "...                                  ...                       ...   \n",
       "112052  d5d4cab5f11cc0e7d3c3882091d815c7                     17320   \n",
       "112053  1d3e643209846ffadac771cc5dc1ed4b                     79320   \n",
       "112054  124c96fb17eb2fc7f1611d3ca83d11ea                      6887   \n",
       "112055  6d0c650bd30f4160b84c3634dd05b509                     17533   \n",
       "112057  86025340edc60ca36327c4169f070f8e                     89642   \n",
       "\n",
       "               customer_city customer_state  customer_lat  customer_lng  \\\n",
       "0                     franca             SP    -20.468849    -47.382173   \n",
       "1                  sao paulo             SP    -23.527788    -46.652997   \n",
       "2            mogi das cruzes             SP    -23.493944    -46.172406   \n",
       "3             belo horizonte             MG    -19.818637    -43.929691   \n",
       "4             rio de janeiro             RJ    -22.908714    -43.182574   \n",
       "...                      ...            ...           ...           ...   \n",
       "112052     mineiros do tiete             SP    -22.404782    -48.443557   \n",
       "112053               corumba             MS    -19.014518    -57.643125   \n",
       "112054  itapecerica da serra             SP    -23.670573    -46.812776   \n",
       "112055               marilia             SP    -22.154833    -49.935832   \n",
       "112057               tangara             SC    -27.094676    -51.236373   \n",
       "\n",
       "                                order_id order_status  \\\n",
       "0       00e7ee1b050b8499577073aeb2a297a1    delivered   \n",
       "1       b2059ed67ce144a36e2aa97d2c9e9ad2    delivered   \n",
       "2       951670f92359f4fe4a63112aa7306eba    delivered   \n",
       "3       930fb714ff2992c4ff14bf920af830e6    delivered   \n",
       "4       22167b7870f3c3b844087c5cbafac521    delivered   \n",
       "...                                  ...          ...   \n",
       "112052  deef94d95b5cf9c23e10621ad71a96b2    delivered   \n",
       "112053  fd0342fda6ba083712b6ed0d4e6ac483    delivered   \n",
       "112054  90dbcfe5c30e1fd81cfaf22dc879e81b    delivered   \n",
       "112055  1175cf55b833823e2478956d6bb6e43c    delivered   \n",
       "112057  e9613fa6e02ff8ae45f37ca30b0468a1    delivered   \n",
       "\n",
       "       order_purchase_timestamp    order_approved_at  ... product_weight_g  \\\n",
       "0           2017-05-16 15:05:35  2017-05-16 15:22:12  ...           8683.0   \n",
       "1           2018-05-19 16:07:45  2018-05-20 16:19:10  ...           8267.0   \n",
       "2           2018-03-13 16:06:38  2018-03-13 17:29:19  ...          12160.0   \n",
       "3           2017-12-03 14:52:12  2017-12-03 14:59:22  ...          11875.0   \n",
       "4           2018-03-07 17:56:08  2018-03-09 02:30:55  ...          13175.0   \n",
       "...                         ...                  ...  ...              ...   \n",
       "112052      2017-03-18 11:40:26  2017-03-18 11:40:26  ...            800.0   \n",
       "112053      2018-07-23 16:24:27  2018-07-23 17:21:07  ...           1450.0   \n",
       "112054      2018-08-17 10:15:31  2018-08-17 10:30:16  ...           2200.0   \n",
       "112055      2017-06-23 07:15:39  2017-06-23 07:25:15  ...            700.0   \n",
       "112057      2017-12-20 12:04:33  2017-12-20 12:17:28  ...            217.0   \n",
       "\n",
       "       product_length_cm product_height_cm  product_width_cm  \\\n",
       "0                   54.0              64.0              31.0   \n",
       "1                   52.0              52.0              17.0   \n",
       "2                   56.0              51.0              28.0   \n",
       "3                   57.0              55.0              22.0   \n",
       "4                   57.0              55.0              22.0   \n",
       "...                  ...               ...               ...   \n",
       "112052              28.0              12.0              18.0   \n",
       "112053              60.0               5.0              30.0   \n",
       "112054              16.0              35.0              49.0   \n",
       "112055              16.0              16.0              16.0   \n",
       "112057              26.0              11.0              26.0   \n",
       "\n",
       "       seller_zip_code_prefix      seller_city seller_state  seller_lat  \\\n",
       "0                        8577  itaquaquecetuba           SP  -23.479473   \n",
       "1                        8577  itaquaquecetuba           SP  -23.479473   \n",
       "2                        8577  itaquaquecetuba           SP  -23.479473   \n",
       "3                        8577  itaquaquecetuba           SP  -23.479473   \n",
       "4                        8577  itaquaquecetuba           SP  -23.479473   \n",
       "...                       ...              ...          ...         ...   \n",
       "112052                   4164        sao paulo           SP  -23.621342   \n",
       "112053                  83323          pinhais           PR  -25.432332   \n",
       "112054                   9380             maua           SP  -23.624618   \n",
       "112055                  87015          maringa           PR  -23.418061   \n",
       "112057                  39442          janauba           MG  -15.784350   \n",
       "\n",
       "        seller_lng distance  \n",
       "0       -46.357851   218.13  \n",
       "1       -46.357851    19.00  \n",
       "2       -46.357851    11.79  \n",
       "3       -46.357851   297.14  \n",
       "4       -46.357851   205.48  \n",
       "...            ...      ...  \n",
       "112052  -46.605415   143.98  \n",
       "112053  -49.183859   699.20  \n",
       "112054  -46.451878    23.06  \n",
       "112055  -51.882767   151.66  \n",
       "112057  -43.305738   932.53  \n",
       "\n",
       "[109625 rows x 33 columns]"
      ]
     },
     "execution_count": 314,
     "metadata": {},
     "output_type": "execute_result"
    }
   ],
   "source": [
    "final_Df"
   ]
  },
  {
   "cell_type": "code",
   "execution_count": 315,
   "metadata": {
    "gather": {
     "logged": 1646272108960
    },
    "jupyter": {
     "outputs_hidden": false,
     "source_hidden": false
    },
    "nteract": {
     "transient": {
      "deleting": false
     }
    }
   },
   "outputs": [
    {
     "data": {
      "text/plain": [
       "Index(['customer_id', 'customer_zip_code_prefix', 'customer_city',\n",
       "       'customer_state', 'customer_lat', 'customer_lng', 'order_id',\n",
       "       'order_status', 'order_purchase_timestamp', 'order_approved_at',\n",
       "       'order_delivered_carrier_date', 'order_delivered_customer_date',\n",
       "       'order_estimated_delivery_date', 'order_item_id', 'product_id',\n",
       "       'seller_id', 'shipping_limit_date', 'price', 'freight_value',\n",
       "       'product_category_name', 'product_name_lenght',\n",
       "       'product_description_lenght', 'product_photos_qty', 'product_weight_g',\n",
       "       'product_length_cm', 'product_height_cm', 'product_width_cm',\n",
       "       'seller_zip_code_prefix', 'seller_city', 'seller_state', 'seller_lat',\n",
       "       'seller_lng', 'distance'],\n",
       "      dtype='object')"
      ]
     },
     "execution_count": 315,
     "metadata": {},
     "output_type": "execute_result"
    }
   ],
   "source": [
    "final_Df.columns"
   ]
  },
  {
   "cell_type": "code",
   "execution_count": 316,
   "metadata": {
    "gather": {
     "logged": 1646272109045
    },
    "jupyter": {
     "outputs_hidden": false,
     "source_hidden": false
    },
    "nteract": {
     "transient": {
      "deleting": false
     }
    }
   },
   "outputs": [],
   "source": [
    "final_Df[['order_delivered_customer_date','order_purchase_timestamp','order_estimated_delivery_date']] = final_Df[['order_delivered_customer_date','order_purchase_timestamp','order_estimated_delivery_date']].apply(pd.to_datetime) # conversion required\n",
    "\n",
    "final_Df['actual_delivery_timeline']=(final_Df['order_delivered_customer_date'] - final_Df['order_purchase_timestamp']).dt.days\n",
    "\n",
    "final_Df['estimated_delivery_timeline']=(final_Df['order_delivered_customer_date'] - final_Df['order_estimated_delivery_date']).dt.days\n"
   ]
  },
  {
   "cell_type": "code",
   "execution_count": 317,
   "metadata": {
    "gather": {
     "logged": 1646272109112
    },
    "jupyter": {
     "outputs_hidden": false,
     "source_hidden": false
    },
    "nteract": {
     "transient": {
      "deleting": false
     }
    }
   },
   "outputs": [],
   "source": [
    "cols = [col for col in final_Df.columns if col in ['actual_delivery_timeline', 'distance','product_weight_g',\n",
    "       'product_length_cm', 'product_height_cm', 'product_width_cm','estimated_delivery_timeline','order_purchase_timestamp','order_delivered_customer_date','order_estimated_delivery_date','order_approved_at']]\n",
    "\n",
    "regression_columns = final_Df[cols]"
   ]
  },
  {
   "cell_type": "code",
   "execution_count": 318,
   "metadata": {
    "gather": {
     "logged": 1646272109195
    },
    "jupyter": {
     "outputs_hidden": false,
     "source_hidden": false
    },
    "nteract": {
     "transient": {
      "deleting": false
     }
    }
   },
   "outputs": [
    {
     "data": {
      "text/html": [
       "<div>\n",
       "<style scoped>\n",
       "    .dataframe tbody tr th:only-of-type {\n",
       "        vertical-align: middle;\n",
       "    }\n",
       "\n",
       "    .dataframe tbody tr th {\n",
       "        vertical-align: top;\n",
       "    }\n",
       "\n",
       "    .dataframe thead th {\n",
       "        text-align: right;\n",
       "    }\n",
       "</style>\n",
       "<table border=\"1\" class=\"dataframe\">\n",
       "  <thead>\n",
       "    <tr style=\"text-align: right;\">\n",
       "      <th></th>\n",
       "      <th>order_purchase_timestamp</th>\n",
       "      <th>order_approved_at</th>\n",
       "      <th>order_delivered_customer_date</th>\n",
       "      <th>order_estimated_delivery_date</th>\n",
       "      <th>product_weight_g</th>\n",
       "      <th>product_length_cm</th>\n",
       "      <th>product_height_cm</th>\n",
       "      <th>product_width_cm</th>\n",
       "      <th>distance</th>\n",
       "      <th>actual_delivery_timeline</th>\n",
       "      <th>estimated_delivery_timeline</th>\n",
       "    </tr>\n",
       "  </thead>\n",
       "  <tbody>\n",
       "    <tr>\n",
       "      <th>0</th>\n",
       "      <td>2017-05-16 15:05:35</td>\n",
       "      <td>2017-05-16 15:22:12</td>\n",
       "      <td>2017-05-25 10:35:35</td>\n",
       "      <td>2017-06-05</td>\n",
       "      <td>8683.0</td>\n",
       "      <td>54.0</td>\n",
       "      <td>64.0</td>\n",
       "      <td>31.0</td>\n",
       "      <td>218.13</td>\n",
       "      <td>8.0</td>\n",
       "      <td>-11.0</td>\n",
       "    </tr>\n",
       "    <tr>\n",
       "      <th>1</th>\n",
       "      <td>2018-05-19 16:07:45</td>\n",
       "      <td>2018-05-20 16:19:10</td>\n",
       "      <td>2018-06-14 17:58:51</td>\n",
       "      <td>2018-06-13</td>\n",
       "      <td>8267.0</td>\n",
       "      <td>52.0</td>\n",
       "      <td>52.0</td>\n",
       "      <td>17.0</td>\n",
       "      <td>19.00</td>\n",
       "      <td>26.0</td>\n",
       "      <td>1.0</td>\n",
       "    </tr>\n",
       "    <tr>\n",
       "      <th>2</th>\n",
       "      <td>2018-03-13 16:06:38</td>\n",
       "      <td>2018-03-13 17:29:19</td>\n",
       "      <td>2018-03-28 16:04:25</td>\n",
       "      <td>2018-04-10</td>\n",
       "      <td>12160.0</td>\n",
       "      <td>56.0</td>\n",
       "      <td>51.0</td>\n",
       "      <td>28.0</td>\n",
       "      <td>11.79</td>\n",
       "      <td>14.0</td>\n",
       "      <td>-13.0</td>\n",
       "    </tr>\n",
       "    <tr>\n",
       "      <th>3</th>\n",
       "      <td>2017-12-03 14:52:12</td>\n",
       "      <td>2017-12-03 14:59:22</td>\n",
       "      <td>2017-12-28 19:17:34</td>\n",
       "      <td>2018-01-11</td>\n",
       "      <td>11875.0</td>\n",
       "      <td>57.0</td>\n",
       "      <td>55.0</td>\n",
       "      <td>22.0</td>\n",
       "      <td>297.14</td>\n",
       "      <td>25.0</td>\n",
       "      <td>-14.0</td>\n",
       "    </tr>\n",
       "    <tr>\n",
       "      <th>4</th>\n",
       "      <td>2018-03-07 17:56:08</td>\n",
       "      <td>2018-03-09 02:30:55</td>\n",
       "      <td>2018-03-26 14:05:48</td>\n",
       "      <td>2018-04-24</td>\n",
       "      <td>13175.0</td>\n",
       "      <td>57.0</td>\n",
       "      <td>55.0</td>\n",
       "      <td>22.0</td>\n",
       "      <td>205.48</td>\n",
       "      <td>18.0</td>\n",
       "      <td>-29.0</td>\n",
       "    </tr>\n",
       "    <tr>\n",
       "      <th>...</th>\n",
       "      <td>...</td>\n",
       "      <td>...</td>\n",
       "      <td>...</td>\n",
       "      <td>...</td>\n",
       "      <td>...</td>\n",
       "      <td>...</td>\n",
       "      <td>...</td>\n",
       "      <td>...</td>\n",
       "      <td>...</td>\n",
       "      <td>...</td>\n",
       "      <td>...</td>\n",
       "    </tr>\n",
       "    <tr>\n",
       "      <th>112052</th>\n",
       "      <td>2017-03-18 11:40:26</td>\n",
       "      <td>2017-03-18 11:40:26</td>\n",
       "      <td>2017-03-27 12:56:01</td>\n",
       "      <td>2017-04-06</td>\n",
       "      <td>800.0</td>\n",
       "      <td>28.0</td>\n",
       "      <td>12.0</td>\n",
       "      <td>18.0</td>\n",
       "      <td>143.98</td>\n",
       "      <td>9.0</td>\n",
       "      <td>-10.0</td>\n",
       "    </tr>\n",
       "    <tr>\n",
       "      <th>112053</th>\n",
       "      <td>2018-07-23 16:24:27</td>\n",
       "      <td>2018-07-23 17:21:07</td>\n",
       "      <td>2018-08-01 23:46:21</td>\n",
       "      <td>2018-08-14</td>\n",
       "      <td>1450.0</td>\n",
       "      <td>60.0</td>\n",
       "      <td>5.0</td>\n",
       "      <td>30.0</td>\n",
       "      <td>699.20</td>\n",
       "      <td>9.0</td>\n",
       "      <td>-13.0</td>\n",
       "    </tr>\n",
       "    <tr>\n",
       "      <th>112054</th>\n",
       "      <td>2018-08-17 10:15:31</td>\n",
       "      <td>2018-08-17 10:30:16</td>\n",
       "      <td>2018-08-21 19:29:03</td>\n",
       "      <td>2018-08-27</td>\n",
       "      <td>2200.0</td>\n",
       "      <td>16.0</td>\n",
       "      <td>35.0</td>\n",
       "      <td>49.0</td>\n",
       "      <td>23.06</td>\n",
       "      <td>4.0</td>\n",
       "      <td>-6.0</td>\n",
       "    </tr>\n",
       "    <tr>\n",
       "      <th>112055</th>\n",
       "      <td>2017-06-23 07:15:39</td>\n",
       "      <td>2017-06-23 07:25:15</td>\n",
       "      <td>2017-07-04 15:51:59</td>\n",
       "      <td>2017-07-18</td>\n",
       "      <td>700.0</td>\n",
       "      <td>16.0</td>\n",
       "      <td>16.0</td>\n",
       "      <td>16.0</td>\n",
       "      <td>151.66</td>\n",
       "      <td>11.0</td>\n",
       "      <td>-14.0</td>\n",
       "    </tr>\n",
       "    <tr>\n",
       "      <th>112057</th>\n",
       "      <td>2017-12-20 12:04:33</td>\n",
       "      <td>2017-12-20 12:17:28</td>\n",
       "      <td>2018-01-08 21:39:27</td>\n",
       "      <td>2018-01-24</td>\n",
       "      <td>217.0</td>\n",
       "      <td>26.0</td>\n",
       "      <td>11.0</td>\n",
       "      <td>26.0</td>\n",
       "      <td>932.53</td>\n",
       "      <td>19.0</td>\n",
       "      <td>-16.0</td>\n",
       "    </tr>\n",
       "  </tbody>\n",
       "</table>\n",
       "<p>109625 rows × 11 columns</p>\n",
       "</div>"
      ],
      "text/plain": [
       "       order_purchase_timestamp    order_approved_at  \\\n",
       "0           2017-05-16 15:05:35  2017-05-16 15:22:12   \n",
       "1           2018-05-19 16:07:45  2018-05-20 16:19:10   \n",
       "2           2018-03-13 16:06:38  2018-03-13 17:29:19   \n",
       "3           2017-12-03 14:52:12  2017-12-03 14:59:22   \n",
       "4           2018-03-07 17:56:08  2018-03-09 02:30:55   \n",
       "...                         ...                  ...   \n",
       "112052      2017-03-18 11:40:26  2017-03-18 11:40:26   \n",
       "112053      2018-07-23 16:24:27  2018-07-23 17:21:07   \n",
       "112054      2018-08-17 10:15:31  2018-08-17 10:30:16   \n",
       "112055      2017-06-23 07:15:39  2017-06-23 07:25:15   \n",
       "112057      2017-12-20 12:04:33  2017-12-20 12:17:28   \n",
       "\n",
       "       order_delivered_customer_date order_estimated_delivery_date  \\\n",
       "0                2017-05-25 10:35:35                    2017-06-05   \n",
       "1                2018-06-14 17:58:51                    2018-06-13   \n",
       "2                2018-03-28 16:04:25                    2018-04-10   \n",
       "3                2017-12-28 19:17:34                    2018-01-11   \n",
       "4                2018-03-26 14:05:48                    2018-04-24   \n",
       "...                              ...                           ...   \n",
       "112052           2017-03-27 12:56:01                    2017-04-06   \n",
       "112053           2018-08-01 23:46:21                    2018-08-14   \n",
       "112054           2018-08-21 19:29:03                    2018-08-27   \n",
       "112055           2017-07-04 15:51:59                    2017-07-18   \n",
       "112057           2018-01-08 21:39:27                    2018-01-24   \n",
       "\n",
       "        product_weight_g  product_length_cm  product_height_cm  \\\n",
       "0                 8683.0               54.0               64.0   \n",
       "1                 8267.0               52.0               52.0   \n",
       "2                12160.0               56.0               51.0   \n",
       "3                11875.0               57.0               55.0   \n",
       "4                13175.0               57.0               55.0   \n",
       "...                  ...                ...                ...   \n",
       "112052             800.0               28.0               12.0   \n",
       "112053            1450.0               60.0                5.0   \n",
       "112054            2200.0               16.0               35.0   \n",
       "112055             700.0               16.0               16.0   \n",
       "112057             217.0               26.0               11.0   \n",
       "\n",
       "        product_width_cm  distance  actual_delivery_timeline  \\\n",
       "0                   31.0    218.13                       8.0   \n",
       "1                   17.0     19.00                      26.0   \n",
       "2                   28.0     11.79                      14.0   \n",
       "3                   22.0    297.14                      25.0   \n",
       "4                   22.0    205.48                      18.0   \n",
       "...                  ...       ...                       ...   \n",
       "112052              18.0    143.98                       9.0   \n",
       "112053              30.0    699.20                       9.0   \n",
       "112054              49.0     23.06                       4.0   \n",
       "112055              16.0    151.66                      11.0   \n",
       "112057              26.0    932.53                      19.0   \n",
       "\n",
       "        estimated_delivery_timeline  \n",
       "0                             -11.0  \n",
       "1                               1.0  \n",
       "2                             -13.0  \n",
       "3                             -14.0  \n",
       "4                             -29.0  \n",
       "...                             ...  \n",
       "112052                        -10.0  \n",
       "112053                        -13.0  \n",
       "112054                         -6.0  \n",
       "112055                        -14.0  \n",
       "112057                        -16.0  \n",
       "\n",
       "[109625 rows x 11 columns]"
      ]
     },
     "execution_count": 318,
     "metadata": {},
     "output_type": "execute_result"
    }
   ],
   "source": [
    "regression_columns"
   ]
  },
  {
   "cell_type": "markdown",
   "metadata": {
    "nteract": {
     "transient": {
      "deleting": false
     }
    }
   },
   "source": [
    "The formula to determine the density of an item is: LxWxH / 1728 = Cubic Feet (CU FT), Weight (Pounds)/CU FT = Density (#PCF)"
   ]
  },
  {
   "cell_type": "code",
   "execution_count": 319,
   "metadata": {
    "gather": {
     "logged": 1646272109280
    },
    "jupyter": {
     "outputs_hidden": false,
     "source_hidden": false
    },
    "nteract": {
     "transient": {
      "deleting": false
     }
    }
   },
   "outputs": [],
   "source": [
    "def density(l,w,h,weight):\n",
    "    l=np.array(l)*0.393701 # to convert to inches\n",
    "    w=np.array(w)*0.393701\n",
    "    h=np.array(h)*0.393701\n",
    "    Cubic_feet = l*w*h/1728\n",
    "    Density = (np.array(weight)*0.00220462)/Cubic_feet\n",
    "    return np.round(Density,2)"
   ]
  },
  {
   "cell_type": "code",
   "execution_count": 320,
   "metadata": {
    "gather": {
     "logged": 1646272109352
    },
    "jupyter": {
     "outputs_hidden": false,
     "source_hidden": false
    },
    "nteract": {
     "transient": {
      "deleting": false
     }
    }
   },
   "outputs": [
    {
     "name": "stderr",
     "output_type": "stream",
     "text": [
      "<ipython-input-320-9e8be174df53>:1: SettingWithCopyWarning: \n",
      "A value is trying to be set on a copy of a slice from a DataFrame.\n",
      "Try using .loc[row_indexer,col_indexer] = value instead\n",
      "\n",
      "See the caveats in the documentation: http://pandas.pydata.org/pandas-docs/stable/user_guide/indexing.html#returning-a-view-versus-a-copy\n",
      "  regression_columns['density']=density(regression_columns['product_length_cm'],regression_columns['product_width_cm'],regression_columns['product_height_cm'],regression_columns['product_weight_g'])\n"
     ]
    }
   ],
   "source": [
    "regression_columns['density']=density(regression_columns['product_length_cm'],regression_columns['product_width_cm'],regression_columns['product_height_cm'],regression_columns['product_weight_g'])"
   ]
  },
  {
   "cell_type": "code",
   "execution_count": 321,
   "metadata": {
    "gather": {
     "logged": 1646272109523
    },
    "jupyter": {
     "outputs_hidden": false,
     "source_hidden": false
    },
    "nteract": {
     "transient": {
      "deleting": false
     }
    }
   },
   "outputs": [],
   "source": [
    "regression_columns=regression_columns.dropna().drop_duplicates()"
   ]
  },
  {
   "cell_type": "code",
   "execution_count": 322,
   "metadata": {
    "gather": {
     "logged": 1646272109608
    },
    "jupyter": {
     "outputs_hidden": false,
     "source_hidden": false
    },
    "nteract": {
     "transient": {
      "deleting": false
     }
    }
   },
   "outputs": [
    {
     "data": {
      "text/html": [
       "<div>\n",
       "<style scoped>\n",
       "    .dataframe tbody tr th:only-of-type {\n",
       "        vertical-align: middle;\n",
       "    }\n",
       "\n",
       "    .dataframe tbody tr th {\n",
       "        vertical-align: top;\n",
       "    }\n",
       "\n",
       "    .dataframe thead th {\n",
       "        text-align: right;\n",
       "    }\n",
       "</style>\n",
       "<table border=\"1\" class=\"dataframe\">\n",
       "  <thead>\n",
       "    <tr style=\"text-align: right;\">\n",
       "      <th></th>\n",
       "      <th>order_purchase_timestamp</th>\n",
       "      <th>order_approved_at</th>\n",
       "      <th>order_delivered_customer_date</th>\n",
       "      <th>order_estimated_delivery_date</th>\n",
       "      <th>product_weight_g</th>\n",
       "      <th>product_length_cm</th>\n",
       "      <th>product_height_cm</th>\n",
       "      <th>product_width_cm</th>\n",
       "      <th>distance</th>\n",
       "      <th>actual_delivery_timeline</th>\n",
       "      <th>estimated_delivery_timeline</th>\n",
       "      <th>density</th>\n",
       "    </tr>\n",
       "  </thead>\n",
       "  <tbody>\n",
       "    <tr>\n",
       "      <th>0</th>\n",
       "      <td>2017-05-16 15:05:35</td>\n",
       "      <td>2017-05-16 15:22:12</td>\n",
       "      <td>2017-05-25 10:35:35</td>\n",
       "      <td>2017-06-05</td>\n",
       "      <td>8683.0</td>\n",
       "      <td>54.0</td>\n",
       "      <td>64.0</td>\n",
       "      <td>31.0</td>\n",
       "      <td>218.13</td>\n",
       "      <td>8.0</td>\n",
       "      <td>-11.0</td>\n",
       "      <td>5.06</td>\n",
       "    </tr>\n",
       "    <tr>\n",
       "      <th>1</th>\n",
       "      <td>2018-05-19 16:07:45</td>\n",
       "      <td>2018-05-20 16:19:10</td>\n",
       "      <td>2018-06-14 17:58:51</td>\n",
       "      <td>2018-06-13</td>\n",
       "      <td>8267.0</td>\n",
       "      <td>52.0</td>\n",
       "      <td>52.0</td>\n",
       "      <td>17.0</td>\n",
       "      <td>19.00</td>\n",
       "      <td>26.0</td>\n",
       "      <td>1.0</td>\n",
       "      <td>11.23</td>\n",
       "    </tr>\n",
       "    <tr>\n",
       "      <th>2</th>\n",
       "      <td>2018-03-13 16:06:38</td>\n",
       "      <td>2018-03-13 17:29:19</td>\n",
       "      <td>2018-03-28 16:04:25</td>\n",
       "      <td>2018-04-10</td>\n",
       "      <td>12160.0</td>\n",
       "      <td>56.0</td>\n",
       "      <td>51.0</td>\n",
       "      <td>28.0</td>\n",
       "      <td>11.79</td>\n",
       "      <td>14.0</td>\n",
       "      <td>-13.0</td>\n",
       "      <td>9.49</td>\n",
       "    </tr>\n",
       "    <tr>\n",
       "      <th>3</th>\n",
       "      <td>2017-12-03 14:52:12</td>\n",
       "      <td>2017-12-03 14:59:22</td>\n",
       "      <td>2017-12-28 19:17:34</td>\n",
       "      <td>2018-01-11</td>\n",
       "      <td>11875.0</td>\n",
       "      <td>57.0</td>\n",
       "      <td>55.0</td>\n",
       "      <td>22.0</td>\n",
       "      <td>297.14</td>\n",
       "      <td>25.0</td>\n",
       "      <td>-14.0</td>\n",
       "      <td>10.75</td>\n",
       "    </tr>\n",
       "    <tr>\n",
       "      <th>4</th>\n",
       "      <td>2018-03-07 17:56:08</td>\n",
       "      <td>2018-03-09 02:30:55</td>\n",
       "      <td>2018-03-26 14:05:48</td>\n",
       "      <td>2018-04-24</td>\n",
       "      <td>13175.0</td>\n",
       "      <td>57.0</td>\n",
       "      <td>55.0</td>\n",
       "      <td>22.0</td>\n",
       "      <td>205.48</td>\n",
       "      <td>18.0</td>\n",
       "      <td>-29.0</td>\n",
       "      <td>11.93</td>\n",
       "    </tr>\n",
       "    <tr>\n",
       "      <th>...</th>\n",
       "      <td>...</td>\n",
       "      <td>...</td>\n",
       "      <td>...</td>\n",
       "      <td>...</td>\n",
       "      <td>...</td>\n",
       "      <td>...</td>\n",
       "      <td>...</td>\n",
       "      <td>...</td>\n",
       "      <td>...</td>\n",
       "      <td>...</td>\n",
       "      <td>...</td>\n",
       "      <td>...</td>\n",
       "    </tr>\n",
       "    <tr>\n",
       "      <th>112052</th>\n",
       "      <td>2017-03-18 11:40:26</td>\n",
       "      <td>2017-03-18 11:40:26</td>\n",
       "      <td>2017-03-27 12:56:01</td>\n",
       "      <td>2017-04-06</td>\n",
       "      <td>800.0</td>\n",
       "      <td>28.0</td>\n",
       "      <td>12.0</td>\n",
       "      <td>18.0</td>\n",
       "      <td>143.98</td>\n",
       "      <td>9.0</td>\n",
       "      <td>-10.0</td>\n",
       "      <td>8.26</td>\n",
       "    </tr>\n",
       "    <tr>\n",
       "      <th>112053</th>\n",
       "      <td>2018-07-23 16:24:27</td>\n",
       "      <td>2018-07-23 17:21:07</td>\n",
       "      <td>2018-08-01 23:46:21</td>\n",
       "      <td>2018-08-14</td>\n",
       "      <td>1450.0</td>\n",
       "      <td>60.0</td>\n",
       "      <td>5.0</td>\n",
       "      <td>30.0</td>\n",
       "      <td>699.20</td>\n",
       "      <td>9.0</td>\n",
       "      <td>-13.0</td>\n",
       "      <td>10.06</td>\n",
       "    </tr>\n",
       "    <tr>\n",
       "      <th>112054</th>\n",
       "      <td>2018-08-17 10:15:31</td>\n",
       "      <td>2018-08-17 10:30:16</td>\n",
       "      <td>2018-08-21 19:29:03</td>\n",
       "      <td>2018-08-27</td>\n",
       "      <td>2200.0</td>\n",
       "      <td>16.0</td>\n",
       "      <td>35.0</td>\n",
       "      <td>49.0</td>\n",
       "      <td>23.06</td>\n",
       "      <td>4.0</td>\n",
       "      <td>-6.0</td>\n",
       "      <td>5.01</td>\n",
       "    </tr>\n",
       "    <tr>\n",
       "      <th>112055</th>\n",
       "      <td>2017-06-23 07:15:39</td>\n",
       "      <td>2017-06-23 07:25:15</td>\n",
       "      <td>2017-07-04 15:51:59</td>\n",
       "      <td>2017-07-18</td>\n",
       "      <td>700.0</td>\n",
       "      <td>16.0</td>\n",
       "      <td>16.0</td>\n",
       "      <td>16.0</td>\n",
       "      <td>151.66</td>\n",
       "      <td>11.0</td>\n",
       "      <td>-14.0</td>\n",
       "      <td>10.67</td>\n",
       "    </tr>\n",
       "    <tr>\n",
       "      <th>112057</th>\n",
       "      <td>2017-12-20 12:04:33</td>\n",
       "      <td>2017-12-20 12:17:28</td>\n",
       "      <td>2018-01-08 21:39:27</td>\n",
       "      <td>2018-01-24</td>\n",
       "      <td>217.0</td>\n",
       "      <td>26.0</td>\n",
       "      <td>11.0</td>\n",
       "      <td>26.0</td>\n",
       "      <td>932.53</td>\n",
       "      <td>19.0</td>\n",
       "      <td>-16.0</td>\n",
       "      <td>1.82</td>\n",
       "    </tr>\n",
       "  </tbody>\n",
       "</table>\n",
       "<p>99250 rows × 12 columns</p>\n",
       "</div>"
      ],
      "text/plain": [
       "       order_purchase_timestamp    order_approved_at  \\\n",
       "0           2017-05-16 15:05:35  2017-05-16 15:22:12   \n",
       "1           2018-05-19 16:07:45  2018-05-20 16:19:10   \n",
       "2           2018-03-13 16:06:38  2018-03-13 17:29:19   \n",
       "3           2017-12-03 14:52:12  2017-12-03 14:59:22   \n",
       "4           2018-03-07 17:56:08  2018-03-09 02:30:55   \n",
       "...                         ...                  ...   \n",
       "112052      2017-03-18 11:40:26  2017-03-18 11:40:26   \n",
       "112053      2018-07-23 16:24:27  2018-07-23 17:21:07   \n",
       "112054      2018-08-17 10:15:31  2018-08-17 10:30:16   \n",
       "112055      2017-06-23 07:15:39  2017-06-23 07:25:15   \n",
       "112057      2017-12-20 12:04:33  2017-12-20 12:17:28   \n",
       "\n",
       "       order_delivered_customer_date order_estimated_delivery_date  \\\n",
       "0                2017-05-25 10:35:35                    2017-06-05   \n",
       "1                2018-06-14 17:58:51                    2018-06-13   \n",
       "2                2018-03-28 16:04:25                    2018-04-10   \n",
       "3                2017-12-28 19:17:34                    2018-01-11   \n",
       "4                2018-03-26 14:05:48                    2018-04-24   \n",
       "...                              ...                           ...   \n",
       "112052           2017-03-27 12:56:01                    2017-04-06   \n",
       "112053           2018-08-01 23:46:21                    2018-08-14   \n",
       "112054           2018-08-21 19:29:03                    2018-08-27   \n",
       "112055           2017-07-04 15:51:59                    2017-07-18   \n",
       "112057           2018-01-08 21:39:27                    2018-01-24   \n",
       "\n",
       "        product_weight_g  product_length_cm  product_height_cm  \\\n",
       "0                 8683.0               54.0               64.0   \n",
       "1                 8267.0               52.0               52.0   \n",
       "2                12160.0               56.0               51.0   \n",
       "3                11875.0               57.0               55.0   \n",
       "4                13175.0               57.0               55.0   \n",
       "...                  ...                ...                ...   \n",
       "112052             800.0               28.0               12.0   \n",
       "112053            1450.0               60.0                5.0   \n",
       "112054            2200.0               16.0               35.0   \n",
       "112055             700.0               16.0               16.0   \n",
       "112057             217.0               26.0               11.0   \n",
       "\n",
       "        product_width_cm  distance  actual_delivery_timeline  \\\n",
       "0                   31.0    218.13                       8.0   \n",
       "1                   17.0     19.00                      26.0   \n",
       "2                   28.0     11.79                      14.0   \n",
       "3                   22.0    297.14                      25.0   \n",
       "4                   22.0    205.48                      18.0   \n",
       "...                  ...       ...                       ...   \n",
       "112052              18.0    143.98                       9.0   \n",
       "112053              30.0    699.20                       9.0   \n",
       "112054              49.0     23.06                       4.0   \n",
       "112055              16.0    151.66                      11.0   \n",
       "112057              26.0    932.53                      19.0   \n",
       "\n",
       "        estimated_delivery_timeline  density  \n",
       "0                             -11.0     5.06  \n",
       "1                               1.0    11.23  \n",
       "2                             -13.0     9.49  \n",
       "3                             -14.0    10.75  \n",
       "4                             -29.0    11.93  \n",
       "...                             ...      ...  \n",
       "112052                        -10.0     8.26  \n",
       "112053                        -13.0    10.06  \n",
       "112054                         -6.0     5.01  \n",
       "112055                        -14.0    10.67  \n",
       "112057                        -16.0     1.82  \n",
       "\n",
       "[99250 rows x 12 columns]"
      ]
     },
     "execution_count": 322,
     "metadata": {},
     "output_type": "execute_result"
    }
   ],
   "source": [
    "regression_columns"
   ]
  },
  {
   "cell_type": "code",
   "execution_count": 343,
   "metadata": {
    "gather": {
     "logged": 1646272412687
    },
    "jupyter": {
     "outputs_hidden": false,
     "source_hidden": false
    },
    "nteract": {
     "transient": {
      "deleting": false
     }
    }
   },
   "outputs": [],
   "source": [
    "model_features = regression_columns.loc[:,['distance','density','actual_delivery_timeline']]"
   ]
  },
  {
   "cell_type": "code",
   "execution_count": 359,
   "metadata": {
    "gather": {
     "logged": 1646272723025
    },
    "jupyter": {
     "outputs_hidden": false,
     "source_hidden": false
    },
    "nteract": {
     "transient": {
      "deleting": false
     }
    }
   },
   "outputs": [
    {
     "data": {
      "text/html": [
       "<div>\n",
       "<style scoped>\n",
       "    .dataframe tbody tr th:only-of-type {\n",
       "        vertical-align: middle;\n",
       "    }\n",
       "\n",
       "    .dataframe tbody tr th {\n",
       "        vertical-align: top;\n",
       "    }\n",
       "\n",
       "    .dataframe thead th {\n",
       "        text-align: right;\n",
       "    }\n",
       "</style>\n",
       "<table border=\"1\" class=\"dataframe\">\n",
       "  <thead>\n",
       "    <tr style=\"text-align: right;\">\n",
       "      <th></th>\n",
       "      <th>distance</th>\n",
       "      <th>density</th>\n",
       "      <th>actual_delivery_timeline</th>\n",
       "    </tr>\n",
       "  </thead>\n",
       "  <tbody>\n",
       "    <tr>\n",
       "      <th>0</th>\n",
       "      <td>218.13</td>\n",
       "      <td>5.06</td>\n",
       "      <td>8.0</td>\n",
       "    </tr>\n",
       "    <tr>\n",
       "      <th>1</th>\n",
       "      <td>19.00</td>\n",
       "      <td>11.23</td>\n",
       "      <td>26.0</td>\n",
       "    </tr>\n",
       "    <tr>\n",
       "      <th>2</th>\n",
       "      <td>11.79</td>\n",
       "      <td>9.49</td>\n",
       "      <td>14.0</td>\n",
       "    </tr>\n",
       "    <tr>\n",
       "      <th>3</th>\n",
       "      <td>297.14</td>\n",
       "      <td>10.75</td>\n",
       "      <td>25.0</td>\n",
       "    </tr>\n",
       "    <tr>\n",
       "      <th>4</th>\n",
       "      <td>205.48</td>\n",
       "      <td>11.93</td>\n",
       "      <td>18.0</td>\n",
       "    </tr>\n",
       "    <tr>\n",
       "      <th>...</th>\n",
       "      <td>...</td>\n",
       "      <td>...</td>\n",
       "      <td>...</td>\n",
       "    </tr>\n",
       "    <tr>\n",
       "      <th>112052</th>\n",
       "      <td>143.98</td>\n",
       "      <td>8.26</td>\n",
       "      <td>9.0</td>\n",
       "    </tr>\n",
       "    <tr>\n",
       "      <th>112053</th>\n",
       "      <td>699.20</td>\n",
       "      <td>10.06</td>\n",
       "      <td>9.0</td>\n",
       "    </tr>\n",
       "    <tr>\n",
       "      <th>112054</th>\n",
       "      <td>23.06</td>\n",
       "      <td>5.01</td>\n",
       "      <td>4.0</td>\n",
       "    </tr>\n",
       "    <tr>\n",
       "      <th>112055</th>\n",
       "      <td>151.66</td>\n",
       "      <td>10.67</td>\n",
       "      <td>11.0</td>\n",
       "    </tr>\n",
       "    <tr>\n",
       "      <th>112057</th>\n",
       "      <td>932.53</td>\n",
       "      <td>1.82</td>\n",
       "      <td>19.0</td>\n",
       "    </tr>\n",
       "  </tbody>\n",
       "</table>\n",
       "<p>99250 rows × 3 columns</p>\n",
       "</div>"
      ],
      "text/plain": [
       "        distance  density  actual_delivery_timeline\n",
       "0         218.13     5.06                       8.0\n",
       "1          19.00    11.23                      26.0\n",
       "2          11.79     9.49                      14.0\n",
       "3         297.14    10.75                      25.0\n",
       "4         205.48    11.93                      18.0\n",
       "...          ...      ...                       ...\n",
       "112052    143.98     8.26                       9.0\n",
       "112053    699.20    10.06                       9.0\n",
       "112054     23.06     5.01                       4.0\n",
       "112055    151.66    10.67                      11.0\n",
       "112057    932.53     1.82                      19.0\n",
       "\n",
       "[99250 rows x 3 columns]"
      ]
     },
     "execution_count": 359,
     "metadata": {},
     "output_type": "execute_result"
    }
   ],
   "source": [
    "model_features"
   ]
  },
  {
   "cell_type": "code",
   "execution_count": 344,
   "metadata": {
    "gather": {
     "logged": 1646272414300
    },
    "jupyter": {
     "outputs_hidden": false,
     "source_hidden": false
    },
    "nteract": {
     "transient": {
      "deleting": false
     }
    }
   },
   "outputs": [],
   "source": [
    "from sklearn.preprocessing import StandardScaler\n",
    "scaler = StandardScaler()\n",
    "scaled_values=scaler.fit_transform(model_features.iloc[:,:-1])\n",
    "scaler_df = pd.DataFrame(scaled_values,columns=['distance','density'])"
   ]
  },
  {
   "cell_type": "code",
   "execution_count": 345,
   "metadata": {
    "gather": {
     "logged": 1646272416934
    },
    "jupyter": {
     "outputs_hidden": false,
     "source_hidden": false
    },
    "nteract": {
     "transient": {
      "deleting": false
     }
    }
   },
   "outputs": [
    {
     "data": {
      "text/html": [
       "<div>\n",
       "<style scoped>\n",
       "    .dataframe tbody tr th:only-of-type {\n",
       "        vertical-align: middle;\n",
       "    }\n",
       "\n",
       "    .dataframe tbody tr th {\n",
       "        vertical-align: top;\n",
       "    }\n",
       "\n",
       "    .dataframe thead th {\n",
       "        text-align: right;\n",
       "    }\n",
       "</style>\n",
       "<table border=\"1\" class=\"dataframe\">\n",
       "  <thead>\n",
       "    <tr style=\"text-align: right;\">\n",
       "      <th></th>\n",
       "      <th>distance</th>\n",
       "      <th>density</th>\n",
       "    </tr>\n",
       "  </thead>\n",
       "  <tbody>\n",
       "    <tr>\n",
       "      <th>0</th>\n",
       "      <td>-0.418658</td>\n",
       "      <td>-0.155898</td>\n",
       "    </tr>\n",
       "    <tr>\n",
       "      <th>1</th>\n",
       "      <td>-0.947486</td>\n",
       "      <td>-0.015926</td>\n",
       "    </tr>\n",
       "    <tr>\n",
       "      <th>2</th>\n",
       "      <td>-0.966634</td>\n",
       "      <td>-0.055400</td>\n",
       "    </tr>\n",
       "    <tr>\n",
       "      <th>3</th>\n",
       "      <td>-0.208832</td>\n",
       "      <td>-0.026815</td>\n",
       "    </tr>\n",
       "    <tr>\n",
       "      <th>4</th>\n",
       "      <td>-0.452253</td>\n",
       "      <td>-0.000046</td>\n",
       "    </tr>\n",
       "    <tr>\n",
       "      <th>...</th>\n",
       "      <td>...</td>\n",
       "      <td>...</td>\n",
       "    </tr>\n",
       "    <tr>\n",
       "      <th>99245</th>\n",
       "      <td>-0.615578</td>\n",
       "      <td>-0.083303</td>\n",
       "    </tr>\n",
       "    <tr>\n",
       "      <th>99246</th>\n",
       "      <td>0.858916</td>\n",
       "      <td>-0.042469</td>\n",
       "    </tr>\n",
       "    <tr>\n",
       "      <th>99247</th>\n",
       "      <td>-0.936704</td>\n",
       "      <td>-0.157032</td>\n",
       "    </tr>\n",
       "    <tr>\n",
       "      <th>99248</th>\n",
       "      <td>-0.595182</td>\n",
       "      <td>-0.028630</td>\n",
       "    </tr>\n",
       "    <tr>\n",
       "      <th>99249</th>\n",
       "      <td>1.478568</td>\n",
       "      <td>-0.229400</td>\n",
       "    </tr>\n",
       "  </tbody>\n",
       "</table>\n",
       "<p>99250 rows × 2 columns</p>\n",
       "</div>"
      ],
      "text/plain": [
       "       distance   density\n",
       "0     -0.418658 -0.155898\n",
       "1     -0.947486 -0.015926\n",
       "2     -0.966634 -0.055400\n",
       "3     -0.208832 -0.026815\n",
       "4     -0.452253 -0.000046\n",
       "...         ...       ...\n",
       "99245 -0.615578 -0.083303\n",
       "99246  0.858916 -0.042469\n",
       "99247 -0.936704 -0.157032\n",
       "99248 -0.595182 -0.028630\n",
       "99249  1.478568 -0.229400\n",
       "\n",
       "[99250 rows x 2 columns]"
      ]
     },
     "execution_count": 345,
     "metadata": {},
     "output_type": "execute_result"
    }
   ],
   "source": [
    "scaler_df"
   ]
  },
  {
   "cell_type": "code",
   "execution_count": 346,
   "metadata": {
    "gather": {
     "logged": 1646272426671
    },
    "jupyter": {
     "outputs_hidden": false,
     "source_hidden": false
    },
    "nteract": {
     "transient": {
      "deleting": false
     }
    }
   },
   "outputs": [],
   "source": [
    "Q1 = scaler_df.density.quantile(0.05)\n",
    "Q3 = scaler_df.density.quantile(0.95)\n",
    "IQR = Q3 - Q1\n",
    "scaler_df = scaler_df[(scaler_df.density >= Q1 - 1.5*IQR) & (scaler_df.density <= Q3 + 1.5*IQR)]\n",
    "\n",
    "Q1 = scaler_df.distance.quantile(0.05)\n",
    "Q3 = scaler_df.distance.quantile(0.95)\n",
    "IQR = Q3 - Q1\n",
    "scaler_df = scaler_df[(scaler_df.distance >= Q1 - 1.5*IQR) & (scaler_df.distance <= Q3 + 1.5*IQR)]"
   ]
  },
  {
   "cell_type": "code",
   "execution_count": 351,
   "metadata": {
    "gather": {
     "logged": 1646272570702
    },
    "jupyter": {
     "outputs_hidden": false,
     "source_hidden": false
    },
    "nteract": {
     "transient": {
      "deleting": false
     }
    }
   },
   "outputs": [
    {
     "data": {
      "text/html": [
       "<div>\n",
       "<style scoped>\n",
       "    .dataframe tbody tr th:only-of-type {\n",
       "        vertical-align: middle;\n",
       "    }\n",
       "\n",
       "    .dataframe tbody tr th {\n",
       "        vertical-align: top;\n",
       "    }\n",
       "\n",
       "    .dataframe thead th {\n",
       "        text-align: right;\n",
       "    }\n",
       "</style>\n",
       "<table border=\"1\" class=\"dataframe\">\n",
       "  <thead>\n",
       "    <tr style=\"text-align: right;\">\n",
       "      <th></th>\n",
       "      <th>distance</th>\n",
       "      <th>density</th>\n",
       "    </tr>\n",
       "  </thead>\n",
       "  <tbody>\n",
       "    <tr>\n",
       "      <th>0</th>\n",
       "      <td>-0.418658</td>\n",
       "      <td>-0.155898</td>\n",
       "    </tr>\n",
       "    <tr>\n",
       "      <th>1</th>\n",
       "      <td>-0.947486</td>\n",
       "      <td>-0.015926</td>\n",
       "    </tr>\n",
       "    <tr>\n",
       "      <th>2</th>\n",
       "      <td>-0.966634</td>\n",
       "      <td>-0.055400</td>\n",
       "    </tr>\n",
       "    <tr>\n",
       "      <th>3</th>\n",
       "      <td>-0.208832</td>\n",
       "      <td>-0.026815</td>\n",
       "    </tr>\n",
       "    <tr>\n",
       "      <th>4</th>\n",
       "      <td>-0.452253</td>\n",
       "      <td>-0.000046</td>\n",
       "    </tr>\n",
       "    <tr>\n",
       "      <th>...</th>\n",
       "      <td>...</td>\n",
       "      <td>...</td>\n",
       "    </tr>\n",
       "    <tr>\n",
       "      <th>99245</th>\n",
       "      <td>-0.615578</td>\n",
       "      <td>-0.083303</td>\n",
       "    </tr>\n",
       "    <tr>\n",
       "      <th>99246</th>\n",
       "      <td>0.858916</td>\n",
       "      <td>-0.042469</td>\n",
       "    </tr>\n",
       "    <tr>\n",
       "      <th>99247</th>\n",
       "      <td>-0.936704</td>\n",
       "      <td>-0.157032</td>\n",
       "    </tr>\n",
       "    <tr>\n",
       "      <th>99248</th>\n",
       "      <td>-0.595182</td>\n",
       "      <td>-0.028630</td>\n",
       "    </tr>\n",
       "    <tr>\n",
       "      <th>99249</th>\n",
       "      <td>1.478568</td>\n",
       "      <td>-0.229400</td>\n",
       "    </tr>\n",
       "  </tbody>\n",
       "</table>\n",
       "<p>98368 rows × 2 columns</p>\n",
       "</div>"
      ],
      "text/plain": [
       "       distance   density\n",
       "0     -0.418658 -0.155898\n",
       "1     -0.947486 -0.015926\n",
       "2     -0.966634 -0.055400\n",
       "3     -0.208832 -0.026815\n",
       "4     -0.452253 -0.000046\n",
       "...         ...       ...\n",
       "99245 -0.615578 -0.083303\n",
       "99246  0.858916 -0.042469\n",
       "99247 -0.936704 -0.157032\n",
       "99248 -0.595182 -0.028630\n",
       "99249  1.478568 -0.229400\n",
       "\n",
       "[98368 rows x 2 columns]"
      ]
     },
     "execution_count": 351,
     "metadata": {},
     "output_type": "execute_result"
    }
   ],
   "source": [
    "scaler_df"
   ]
  },
  {
   "cell_type": "code",
   "execution_count": 349,
   "metadata": {
    "gather": {
     "logged": 1646272551733
    },
    "jupyter": {
     "outputs_hidden": false,
     "source_hidden": false
    },
    "nteract": {
     "transient": {
      "deleting": false
     }
    }
   },
   "outputs": [],
   "source": [
    "model_df = pd.merge(scaler_df,regression_columns.loc[:,['actual_delivery_timeline']],left_index=True,right_index=True)"
   ]
  },
  {
   "cell_type": "code",
   "execution_count": 350,
   "metadata": {
    "gather": {
     "logged": 1646272555970
    },
    "jupyter": {
     "outputs_hidden": false,
     "source_hidden": false
    },
    "nteract": {
     "transient": {
      "deleting": false
     }
    }
   },
   "outputs": [
    {
     "data": {
      "text/html": [
       "<div>\n",
       "<style scoped>\n",
       "    .dataframe tbody tr th:only-of-type {\n",
       "        vertical-align: middle;\n",
       "    }\n",
       "\n",
       "    .dataframe tbody tr th {\n",
       "        vertical-align: top;\n",
       "    }\n",
       "\n",
       "    .dataframe thead th {\n",
       "        text-align: right;\n",
       "    }\n",
       "</style>\n",
       "<table border=\"1\" class=\"dataframe\">\n",
       "  <thead>\n",
       "    <tr style=\"text-align: right;\">\n",
       "      <th></th>\n",
       "      <th>distance</th>\n",
       "      <th>density</th>\n",
       "      <th>actual_delivery_timeline</th>\n",
       "    </tr>\n",
       "  </thead>\n",
       "  <tbody>\n",
       "    <tr>\n",
       "      <th>0</th>\n",
       "      <td>-0.418658</td>\n",
       "      <td>-0.155898</td>\n",
       "      <td>8.0</td>\n",
       "    </tr>\n",
       "    <tr>\n",
       "      <th>1</th>\n",
       "      <td>-0.947486</td>\n",
       "      <td>-0.015926</td>\n",
       "      <td>26.0</td>\n",
       "    </tr>\n",
       "    <tr>\n",
       "      <th>2</th>\n",
       "      <td>-0.966634</td>\n",
       "      <td>-0.055400</td>\n",
       "      <td>14.0</td>\n",
       "    </tr>\n",
       "    <tr>\n",
       "      <th>3</th>\n",
       "      <td>-0.208832</td>\n",
       "      <td>-0.026815</td>\n",
       "      <td>25.0</td>\n",
       "    </tr>\n",
       "    <tr>\n",
       "      <th>4</th>\n",
       "      <td>-0.452253</td>\n",
       "      <td>-0.000046</td>\n",
       "      <td>18.0</td>\n",
       "    </tr>\n",
       "    <tr>\n",
       "      <th>...</th>\n",
       "      <td>...</td>\n",
       "      <td>...</td>\n",
       "      <td>...</td>\n",
       "    </tr>\n",
       "    <tr>\n",
       "      <th>99245</th>\n",
       "      <td>-0.615578</td>\n",
       "      <td>-0.083303</td>\n",
       "      <td>6.0</td>\n",
       "    </tr>\n",
       "    <tr>\n",
       "      <th>99246</th>\n",
       "      <td>0.858916</td>\n",
       "      <td>-0.042469</td>\n",
       "      <td>12.0</td>\n",
       "    </tr>\n",
       "    <tr>\n",
       "      <th>99247</th>\n",
       "      <td>-0.936704</td>\n",
       "      <td>-0.157032</td>\n",
       "      <td>20.0</td>\n",
       "    </tr>\n",
       "    <tr>\n",
       "      <th>99248</th>\n",
       "      <td>-0.595182</td>\n",
       "      <td>-0.028630</td>\n",
       "      <td>28.0</td>\n",
       "    </tr>\n",
       "    <tr>\n",
       "      <th>99249</th>\n",
       "      <td>1.478568</td>\n",
       "      <td>-0.229400</td>\n",
       "      <td>14.0</td>\n",
       "    </tr>\n",
       "  </tbody>\n",
       "</table>\n",
       "<p>87757 rows × 3 columns</p>\n",
       "</div>"
      ],
      "text/plain": [
       "       distance   density  actual_delivery_timeline\n",
       "0     -0.418658 -0.155898                       8.0\n",
       "1     -0.947486 -0.015926                      26.0\n",
       "2     -0.966634 -0.055400                      14.0\n",
       "3     -0.208832 -0.026815                      25.0\n",
       "4     -0.452253 -0.000046                      18.0\n",
       "...         ...       ...                       ...\n",
       "99245 -0.615578 -0.083303                       6.0\n",
       "99246  0.858916 -0.042469                      12.0\n",
       "99247 -0.936704 -0.157032                      20.0\n",
       "99248 -0.595182 -0.028630                      28.0\n",
       "99249  1.478568 -0.229400                      14.0\n",
       "\n",
       "[87757 rows x 3 columns]"
      ]
     },
     "execution_count": 350,
     "metadata": {},
     "output_type": "execute_result"
    }
   ],
   "source": [
    "model_df"
   ]
  },
  {
   "cell_type": "code",
   "execution_count": 352,
   "metadata": {
    "gather": {
     "logged": 1646272593076
    },
    "jupyter": {
     "outputs_hidden": false,
     "source_hidden": false
    },
    "nteract": {
     "transient": {
      "deleting": false
     }
    }
   },
   "outputs": [
    {
     "data": {
      "image/png": "[encoded data removed]",
      "text/plain": [
       "<Figure size 1000x800 with 1 Axes>"
      ]
     },
     "metadata": {},
     "output_type": "display_data"
    }
   ],
   "source": [
    "#plotting post removing outliers\n",
    "attributes = ['distance','density']\n",
    "plt.rcParams['figure.figsize'] = [10,8]\n",
    "sns.boxplot(data = model_df[attributes], orient=\"v\", palette=\"Set2\" ,whis=1.5,saturation=1, width=0.7)\n",
    "plt.title(\"Variable Distribution post Removing Outliers \", fontsize = 14, fontweight = 'bold')\n",
    "plt.ylabel(\"Range\", fontweight = 'bold')\n",
    "plt.xlabel(\"Attributes\", fontweight = 'bold')\n",
    "plt.show()"
   ]
  },
  {
   "cell_type": "code",
   "execution_count": 353,
   "metadata": {
    "gather": {
     "logged": 1646272600926
    },
    "jupyter": {
     "outputs_hidden": false,
     "source_hidden": false
    },
    "nteract": {
     "transient": {
      "deleting": false
     }
    }
   },
   "outputs": [],
   "source": [
    "from sklearn.model_selection import train_test_split\n",
    "\n",
    "X_train, X_test, y_train, y_test = train_test_split(model_df.iloc[:,:-1], model_df.iloc[:,-1], test_size=0.3, random_state=42)"
   ]
  },
  {
   "cell_type": "code",
   "execution_count": 354,
   "metadata": {
    "gather": {
     "logged": 1646272603916
    },
    "jupyter": {
     "outputs_hidden": false,
     "source_hidden": false
    },
    "nteract": {
     "transient": {
      "deleting": false
     }
    }
   },
   "outputs": [
    {
     "data": {
      "text/plain": [
       "LinearRegression()"
      ]
     },
     "execution_count": 354,
     "metadata": {},
     "output_type": "execute_result"
    }
   ],
   "source": [
    "from sklearn.linear_model import LinearRegression\n",
    "# creating an object of LinearRegression class\n",
    "LR = LinearRegression()\n",
    "# fitting the training data\n",
    "LR.fit(X_train,y_train)"
   ]
  },
  {
   "cell_type": "code",
   "execution_count": 355,
   "metadata": {
    "gather": {
     "logged": 1646272606099
    },
    "jupyter": {
     "outputs_hidden": false,
     "source_hidden": false
    },
    "nteract": {
     "transient": {
      "deleting": false
     }
    }
   },
   "outputs": [
    {
     "data": {
      "text/plain": [
       "array([11.8948229 , 12.579655  , 11.86627513, ..., 11.88987976,\n",
       "       11.89898869, 12.00967208])"
      ]
     },
     "execution_count": 355,
     "metadata": {},
     "output_type": "execute_result"
    }
   ],
   "source": [
    "y_prediction =  LR.predict(X_test)\n",
    "y_prediction"
   ]
  },
  {
   "cell_type": "code",
   "execution_count": 358,
   "metadata": {
    "gather": {
     "logged": 1646272666002
    },
    "jupyter": {
     "outputs_hidden": false,
     "source_hidden": false
    },
    "nteract": {
     "transient": {
      "deleting": false
     }
    }
   },
   "outputs": [
    {
     "name": "stdout",
     "output_type": "stream",
     "text": [
      "r2 score is 0.0003933494583394648\n",
      "mean_sqrd_error is= 92.2605265518326\n",
      "root_mean_squared error of is= 9.605234330917314\n"
     ]
    }
   ],
   "source": [
    "from sklearn.metrics import r2_score\n",
    "from sklearn.metrics import mean_squared_error\n",
    "# predicting the accuracy score\n",
    "score=r2_score(y_test,y_prediction)\n",
    "print(\"r2 score is\",score)\n",
    "print(\"mean_sqrd_error is=\",mean_squared_error(y_test,y_prediction))\n",
    "print(\"root_mean_squared error of is=\",np.sqrt(mean_squared_error(y_test,y_prediction)))"
   ]
  },
  {
   "cell_type": "code",
   "execution_count": 380,
   "metadata": {
    "gather": {
     "logged": 1646274822094
    },
    "jupyter": {
     "outputs_hidden": false,
     "source_hidden": false
    },
    "nteract": {
     "transient": {
      "deleting": false
     }
    }
   },
   "outputs": [
    {
     "data": {
      "text/plain": [
       "Pipeline(steps=[('polynomialfeatures', PolynomialFeatures(degree=5)),\n",
       "                ('linearregression', LinearRegression())])"
      ]
     },
     "execution_count": 380,
     "metadata": {},
     "output_type": "execute_result"
    }
   ],
   "source": [
    "from sklearn.preprocessing import PolynomialFeatures\n",
    "from sklearn.pipeline import make_pipeline\n",
    "from sklearn.linear_model import LinearRegression\n",
    "degree=5\n",
    "polyreg=make_pipeline(PolynomialFeatures(degree),LinearRegression())\n",
    "polyreg.fit(X_train,y_train)"
   ]
  },
  {
   "cell_type": "code",
   "execution_count": 381,
   "metadata": {
    "gather": {
     "logged": 1646274823605
    },
    "jupyter": {
     "outputs_hidden": false,
     "source_hidden": false
    },
    "nteract": {
     "transient": {
      "deleting": false
     }
    }
   },
   "outputs": [
    {
     "data": {
      "text/plain": [
       "array([11.86968318, 12.44131063, 11.86797628, ..., 11.98322208,\n",
       "       11.92772898, 11.97279575])"
      ]
     },
     "execution_count": 381,
     "metadata": {},
     "output_type": "execute_result"
    }
   ],
   "source": [
    "y_prediction =  polyreg.predict(X_test)\n",
    "y_prediction"
   ]
  },
  {
   "cell_type": "code",
   "execution_count": 382,
   "metadata": {
    "gather": {
     "logged": 1646274825114
    },
    "jupyter": {
     "outputs_hidden": false,
     "source_hidden": false
    },
    "nteract": {
     "transient": {
      "deleting": false
     }
    }
   },
   "outputs": [
    {
     "name": "stdout",
     "output_type": "stream",
     "text": [
      "r2 score is 0.0004511438701818582\n",
      "mean_sqrd_error is= 92.25519231074344\n",
      "root_mean_squared error of is= 9.60495665324646\n"
     ]
    }
   ],
   "source": [
    "from sklearn.metrics import r2_score\n",
    "from sklearn.metrics import mean_squared_error\n",
    "# predicting the accuracy score\n",
    "score=r2_score(y_test,y_prediction)\n",
    "print(\"r2 score is\",score)\n",
    "print(\"mean_sqrd_error is=\",mean_squared_error(y_test,y_prediction))\n",
    "print(\"root_mean_squared error of is=\",np.sqrt(mean_squared_error(y_test,y_prediction)))"
   ]
  },
  {
   "cell_type": "code",
   "execution_count": 383,
   "metadata": {
    "gather": {
     "logged": 1646275581017
    },
    "jupyter": {
     "outputs_hidden": false,
     "source_hidden": false
    },
    "nteract": {
     "transient": {
      "deleting": false
     }
    }
   },
   "outputs": [],
   "source": [
    "from keras.models import Sequential\n",
    "from keras.layers import Dense"
   ]
  },
  {
   "cell_type": "code",
   "execution_count": 385,
   "metadata": {
    "gather": {
     "logged": 1646275624014
    },
    "jupyter": {
     "outputs_hidden": false,
     "source_hidden": false
    },
    "nteract": {
     "transient": {
      "deleting": false
     }
    }
   },
   "outputs": [],
   "source": [
    "model = Sequential()\n",
    "model.add(Dense(12, input_dim=2, activation='relu'))\n",
    "model.add(Dense(8, activation='relu'))\n",
    "model.add(Dense(1, activation='sigmoid'))"
   ]
  },
  {
   "cell_type": "code",
   "execution_count": 386,
   "metadata": {
    "gather": {
     "logged": 1646275644564
    },
    "jupyter": {
     "outputs_hidden": false,
     "source_hidden": false
    },
    "nteract": {
     "transient": {
      "deleting": false
     }
    }
   },
   "outputs": [],
   "source": [
    "model.compile(loss='binary_crossentropy', optimizer='adam', metrics=['accuracy'])"
   ]
  },
  {
   "cell_type": "code",
   "execution_count": null,
   "metadata": {
    "jupyter": {
     "outputs_hidden": false,
     "source_hidden": false
    },
    "nteract": {
     "transient": {
      "deleting": false
     }
    }
   },
   "outputs": [],
   "source": [
    "model.fit(X_train, y_train, epochs=150, batch_size=10)"
   ]
  }
 ],
 "metadata": {
  "accelerator": "TPU",
  "colab": {
   "authorship_tag": "ABX9TyN7MI5VPEIBfFhJ1RR/smWd",
   "collapsed_sections": [],
   "include_colab_link": true,
   "name": "Customer_Segmentation.ipynb",
   "provenance": [],
   "toc_visible": true
  },
  "kernel_info": {
   "name": "python3"
  },
  "kernelspec": {
   "display_name": "Python 3",
   "language": "python",
   "name": "python3"
  },
  "language_info": {
   "codemirror_mode": {
    "name": "ipython",
    "version": 3
   },
   "file_extension": ".py",
   "mimetype": "text/x-python",
   "name": "python",
   "nbconvert_exporter": "python",
   "pygments_lexer": "ipython3",
   "version": "3.8.1"
  },
  "microsoft": {
   "host": {
    "AzureML": {
     "notebookHasBeenCompleted": true
    }
   }
  },
  "nteract": {
   "version": "nteract-front-end@1.0.0"
  }
 },
 "nbformat": 4,
 "nbformat_minor": 4
}
